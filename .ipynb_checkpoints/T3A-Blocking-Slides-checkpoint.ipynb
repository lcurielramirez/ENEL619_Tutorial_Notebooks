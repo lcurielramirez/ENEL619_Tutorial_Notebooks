{
 "cells": [
  {
   "cell_type": "markdown",
   "metadata": {
    "slideshow": {
     "slide_type": "slide"
    }
   },
   "source": [
    "# Blocking\n",
    "\n",
    "## Introduction\n",
    "\n",
    "Blocking as an experimental strategy used to minimize the effect of experimental nuisances on our conclusions.\n",
    "\n",
    "The main principle is to arrange so that experimental units form groups (**blocks**) that are similar to one another. Typically this is done because we are certain there is a factor that already differentiates the blocks and we want to eliminate this from the experiment.\n",
    "\n",
    "An example could be the test of a new drug on patients. We will provide two treatments: drug and placebo. But we are unsure (and we do not care) about the gender of the patien affecting the results.\n",
    "\n",
    "Because the sex of the patient is a known nuissance we can use a blocking factor by ensuring there are both males and females on each group, accounting already for treatment variability between males and females. This reduces any variability coming from the sex and will lead to greater precision."
   ]
  },
  {
   "cell_type": "markdown",
   "metadata": {
    "slideshow": {
     "slide_type": "subslide"
    }
   },
   "source": [
    "Another very common example is caused by accessibility to measuring instruments. We may want to run the experiments efficiently by providing many different instruments to our operators but we know the instrument will have intrinsic variability even if calibrated.\n",
    "\n",
    "It is then possible to form blocks per instrument, ensuring that all factors get measured by all instruments and thus eliminating this nuissance from the analysis.\n",
    "\n",
    "The same would be applicable to using multiple operators when measuring, by ensuring all operators measure all factors, we can block for variability in their precision."
   ]
  },
  {
   "cell_type": "markdown",
   "metadata": {
    "slideshow": {
     "slide_type": "slide"
    }
   },
   "source": [
    "## CASE\n",
    "\n",
    "Let's come back to a similar case discussed for an experiment where we built bone phantoms.\n",
    "\n",
    "We have a recipe that is being working and we have distributed the recipe amoung 4 different hospitals so they can use it.\n",
    "\n",
    "It would seem however that there are some inconsistencies. We suspect that one or more CTs that are being used are faulty. However, each hospital is buying their own ingredients to make the phantoms and this may also affect the result. "
   ]
  },
  {
   "cell_type": "markdown",
   "metadata": {
    "slideshow": {
     "slide_type": "subslide"
    }
   },
   "source": [
    "## CASE\n",
    "\n",
    "We are trying to answer this question: **how can I check if the CTs are faulty if the phantoms are different as well?**\n",
    "\n",
    "So we will **block** the experiments to eliminate the nuissance factor for the phantoms being different, by making sure every hospital measures each other's phantoms at least once so that we can detect differences coming from the CTs.\n",
    "\n",
    "For this particular experiment we will have to transport some phantoms to all 4 hospitals. After this, I can have a conclusion: is there a faulty CT?"
   ]
  },
  {
   "cell_type": "markdown",
   "metadata": {
    "slideshow": {
     "slide_type": "subslide"
    }
   },
   "source": [
    "## Model\n",
    "\n",
    "1. We have **2 input factors (CT and phantom) with 4 possible levels** (CT 1-4; Phantom A-D)\n",
    "2. We measure as our **output factor** the density\n",
    "3. We have some **controllable factors**: same operator, phantom formulation will not change, ...\n",
    "4. We have some **uncontrollable factors**: room temperature when fabricating phantoms, batches for the materials, ...\n",
    "5. We have a **controllable factor** that is known to be a nuissance: the phantom batch\n",
    "6. We have a **factor of interest** that is the CT\n",
    "\n",
    "**Is the density affected by the CT when accounting from variability in the phantom batch?**"
   ]
  },
  {
   "cell_type": "markdown",
   "metadata": {
    "slideshow": {
     "slide_type": "subslide"
    }
   },
   "source": [
    "*When solving your assignment case, you will need to determine at least 3 possible controllable and uncontrollable factors that could affect your experiments*"
   ]
  },
  {
   "cell_type": "markdown",
   "metadata": {
    "slideshow": {
     "slide_type": "subslide"
    }
   },
   "source": [
    "\n",
    "## Randomization\n",
    "\n",
    "The first step for this experiment is that the imaging should be done randomly. \n",
    "\n",
    "Because we know there is an effect between phantoms we don’t need to randomize completely, but just within blocks.\n",
    "\n",
    "Which means that it won't matter if all the measurements in hospital 1 are made in the same order as in hospital 2, as long as we randomize in which order we go to those hospitals. This is particularly important as we can then perform the experiment by a single operator that travels with the 4 formulations to each place."
   ]
  },
  {
   "cell_type": "markdown",
   "metadata": {
    "slideshow": {
     "slide_type": "subslide"
    }
   },
   "source": [
    "*When solving your assignment case, you will need to determine at least 3 possible scenarios that could affect your experiment if you did not randomize the measurements*"
   ]
  },
  {
   "cell_type": "markdown",
   "metadata": {
    "slideshow": {
     "slide_type": "subslide"
    }
   },
   "source": [
    "We will use again a list of codes for each test (4 CTs) and randomize that list (example coded here)."
   ]
  },
  {
   "cell_type": "code",
   "execution_count": 1,
   "metadata": {
    "slideshow": {
     "slide_type": "fragment"
    }
   },
   "outputs": [
    {
     "name": "stdout",
     "output_type": "stream",
     "text": [
      "Conduct the measurements in the following order:\n",
      "['CT 1', 'CT 4', 'CT 2', 'CT 3']\n"
     ]
    }
   ],
   "source": [
    "# We need to import different packages that will allow to do math,\n",
    "# lineal algebra, numerical operations,\n",
    "# array operations and plotting\n",
    "\n",
    "import scipy as Sci\n",
    "import numpy as np\n",
    "import random as rd  #this is the random package in Python\n",
    "\n",
    "Code=['CT 1', 'CT 2', 'CT 3', 'CT 4'];\n",
    "\n",
    "rd.shuffle(Code)\n",
    "\n",
    "print('Conduct the measurements in the following order:')\n",
    "print(Code)   #every run of this code will give you a different result"
   ]
  },
  {
   "cell_type": "markdown",
   "metadata": {
    "slideshow": {
     "slide_type": "slide"
    }
   },
   "source": [
    "## RCBD \n",
    "\n",
    "Blocking is done by ensuring that the factors of interest are effected equally by the nuisance.\n",
    "\n",
    "In our example: we suspect nuisance from the phantom \n",
    "\n",
    "**Block**: the phantom results may not be uniform among hospitals, so we need to take 4 samples of phantoms and measure them on each CT\n",
    "\n",
    "This is called a **randomized complete block design** or **RCBD**"
   ]
  },
  {
   "cell_type": "markdown",
   "metadata": {
    "slideshow": {
     "slide_type": "subslide"
    }
   },
   "source": [
    "We place the factor to be studied as rows and the blocks as colums:\n",
    "  \n",
    ". |       Phantom            | \n",
    "-- |------------------------- | \n",
    "\n",
    "CT | A   | B   | C   | D   | \n",
    "-- |---- |---- |---- |---- |\n",
    "1  | 1617.50 | 1617.63 | 1618.25 | 1618.00 | \n",
    "2  | 1617.18 | 1617.78 | 1618.11 | 1617.33 | \n",
    "3  | 1618.30 | 1618.40 | 1618.60 | 1618.00 | \n",
    "4  | 1617.18 | 1617.78 | 1618.11 | 1617.33 | \n"
   ]
  },
  {
   "cell_type": "code",
   "execution_count": 2,
   "metadata": {
    "slideshow": {
     "slide_type": "subslide"
    }
   },
   "outputs": [],
   "source": [
    "DensityDetector1=[1617.50,1617.63,1618.25,1618.00]\n",
    "DensityDetector2=[1617.18,1617.78,1618.11,1617.33]\n",
    "DensityDetector3=[1618.30,1618.40,1618.60,1618.00]\n",
    "DensityDetector4=[1617.18,1617.78,1618.11,1617.33]"
   ]
  },
  {
   "cell_type": "markdown",
   "metadata": {
    "slideshow": {
     "slide_type": "slide"
    }
   },
   "source": [
    "## Visualizing your data\n",
    "\n",
    "Before running a comparative test you always need to visualize your data to determine if there are any outliers you should take care of and have an idea of your spread."
   ]
  },
  {
   "cell_type": "code",
   "execution_count": 3,
   "metadata": {
    "slideshow": {
     "slide_type": "subslide"
    }
   },
   "outputs": [
    {
     "data": {
      "image/png": "[encoded data removed]",
      "text/plain": [
       "<Figure size 432x288 with 1 Axes>"
      ]
     },
     "metadata": {
      "needs_background": "light"
     },
     "output_type": "display_data"
    }
   ],
   "source": [
    "%matplotlib inline\n",
    "\n",
    "# We need to import plotting packages\n",
    "import matplotlib.pyplot as plt\n",
    "\n",
    "plt.boxplot([DensityDetector1, DensityDetector4, DensityDetector3, DensityDetector4])\n",
    "plt.xticks([1, 2, 3, 4], ['CT1','CT2', 'CT3', 'CT4'])\n",
    "plt.ylabel('Density')\n",
    "plt.show()"
   ]
  },
  {
   "cell_type": "markdown",
   "metadata": {
    "slideshow": {
     "slide_type": "slide"
    }
   },
   "source": [
    "## Hypothesis Testing\n",
    "\n",
    "When using an RCBD the hypothesis testing is similar as always but the **model** is different.\n",
    "\n",
    "If we consider that the result we measure is \n",
    "\n",
    "$$y_{ij}=\\mu+\\tau_i+\\beta_j+\\epsilon_{ij}$$\n",
    "\n",
    "Where $\\tau_i$ represents variations per treatment we want to analyse (the CT here)\n",
    "\n",
    "And $\\beta_j$ represents variations per nuisance factor (the phantom here)\n",
    "\n",
    "And $\\mu$ is the mean considered the same for all \n",
    "\n",
    "And $\\epsilon_{ij}$ are small variations per experiment"
   ]
  },
  {
   "cell_type": "markdown",
   "metadata": {
    "slideshow": {
     "slide_type": "subslide"
    }
   },
   "source": [
    "We want to test the hypothesis that this $\\tau_i$ is non-existent $\\tau_1=\\tau_2=...\\tau_i=0$ meaning there are no differences between the CTs. \n",
    "\n",
    "If we reject that hypothesis then we know there is at least one factor where the population has a different mean and therefore the alternative hypothesis $H_1$ is valid.\n",
    "\n",
    "$$H_0: \\tau_1 = \\tau_2 = \\tau_3= \\tau_4= 0$$\n",
    "$$H_1: \\tau_i \\neq 0 ; \\text{for at least one i}$$\n",
    "\n",
    "And because we equally distributed phantoms on all CTs the $\\beta_j$ is equal everywhere, so it will get cancelled and it won't affect the test.\n",
    "\n",
    "**We will reject the null hypothesis $H_0$ if p<0.05**\n",
    "\n",
    "This means that there is less than 5% chance we made a mistake in rejecting the hypothesis and therefore we are quite certain that at least one CT is different."
   ]
  },
  {
   "cell_type": "markdown",
   "metadata": {
    "slideshow": {
     "slide_type": "subslide"
    }
   },
   "source": [
    "The way we account for this nuisance factor is that it will affect our degrees of freedom.\n",
    "\n",
    "We can account for this by using a 2-way ANOVA.\n",
    "\n",
    "You can check you the $F$ statistic is affected by the 2-way ANOVA and how this matches the equations discussed in lecture.\n",
    "\n",
    "We will need first to create a specific structure for our data using panda."
   ]
  },
  {
   "cell_type": "code",
   "execution_count": 4,
   "metadata": {
    "slideshow": {
     "slide_type": "subslide"
    }
   },
   "outputs": [
    {
     "name": "stdout",
     "output_type": "stream",
     "text": [
      "    id                    CT       Phantom      Density\n",
      "0    1  b'DensityDetector 1'  b'Phantom A'  1617.500000\n",
      "1    2  b'DensityDetector 1'  b'Phantom B'  1617.630005\n",
      "2    3  b'DensityDetector 1'  b'Phantom C'  1618.250000\n",
      "3    4  b'DensityDetector 1'  b'Phantom D'  1618.000000\n",
      "4    5  b'DensityDetector 2'  b'Phantom A'  1617.180054\n",
      "5    6  b'DensityDetector 2'  b'Phantom B'  1617.780029\n",
      "6    7  b'DensityDetector 2'  b'Phantom C'  1618.109985\n",
      "7    8  b'DensityDetector 2'  b'Phantom D'  1617.329956\n",
      "8    9  b'DensityDetector 3'  b'Phantom A'  1618.300049\n",
      "9   10  b'DensityDetector 3'  b'Phantom B'  1618.400024\n",
      "10  11  b'DensityDetector 3'  b'Phantom C'  1618.599976\n",
      "11  12  b'DensityDetector 3'  b'Phantom D'  1618.000000\n",
      "12  13  b'DensityDetector 4'  b'Phantom A'  1617.180054\n",
      "13  14  b'DensityDetector 4'  b'Phantom B'  1617.780029\n",
      "14  15  b'DensityDetector 4'  b'Phantom C'  1618.109985\n",
      "15  16  b'DensityDetector 4'  b'Phantom D'  1617.329956\n"
     ]
    }
   ],
   "source": [
    "import pandas as pd\n",
    "\n",
    "# Put into dataframe\n",
    "dta2 = np.rec.array([\n",
    "    (  1,  'DensityDetector 1', 'Phantom A', DensityDetector1[0]), (  2,  'DensityDetector 1', 'Phantom B', DensityDetector1[1]), \n",
    "    (  3,  'DensityDetector 1', 'Phantom C', DensityDetector1[2]), (  4,  'DensityDetector 1', 'Phantom D', DensityDetector1[3]), \n",
    "    (  5,  'DensityDetector 2', 'Phantom A', DensityDetector2[0]), (  6,  'DensityDetector 2', 'Phantom B', DensityDetector2[1]), \n",
    "    (  7,  'DensityDetector 2', 'Phantom C', DensityDetector2[2]), (  8,  'DensityDetector 2', 'Phantom D', DensityDetector2[3]), \n",
    "    (  9,  'DensityDetector 3', 'Phantom A', DensityDetector3[0]), ( 10,  'DensityDetector 3', 'Phantom B', DensityDetector3[1]), \n",
    "    ( 11,  'DensityDetector 3', 'Phantom C', DensityDetector3[2]), ( 12,  'DensityDetector 3', 'Phantom D', DensityDetector3[3]), \n",
    "    ( 13,  'DensityDetector 4', 'Phantom A', DensityDetector4[0]), ( 14,  'DensityDetector 4', 'Phantom B', DensityDetector4[1]), \n",
    "    ( 15,  'DensityDetector 4', 'Phantom C', DensityDetector4[2]), ( 16,  'DensityDetector 4', 'Phantom D', DensityDetector4[3])], \n",
    "   dtype=[('id', '<i4'), ('CT', '|S17'), ('Phantom', '|S15'), ('Density', '<f')])\n",
    "    \n",
    "df = pd.DataFrame(dta2)\n",
    "print(df)"
   ]
  },
  {
   "cell_type": "markdown",
   "metadata": {
    "slideshow": {
     "slide_type": "subslide"
    }
   },
   "source": [
    "In python, we make sure we are running a 2-way ANOVA by ensuring that the **model** used accounts for **both** factors (in our case the CT and the Phantom). So when we construct as we already did before our model using **ols** we will need to use a *CT + Phantom* model and not just CT or Phantom.\n",
    "\n",
    "And then running the ANOVA test and print the results:"
   ]
  },
  {
   "cell_type": "code",
   "execution_count": 5,
   "metadata": {
    "slideshow": {
     "slide_type": "subslide"
    }
   },
   "outputs": [
    {
     "name": "stderr",
     "output_type": "stream",
     "text": [
      "C:\\Users\\lcuri\\Anaconda3\\lib\\site-packages\\statsmodels\\compat\\pandas.py:49: FutureWarning: The Panel class is removed from pandas. Accessing it from the top-level namespace will also be removed in the next version\n",
      "  data_klasses = (pandas.Series, pandas.DataFrame, pandas.Panel)\n"
     ]
    },
    {
     "name": "stdout",
     "output_type": "stream",
     "text": [
      "           df    sum_sq   mean_sq          F    PR(>F)\n",
      "CT        3.0  1.401723  0.467241  10.571507  0.002628\n",
      "Phantom   3.0  1.226551  0.408850   9.250390  0.004116\n",
      "Residual  9.0  0.397783  0.044198        NaN       NaN\n"
     ]
    }
   ],
   "source": [
    "import statsmodels.api as sm\n",
    "from statsmodels.formula.api import ols\n",
    "from statsmodels.stats.anova import anova_lm\n",
    "\n",
    "model = ols('Density ~ CT + Phantom',df).fit()   #this ensures it is a 2-way ANOVA by using a model that considers\n",
    "                                                  #both factores CT and Phant\n",
    "\n",
    "anovaResults =  anova_lm(model, typ=1)\n",
    "\n",
    "print(anovaResults)"
   ]
  },
  {
   "cell_type": "markdown",
   "metadata": {
    "slideshow": {
     "slide_type": "subslide"
    }
   },
   "source": [
    "From these results we can conclude that both the CT and the phantom are having an effect on the density since the value of **p** (PR(>F) is significant for both factors. \n",
    "\n",
    "As experimenters we suspected already that the phantom may have an effect and it was why we blocked the factor by balancing its contribution through the CTs, but this may have just told us the phantom did not really have an effect. \n",
    "\n",
    "**Beware of two possible errors you can make when using ANOVA in a RCBD:**\n",
    "\n",
    "1. You could use the wrong model before ANOVA by only entering CT as the factor\n",
    "2. You could decide to merge your data thinking the phantom should not matter and then run aANOVA\n",
    "\n",
    "In that case, the contribution from the CTs may not have been detected or your calculated significance will be erroneous. \n",
    "\n",
    "**The code below will show what happens if the wrong model was used**"
   ]
  },
  {
   "cell_type": "code",
   "execution_count": 6,
   "metadata": {
    "slideshow": {
     "slide_type": "subslide"
    }
   },
   "outputs": [
    {
     "name": "stdout",
     "output_type": "stream",
     "text": [
      "            sum_sq    df         F    PR(>F)\n",
      "CT        1.401723   3.0  3.451811  0.051455\n",
      "Residual  1.624334  12.0       NaN       NaN\n"
     ]
    }
   ],
   "source": [
    "modelerroneous = ols('Density ~ CT',df).fit()   #by only using the factor CT this will become a 1-way ANOVA\n",
    "    \n",
    "anovaResultserroneous =  anova_lm(modelerroneous, typ=2)\n",
    "\n",
    "print(anovaResultserroneous)"
   ]
  },
  {
   "cell_type": "markdown",
   "metadata": {
    "slideshow": {
     "slide_type": "fragment"
    }
   },
   "source": [
    "From these results we would have concluded that the CT did not have a significant effect (p>0.05). "
   ]
  },
  {
   "cell_type": "markdown",
   "metadata": {
    "slideshow": {
     "slide_type": "subslide"
    }
   },
   "source": [
    "The same erroneous result is obtained if we combine the data so that the Phantom effect dissapears. **The code below will show the erroneous merging of the data**"
   ]
  },
  {
   "cell_type": "code",
   "execution_count": 7,
   "metadata": {
    "slideshow": {
     "slide_type": "fragment"
    }
   },
   "outputs": [
    {
     "name": "stdout",
     "output_type": "stream",
     "text": [
      "    id             CTPhantom      Density\n",
      "0    1  b'DensityDetector 1'  1617.500000\n",
      "1    2  b'DensityDetector 1'  1617.630005\n",
      "2    3  b'DensityDetector 1'  1618.250000\n",
      "3    4  b'DensityDetector 1'  1618.000000\n",
      "4    5  b'DensityDetector 2'  1617.180054\n",
      "5    6  b'DensityDetector 2'  1617.780029\n",
      "6    7  b'DensityDetector 2'  1618.109985\n",
      "7    8  b'DensityDetector 2'  1617.329956\n",
      "8    9  b'DensityDetector 3'  1618.300049\n",
      "9   10  b'DensityDetector 3'  1618.400024\n",
      "10  11  b'DensityDetector 3'  1618.599976\n",
      "11  12  b'DensityDetector 3'  1618.000000\n",
      "12  13  b'DensityDetector 4'  1617.180054\n",
      "13  14  b'DensityDetector 4'  1617.780029\n",
      "14  15  b'DensityDetector 4'  1618.109985\n",
      "15  16  b'DensityDetector 4'  1617.329956\n"
     ]
    }
   ],
   "source": [
    "dta2erroneous = np.rec.array([\n",
    "    (  1,  'DensityDetector 1', DensityDetector1[0]), (  2,  'DensityDetector 1', DensityDetector1[1]), \n",
    "    (  3,  'DensityDetector 1', DensityDetector1[2]), (  4,  'DensityDetector 1', DensityDetector1[3]), \n",
    "    (  5,  'DensityDetector 2', DensityDetector2[0]), (  6,  'DensityDetector 2', DensityDetector2[1]), \n",
    "    (  7,  'DensityDetector 2', DensityDetector2[2]), (  8,  'DensityDetector 2', DensityDetector2[3]), \n",
    "    (  9,  'DensityDetector 3', DensityDetector3[0]), ( 10,  'DensityDetector 3', DensityDetector3[1]), \n",
    "    ( 11,  'DensityDetector 3', DensityDetector3[2]), ( 12,  'DensityDetector 3', DensityDetector3[3]), \n",
    "    ( 13,  'DensityDetector 4', DensityDetector4[0]), ( 14,  'DensityDetector 4', DensityDetector4[1]), ( 15,  'DensityDetector 4', DensityDetector4[2]), ( 16,  'DensityDetector 4', DensityDetector4[3])], \n",
    "   dtype=[('id', '<i4'), ('CTPhantom', '|S27'), ('Density', '<f')])   \n",
    "dferroneous = pd.DataFrame(dta2erroneous)\n",
    "print(dferroneous)"
   ]
  },
  {
   "cell_type": "markdown",
   "metadata": {
    "slideshow": {
     "slide_type": "subslide"
    }
   },
   "source": [
    "And the ANOVA result obtained **showing again an erroneous conclusion that the CT has no significant effect (p>0.05)**"
   ]
  },
  {
   "cell_type": "code",
   "execution_count": 8,
   "metadata": {
    "slideshow": {
     "slide_type": "fragment"
    }
   },
   "outputs": [
    {
     "name": "stdout",
     "output_type": "stream",
     "text": [
      "             sum_sq    df         F    PR(>F)\n",
      "CTPhantom  1.401723   3.0  3.451811  0.051455\n",
      "Residual   1.624334  12.0       NaN       NaN\n"
     ]
    }
   ],
   "source": [
    "modeldataerroneous = ols('Density ~ CTPhantom',dferroneous).fit()   #the data was combined \n",
    "\n",
    "anovaResultserroneous =  anova_lm(modeldataerroneous, typ=2)\n",
    "\n",
    "print(anovaResultserroneous)"
   ]
  },
  {
   "cell_type": "markdown",
   "metadata": {
    "slideshow": {
     "slide_type": "subslide"
    }
   },
   "source": [
    "**You should then be careful with model that you need to use for an RCBD, it should account for the addition of both effects !!!**"
   ]
  },
  {
   "cell_type": "markdown",
   "metadata": {
    "slideshow": {
     "slide_type": "subslide"
    }
   },
   "source": [
    "When using the right model we concluded that both the CT and the phantom are having an effect on the density since the value of **p** (PR(>F) is significant for both factors. \n",
    "\n",
    "Using Tukey HSD test we can determine which of the CTs is the one that is significantly different. \n",
    "\n",
    "**Note that if you run a standard Tukey HSD it will merge the data which we just explained is erroneous!! The current libraries for Multicomparison do not have any way to correct this so we will use the theory to substract the effect of the phantom appropriately before running this multi-comparison**\n",
    "\n",
    "To correct from data merging we need to substract from the effect measured by our factor of interest (the CT) the averaged effect for all phantoms. This removes the $\\beta_j$ contribution to the mean as shown in the lecture notes.\n",
    "\n",
    "Some packages such as R or SPCC or with the right parameters Matlab do this already for their multi-comparison. In Python this has not been implemented in the **Multicomparison** so this is a workaround is needed, but hopefully it will be fixed soon. For now, see the code below:"
   ]
  },
  {
   "cell_type": "code",
   "execution_count": 9,
   "metadata": {
    "slideshow": {
     "slide_type": "subslide"
    }
   },
   "outputs": [
    {
     "name": "stdout",
     "output_type": "stream",
     "text": [
      "            Multiple Comparison of Means - Tukey HSD,FWER=0.05           \n",
      "=========================================================================\n",
      "       group1               group2        meandiff  lower   upper  reject\n",
      "-------------------------------------------------------------------------\n",
      "b'DensityDetector 1' b'DensityDetector 2'  -0.245  -0.6273  0.1373 False \n",
      "b'DensityDetector 1' b'DensityDetector 3'   0.48    0.0977  0.8623  True \n",
      "b'DensityDetector 1' b'DensityDetector 4'  -0.245  -0.6273  0.1373 False \n",
      "b'DensityDetector 2' b'DensityDetector 3'  0.725    0.3427  1.1073  True \n",
      "b'DensityDetector 2' b'DensityDetector 4'   0.0    -0.3823  0.3823 False \n",
      "b'DensityDetector 3' b'DensityDetector 4'  -0.725  -1.1073 -0.3427  True \n",
      "-------------------------------------------------------------------------\n",
      "p values: [0.27741536 0.01326702 0.27741536 0.001      0.9        0.001     ]\n"
     ]
    }
   ],
   "source": [
    "from statsmodels.stats.multicomp import MultiComparison\n",
    "\n",
    "#The multiple comparison testing is done between data without the average contribution from the phantom\n",
    "mc = MultiComparison(df['Density'] - df.groupby(dta2['Phantom'])['Density'].transform('mean'), df['CT'])\n",
    "# df.groupby(dta2['Phantom'])['Density'].transform('mean') is averaging the grouped data for each phantom \n",
    "# so we test density once we remove this average phantom contribution \n",
    "tukey_res = mc.tukeyhsd()\n",
    "summary = tukey_res.summary()\n",
    "print(summary)\n",
    "\n",
    "#The p-values associated with those hypothesis\n",
    "from statsmodels.stats.libqsturng import psturng\n",
    "p_values = psturng(np.abs(tukey_res.meandiffs / tukey_res.std_pairs), len(tukey_res.groupsunique), tukey_res.df_total)\n",
    "print(\"p values:\", p_values)"
   ]
  },
  {
   "cell_type": "markdown",
   "metadata": {
    "slideshow": {
     "slide_type": "subslide"
    }
   },
   "source": [
    "And we can see that Detector 3 is significantly different to all others and it is therefore the one we should eliminate.\n",
    "\n",
    "We can show this result graphically as we did before in ANOVA."
   ]
  },
  {
   "cell_type": "code",
   "execution_count": 10,
   "metadata": {
    "slideshow": {
     "slide_type": "fragment"
    }
   },
   "outputs": [
    {
     "data": {
      "image/png": "[encoded data removed]",
      "text/plain": [
       "<Figure size 720x432 with 1 Axes>"
      ]
     },
     "execution_count": 10,
     "metadata": {},
     "output_type": "execute_result"
    },
    {
     "data": {
      "image/png": "[encoded data removed]",
      "text/plain": [
       "<Figure size 720x432 with 1 Axes>"
      ]
     },
     "metadata": {
      "needs_background": "light"
     },
     "output_type": "display_data"
    }
   ],
   "source": [
    "tukey_res.plot_simultaneous(ylabel= \"CT\", xlabel= \"Density\")"
   ]
  },
  {
   "cell_type": "markdown",
   "metadata": {
    "slideshow": {
     "slide_type": "subslide"
    }
   },
   "source": [
    "Again, note that runningif we had run the Tukey HSD as follows will erroneously merge data and give the wrong answer as if no CT is significantly different to any other."
   ]
  },
  {
   "cell_type": "code",
   "execution_count": 11,
   "metadata": {
    "slideshow": {
     "slide_type": "fragment"
    }
   },
   "outputs": [
    {
     "name": "stdout",
     "output_type": "stream",
     "text": [
      "           Multiple Comparison of Means - Tukey HSD,FWER=0.05           \n",
      "========================================================================\n",
      "       group1               group2        meandiff  lower  upper  reject\n",
      "------------------------------------------------------------------------\n",
      "b'DensityDetector 1' b'DensityDetector 2'  -0.245  -1.0175 0.5275 False \n",
      "b'DensityDetector 1' b'DensityDetector 3'   0.48   -0.2925 1.2525 False \n",
      "b'DensityDetector 1' b'DensityDetector 4'  -0.245  -1.0175 0.5275 False \n",
      "b'DensityDetector 2' b'DensityDetector 3'  0.725   -0.0475 1.4975 False \n",
      "b'DensityDetector 2' b'DensityDetector 4'   0.0    -0.7725 0.7725 False \n",
      "b'DensityDetector 3' b'DensityDetector 4'  -0.725  -1.4975 0.0475 False \n",
      "------------------------------------------------------------------------\n",
      "\n",
      "p values: [0.76574782 0.30083228 0.76574782 0.06840603 0.9        0.06840603]\n"
     ]
    }
   ],
   "source": [
    "#If we had run the Tukey HSD without doing that subtraction the result is the same as for merged data\n",
    "mcerroneous = MultiComparison(df['Density'], df['CT'])\n",
    "tukey_res_error = mcerroneous.tukeyhsd()\n",
    "summaryerroneous = tukey_res_error.summary()\n",
    "print(summaryerroneous)\n",
    "#If we want the p-values associated with those hypothesis\n",
    "p_values = psturng(np.abs(tukey_res_error.meandiffs / tukey_res_error.std_pairs), len(tukey_res_error.groupsunique), tukey_res_error.df_total)\n",
    "print()\n",
    "print(\"p values:\", p_values)"
   ]
  },
  {
   "cell_type": "markdown",
   "metadata": {
    "slideshow": {
     "slide_type": "slide"
    }
   },
   "source": [
    "## Statistical Power\n",
    "\n",
    "As for other ANOVA tests we can do power calculations to answer:\n",
    "\n",
    "1. How sure am I that if I was correct in **not** rejecting the null hypothesis? **Type II error**\n",
    "2. How many samples would I have needed if I wanted to detect a specific difference\n",
    "\n",
    "We can use the ROC graphs ensuring we use the right degrees of freedom, or we can use the functions in Python.\n",
    "\n",
    "Note that the degrees of freedom are in the ANOVA table, the numerator is related to the factor of interest, the denominator to the *Residual*. Also note that if you erroneously used a 1-way ANOVA or combined the data, those degrees of freedom will be erroneous as well !"
   ]
  },
  {
   "cell_type": "code",
   "execution_count": 12,
   "metadata": {
    "slideshow": {
     "slide_type": "subslide"
    }
   },
   "outputs": [
    {
     "name": "stdout",
     "output_type": "stream",
     "text": [
      "           df    sum_sq   mean_sq          F    PR(>F)\n",
      "CT        3.0  1.401723  0.467241  10.571507  0.002628\n",
      "Phantom   3.0  1.226551  0.408850   9.250390  0.004116\n",
      "Residual  9.0  0.397783  0.044198        NaN       NaN\n",
      "             sum_sq    df         F    PR(>F)\n",
      "CTPhantom  1.401723   3.0  3.451811  0.051455\n",
      "Residual   1.624334  12.0       NaN       NaN\n"
     ]
    }
   ],
   "source": [
    "print(anovaResults)\n",
    "print(anovaResultserroneous)"
   ]
  },
  {
   "cell_type": "markdown",
   "metadata": {
    "slideshow": {
     "slide_type": "subslide"
    }
   },
   "source": [
    "For power calculations we will need to calculate the **effect size**, which is defined by the $\\eta^2$. We will calculate this value here for the whole table. \n",
    "\n",
    "Note that for each factor this is obtained from:\n",
    "\n",
    "$$\\eta^2=\\frac{SS_{factor}}{SS_{factor}+SS_{error}}$$\n",
    "\n",
    "Remember the $SS_{error}$ is the *Residual*\n",
    "\n",
    "We will calculate $\\eta^2$ for each of the factors."
   ]
  },
  {
   "cell_type": "code",
   "execution_count": 13,
   "metadata": {
    "slideshow": {
     "slide_type": "subslide"
    }
   },
   "outputs": [
    {
     "name": "stdout",
     "output_type": "stream",
     "text": [
      "           df    sum_sq   mean_sq          F    PR(>F)    eta_sq\n",
      "CT        3.0  1.401723  0.467241  10.571507  0.002628  0.778949\n",
      "Phantom   3.0  1.226551  0.408850   9.250390  0.004116  0.755110\n",
      "Residual  9.0  0.397783  0.044198        NaN       NaN       NaN\n"
     ]
    }
   ],
   "source": [
    "# We first extract SS_error from the ANOVA table\n",
    "SS_error = anovaResults[-1:]['sum_sq'][0]   # the last row is -1 and it is the Residuals\n",
    "\n",
    "# Then calculate eta_sqare with the formula for all factors (0:one less of the total rows as those are Resiguals)\n",
    "eta_sq = anovaResults[0:len(anovaResults)-1]['sum_sq']/(anovaResults[0:len(anovaResults)-1]['sum_sq']+SS_error)\n",
    "\n",
    "# This code will add a column to the ANOVA results with the EtaSquare \n",
    "anovaResults['eta_sq'] = eta_sq\n",
    "\n",
    "print(anovaResults)"
   ]
  },
  {
   "cell_type": "markdown",
   "metadata": {
    "slideshow": {
     "slide_type": "subslide"
    }
   },
   "source": [
    "With the effect size $\\eta^2$ can be then used to perform a ANOVA Power test. \n",
    "\n",
    "Note that for now, Python **does not** have a power calculation function that accounts for RCBD, which requires a 2-way ANOVA. What we have been using until now for power is **only valid for 1-way ANOVA**.\n",
    "\n",
    "There are many calculators online that you could use now that you have your $\\eta^2$ which is your effect. \n",
    "\n",
    "But another great option is to use one of the most powerful statistics language **R. R** is a great tool for statistics although it requires often quite a bit of training to use as they use often statistic terms. But if you have the name of the function to run you can invoke it from Python.\n",
    "\n",
    "Note that to do this, you need to have R installed in your environment ! \n",
    "\n",
    "As an example here I will run this power calculation in R:"
   ]
  },
  {
   "cell_type": "code",
   "execution_count": 14,
   "metadata": {
    "scrolled": true,
    "slideshow": {
     "slide_type": "subslide"
    }
   },
   "outputs": [
    {
     "name": "stdout",
     "output_type": "stream",
     "text": [
      "\n",
      "\r\n",
      "     Balanced two-way analysis of variance power calculation \n",
      "\r\n",
      "\n",
      "\r\n",
      "              a = 4\n",
      "\r\n",
      "              b = 4\n",
      "\r\n",
      "            n.A = 1\n",
      "\r\n",
      "            n.B = 1\n",
      "\r\n",
      "      sig.level = 0.05\n",
      "\r\n",
      "        power.A = 0.5427535\n",
      "\r\n",
      "        power.B = 0.51522\n",
      "\r\n",
      "          power = 0.51522\n",
      "\r\n",
      "\n",
      "\r\n",
      "NOTE: power is the minimum power among two factors\n",
      "\r\n",
      "\n",
      "\n"
     ]
    },
    {
     "name": "stderr",
     "output_type": "stream",
     "text": [
      "C:\\Users\\lcuri\\Anaconda3\\lib\\site-packages\\rpy2\\robjects\\pandas2ri.py:14: FutureWarning: pandas.core.index is deprecated and will be removed in a future version.  The public classes are available in the top-level namespace.\n",
      "  from pandas.core.index import Index as PandasIndex\n"
     ]
    }
   ],
   "source": [
    "# We first export a package rpy2 that allows to run R within Python\n",
    "%load_ext rpy2.ipython\n",
    "# and the robject that will let me invoke R objects\n",
    "import rpy2.robjects as robjects\n",
    "\n",
    "#finally, I prepare myself the string that will be passed to run to R\n",
    "#note that I will manually enter here for simplicity the values from my ANOVA table but there\n",
    "#are ways to do this in the program from your variables!\n",
    "#this will calculate the power for 4 groups in factor A (CT) and 4 groups in factor B (Phantom)\n",
    "#with only one sample per group per factor and the effect size calculated before\n",
    "rstring=\"\"\"\n",
    "library(pwr2)\n",
    "pwr.2way(a=4, b=4, alpha=0.05, size.A=1, size.B=1, f.A=0.778949, f.B=0.755110)\n",
    "\"\"\"\n",
    "\n",
    "#and invoke R\n",
    "rfunc=robjects.r(rstring)\n",
    "#finally, I print what R obtained as a result\n",
    "print(rfunc)"
   ]
  },
  {
   "cell_type": "markdown",
   "metadata": {
    "slideshow": {
     "slide_type": "subslide"
    }
   },
   "source": [
    "R is telling us that the power of this test was 54.3% for the CT factor and 51.5% for the Phantom factor. This is quite low as power and if we had not found a difference there is higher probability that we made the wrong decision.\n",
    "\n",
    "It is now important to determine how many samples we would need if we want to increase this power.\n",
    "\n",
    "We can use R again as we need a 2-way ANOVA sample calculation."
   ]
  },
  {
   "cell_type": "code",
   "execution_count": 15,
   "metadata": {
    "slideshow": {
     "slide_type": "subslide"
    }
   },
   "outputs": [
    {
     "name": "stdout",
     "output_type": "stream",
     "text": [
      "\n",
      "\r\n",
      "     Balanced two-way analysis of variance sample size adjustment \n",
      "\r\n",
      "\n",
      "\r\n",
      "              a = 4\n",
      "\r\n",
      "              b = 4\n",
      "\r\n",
      "      sig.level = 0.05\n",
      "\r\n",
      "          power = 0.8\n",
      "\r\n",
      "              n = 2\n",
      "\r\n",
      "\n",
      "\r\n",
      "NOTE: n is number in each group, total sample = 32\n",
      "\r\n",
      "\n",
      "\n"
     ]
    }
   ],
   "source": [
    "# Let's answer question 2: what is the sample size that I need to detect a similar difference in means with the pooled \n",
    "# standard deviation that we have observed from previous experiments but a power of 80%?\n",
    "\n",
    "#Since the R packages are already imported, I prepare the string that will be passed to run to R\n",
    "#This will calculate the sample size for 4 groups in factor A (CT) and 4 groups in factor B (Phantom)\n",
    "#withthe effect size calculated before required for a power of 80% which is a beta of 0.2\n",
    "#needs B=100 that is the number of iterations the alorithm will use\n",
    "rstring=\"\"\"\n",
    "library(pwr2)\n",
    "ss.2way(a=4, b=4, alpha=0.05, beta=0.2, f.A=0.778949, f.B=0.755110, B=100)\n",
    "\"\"\"\n",
    "\n",
    "#and invoke R\n",
    "rfunc=robjects.r(rstring)\n",
    "#finally, I print what R obtained as a result\n",
    "print(rfunc)"
   ]
  },
  {
   "cell_type": "markdown",
   "metadata": {
    "slideshow": {
     "slide_type": "subslide"
    }
   },
   "source": [
    "R is telling us that to have a 80% power we need to increase to at least 2 samples per group. This is expected as we knew that the power is only ~50% with a single sample."
   ]
  },
  {
   "cell_type": "markdown",
   "metadata": {
    "slideshow": {
     "slide_type": "subslide"
    }
   },
   "source": [
    "\n",
    "## Activity 1: investigate how to run a 2-way ANOVA test in R and use the code above to check our answers from before\n",
    "\n",
    "## Activity 2: use Python to generate the string and take from our ANOVA table the effect value instead of the manual entry that was used here"
   ]
  },
  {
   "cell_type": "markdown",
   "metadata": {
    "slideshow": {
     "slide_type": "slide"
    }
   },
   "source": [
    "## RCBD for Robust Formulations\n",
    "\n",
    "One of the most popular uses of RCBD in engineering is to check for robust formulations. This is equivalent to answering a question: ***which factor is affecting ALL results?*** Then this factor can be the one to be strictly controlled to have a uniform formulation.\n",
    "\n",
    "We could imagine that this case is only checking for multiple factors and it would be if the formulation is to be unique. But if we want to have a formulation that is controlled by a known factor and no other will affect it, we need to block.\n",
    "\n",
    "In other words: I have a recipe that gives the desired result depending on how much of an ingredient I add, and I need to make sure this is always the case *even if there are other factors involved*. This is when an RCBD is needed."
   ]
  },
  {
   "cell_type": "markdown",
   "metadata": {
    "slideshow": {
     "slide_type": "subslide"
    }
   },
   "source": [
    "## CASE\n",
    "\n",
    "We have seen from the las case that the phantom is having an effect on the density. We know that the density should be affected by the agarose content that we use in fabrication but it would seem that other factors are affecting this result. It would be advisable to find out what is the factor causing the changes so we can control the recipe by just changing the agarose content. \n",
    "\n",
    "We have determined there may be 4 possible factors affecting the result:\n",
    "1. Temperature overshooting over $90^oC$ while preparing the mixture\n",
    "2. Cooling down the phantom in a fridge vs at room temperature\n",
    "3. Using water that is highly pure or only filtered\n",
    "4. Using a mould that is coated or not\n",
    "\n",
    "Because we have $2^4 = 16$ combinations. We could try them all, but for an initial experiment we decide to try 5 possibilities and see if any of them is really different to the others."
   ]
  },
  {
   "cell_type": "markdown",
   "metadata": {
    "slideshow": {
     "slide_type": "subslide"
    }
   },
   "source": [
    "* Combination 1: Overshoot, fridge cooling, pure water, coated mould\n",
    "* Combination 2: No overshoot, cooling in a fridge, pure water, no coating\n",
    "* Combination 3: Overshoot, fridge cooling, normal water, coating\n",
    "* Combination 4: Overshoot, room temperature cooling, normal water, no coating\n",
    "* Combination 5: No overshoot, room temperature cooling, pure water, no coating\n",
    "\n",
    "But since we need to make sure that those combinations are indeed afecting us **independently from the agarose content** we need to **block** for the agarose content and therefore we use an **RCBD**."
   ]
  },
  {
   "cell_type": "markdown",
   "metadata": {
    "slideshow": {
     "slide_type": "subslide"
    }
   },
   "source": [
    "## Model\n",
    "\n",
    "1. We have **5 input factors with 4 possible levels** (C1, C2, C3, C4, C5; phantoms made for 4 different agarose content)\n",
    "2. We measure as our **output factor** the density\n",
    "3. We have some **controllable factors**: same operator, ingredients, CT for measurements...\n",
    "4. We have some **uncontrollable factors**: room temperature where ingredients are kept, batches of the ingredients ...\n",
    "5. We have a **controllable factor** that we need to vary to ensure robust results: the agarose content\n",
    "\n",
    "**Is the density affected by any combination of factors when accounting from the desired changes in agarose content?**"
   ]
  },
  {
   "cell_type": "markdown",
   "metadata": {
    "slideshow": {
     "slide_type": "subslide"
    }
   },
   "source": [
    "\n",
    "## Randomization\n",
    "\n",
    "The first step for this experiment is that the imaging should be done randomly. \n",
    "\n",
    "Because we know there is an effect between agarose content we don’t need to randomize completely, but just within blocks.\n",
    "\n",
    "Which means that it won't matter if all the measurements for 1% agarose are all done at the same time, as long as the combination of factors are randomly tested. "
   ]
  },
  {
   "cell_type": "markdown",
   "metadata": {
    "slideshow": {
     "slide_type": "subslide"
    }
   },
   "source": [
    "We place the factor to be studied as rows (combinations that may be affecting us) and the blocks as columns (agarose percentage):\n",
    "  \n",
    ".  |       Agarose            | \n",
    "-- |------------------------- | \n",
    "\n",
    "Combo |  2%      | 3%      | 4%      | 5%      |\n",
    "----- |--------- |-------- |-------- |-------- |\n",
    "1     |  1617.50 | 1617.63 | 1618.25 | 1618.00 |\n",
    "2     |  1617.18 | 1617.78 | 1618.11 | 1617.33 |\n",
    "3     |  1618.30 | 1618.40 | 1618.60 | 1618.00 |\n",
    "4     |  1617.18 | 1617.78 | 1618.11 | 1617.33 |\n",
    "5     |  1617.18 | 1617.78 | 1618.11 | 1617.33 |"
   ]
  },
  {
   "cell_type": "code",
   "execution_count": 16,
   "metadata": {
    "slideshow": {
     "slide_type": "subslide"
    }
   },
   "outputs": [],
   "source": [
    "DensityCombination1=[1617.50,1617.63,1618.25,1618.00]\n",
    "DensityCombination2=[1617.18,1617.78,1618.11,1617.33]\n",
    "DensityCombination3=[1618.30,1618.40,1618.60,1618.00]\n",
    "DensityCombination4=[1617.18,1617.78,1618.11,1617.33]\n",
    "DensityCombination5=[1617.18,1617.78,1618.11,1617.33]"
   ]
  },
  {
   "cell_type": "markdown",
   "metadata": {
    "slideshow": {
     "slide_type": "subslide"
    }
   },
   "source": [
    "## Hypothesis Testing\n",
    "\n",
    "We will be using an RCBD the hypothesis testing.\n",
    "\n",
    "$$y_{ij}=\\mu+\\tau_i+\\beta_j+\\epsilon_{ij}$$\n",
    "\n",
    "To test the hypothesis that this $\\tau_i$ is non-existent $\\tau_1=\\tau_2=...\\tau_i=0$ meaning there are no differences between the combinations. If we reject that hypothesis then we know there is at least one combination that affects and the alternative hypothesis $H_1$ is valid.\n",
    "\n",
    "$$H_0: \\tau_1 = \\tau_2 = \\tau_3= \\tau_4= 0$$\n",
    "$$H_1: \\tau_i \\neq 0 ; \\text{for at least one i}$$\n",
    "\n",
    "And because we equally distributed agarose the $\\beta_j$ is equal everywhere, so it will get cancelled and it won't affect the test. **We will reject the null hypothesis $H_0$ if p<0.05**. This means that there is less than 5% chance we made a mistake in rejecting the hypothesis and therefore we are quite certain that at least one combination is affecting the result."
   ]
  },
  {
   "cell_type": "code",
   "execution_count": 17,
   "metadata": {
    "slideshow": {
     "slide_type": "subslide"
    }
   },
   "outputs": [
    {
     "name": "stdout",
     "output_type": "stream",
     "text": [
      "    id       Combination       Agarose      Density\n",
      "0    1  b'Combination 1'  b'Agarose 2'  1617.500000\n",
      "1    2  b'Combination 1'  b'Agarose 3'  1617.630005\n",
      "2    3  b'Combination 1'  b'Agarose 4'  1618.250000\n",
      "3    4  b'Combination 1'  b'Agarose 5'  1618.000000\n",
      "4    5  b'Combination 2'  b'Agarose 2'  1617.180054\n",
      "5    6  b'Combination 2'  b'Agarose 3'  1617.780029\n",
      "6    7  b'Combination 2'  b'Agarose 4'  1618.109985\n",
      "7    8  b'Combination 2'  b'Agarose 5'  1617.329956\n",
      "8    9  b'Combination 3'  b'Agarose 2'  1618.300049\n",
      "9   10  b'Combination 3'  b'Agarose 3'  1618.400024\n",
      "10  11  b'Combination 3'  b'Agarose 4'  1618.599976\n",
      "11  12  b'Combination 3'  b'Agarose 5'  1618.000000\n",
      "12  13  b'Combination 4'  b'Agarose 2'  1617.180054\n",
      "13  14  b'Combination 4'  b'Agarose 3'  1617.780029\n",
      "14  15  b'Combination 4'  b'Agarose 4'  1618.109985\n",
      "15  16  b'Combination 4'  b'Agarose 5'  1617.329956\n",
      "16  17  b'Combination 5'  b'Agarose 2'  1617.180054\n",
      "17  18  b'Combination 5'  b'Agarose 3'  1617.780029\n",
      "18  19  b'Combination 5'  b'Agarose 4'  1618.109985\n",
      "19  20  b'Combination 5'  b'Agarose 5'  1617.329956\n"
     ]
    }
   ],
   "source": [
    "import pandas as pd\n",
    "\n",
    "# Put into dataframe\n",
    "dta2 = np.rec.array([\n",
    "    (  1,  'Combination 1', 'Agarose 2', DensityCombination1[0]), (  2,  'Combination 1', 'Agarose 3', DensityCombination1[1]), \n",
    "    (  3,  'Combination 1', 'Agarose 4', DensityCombination1[2]), (  4,  'Combination 1', 'Agarose 5', DensityCombination1[3]), \n",
    "    (  5,  'Combination 2', 'Agarose 2', DensityCombination2[0]), (  6,  'Combination 2', 'Agarose 3', DensityCombination2[1]), \n",
    "    (  7,  'Combination 2', 'Agarose 4', DensityCombination2[2]), (  8,  'Combination 2', 'Agarose 5', DensityCombination2[3]), \n",
    "    (  9,  'Combination 3', 'Agarose 2', DensityCombination3[0]), ( 10,  'Combination 3', 'Agarose 3', DensityCombination3[1]), \n",
    "    ( 11,  'Combination 3', 'Agarose 4', DensityCombination3[2]), ( 12,  'Combination 3', 'Agarose 5', DensityCombination3[3]), \n",
    "    ( 13,  'Combination 4', 'Agarose 2', DensityCombination4[0]), ( 14,  'Combination 4', 'Agarose 3', DensityCombination4[1]), \n",
    "    ( 15,  'Combination 4', 'Agarose 4', DensityCombination4[2]), ( 16,  'Combination 4', 'Agarose 5', DensityCombination4[3]), \n",
    "    ( 17,  'Combination 5', 'Agarose 2', DensityCombination5[0]), ( 18,  'Combination 5', 'Agarose 3', DensityCombination5[1]), \n",
    "    ( 19,  'Combination 5', 'Agarose 4', DensityCombination5[2]), ( 20,  'Combination 5', 'Agarose 5', DensityCombination5[3])], \n",
    "   dtype=[('id', '<i4'), ('Combination', '|S17'), ('Agarose', '|S15'), ('Density', '<f')])\n",
    "    \n",
    "df = pd.DataFrame(dta2)\n",
    "print(df)"
   ]
  },
  {
   "cell_type": "markdown",
   "metadata": {
    "slideshow": {
     "slide_type": "subslide"
    }
   },
   "source": [
    "We will use a 2-way ANOVA by ensuring that the **model** used accounts for **both** factors. Our model using **ols** we will need to use a *Combination + agarose* model.\n",
    "\n",
    "And then running the ANOVA test and print the results:"
   ]
  },
  {
   "cell_type": "code",
   "execution_count": 18,
   "metadata": {
    "slideshow": {
     "slide_type": "subslide"
    }
   },
   "outputs": [
    {
     "name": "stdout",
     "output_type": "stream",
     "text": [
      "               sum_sq    df          F    PR(>F)\n",
      "Combination  1.589904   4.0  10.991253  0.000555\n",
      "Agarose      1.732153   3.0  15.966191  0.000173\n",
      "Residual     0.433955  12.0        NaN       NaN\n"
     ]
    }
   ],
   "source": [
    "import statsmodels.api as sm\n",
    "from statsmodels.formula.api import ols\n",
    "from statsmodels.stats.anova import anova_lm\n",
    "\n",
    "model = ols('Density ~ Combination + Agarose ',df).fit()   #this ensures it is a 2-way ANOVA by using a model that considers\n",
    "                                                  #both factors combination and agarose content\n",
    "    \n",
    "anovaResultsRobust =  anova_lm(model, typ=2)\n",
    "\n",
    "print(anovaResultsRobust)"
   ]
  },
  {
   "cell_type": "markdown",
   "metadata": {
    "slideshow": {
     "slide_type": "subslide"
    }
   },
   "source": [
    "From these results we can conclude that there is an effect that one of the combinations is having on the density since the value of **p** (PR(>F) is significant for the combination (highly so!). \n",
    "\n",
    "As experimenters we expected the agarose to have an effect and we have confirmed this, and since we blocked for this effect we can then be certain that the combination affects the result considering already the effect of the agarose. \n",
    "\n",
    "**Beware of the same two possible errors discussed before**\n",
    "\n",
    "1. Use the right model\n",
    "2. Do not merge data"
   ]
  },
  {
   "cell_type": "code",
   "execution_count": 19,
   "metadata": {
    "slideshow": {
     "slide_type": "subslide"
    }
   },
   "outputs": [
    {
     "name": "stdout",
     "output_type": "stream",
     "text": [
      "               sum_sq    df         F    PR(>F)\n",
      "Combination  1.589904   4.0  2.752466  0.067263\n",
      "Residual     2.166108  15.0       NaN       NaN\n"
     ]
    }
   ],
   "source": [
    "modelerroneousRobus = ols('Density ~ Combination',df).fit()   #by only using the factor CT this will become a 1-way ANOVA\n",
    "    \n",
    "anovaResultserroneousRobust =  anova_lm(modelerroneousRobus, typ=2)\n",
    "\n",
    "print(anovaResultserroneousRobust)"
   ]
  },
  {
   "cell_type": "markdown",
   "metadata": {
    "slideshow": {
     "slide_type": "fragment"
    }
   },
   "source": [
    "From these results we would have concluded that the combination did not have a significant effect (p>0.05). We could not be more wrong as it was actually highly significant !!"
   ]
  },
  {
   "cell_type": "markdown",
   "metadata": {
    "slideshow": {
     "slide_type": "subslide"
    }
   },
   "source": [
    "When using the right model we concluded that the combination of some factors is affecting the density since the value of **p** (PR(>F) is significant for both factors. \n",
    "\n",
    "Using Tukey HSD test we can determine which of the combination(s) are significantly different. \n",
    "\n",
    "**Note again about the use of Multicomparison to correct for a 2-way ANOVA: substract the effect of the agarose appropriately before running this multi-comparison**"
   ]
  },
  {
   "cell_type": "code",
   "execution_count": 20,
   "metadata": {
    "slideshow": {
     "slide_type": "subslide"
    }
   },
   "outputs": [
    {
     "name": "stdout",
     "output_type": "stream",
     "text": [
      "        Multiple Comparison of Means - Tukey HSD,FWER=0.05       \n",
      "=================================================================\n",
      "     group1           group2      meandiff  lower   upper  reject\n",
      "-----------------------------------------------------------------\n",
      "b'Combination 1' b'Combination 2'  -0.245  -0.6164  0.1264 False \n",
      "b'Combination 1' b'Combination 3'   0.48    0.1086  0.8514  True \n",
      "b'Combination 1' b'Combination 4'  -0.245  -0.6164  0.1264 False \n",
      "b'Combination 1' b'Combination 5'  -0.245  -0.6164  0.1264 False \n",
      "b'Combination 2' b'Combination 3'  0.725    0.3536  1.0964  True \n",
      "b'Combination 2' b'Combination 4'   0.0    -0.3714  0.3714 False \n",
      "b'Combination 2' b'Combination 5'   0.0    -0.3714  0.3714 False \n",
      "b'Combination 3' b'Combination 4'  -0.725  -1.0964 -0.3536  True \n",
      "b'Combination 3' b'Combination 5'  -0.725  -1.0964 -0.3536  True \n",
      "b'Combination 4' b'Combination 5'   0.0    -0.3714  0.3714 False \n",
      "-----------------------------------------------------------------\n",
      "p values: [0.29622203 0.00886702 0.29622203 0.29622203 0.001      0.9\n",
      " 0.9        0.001      0.001      0.9       ]\n"
     ]
    }
   ],
   "source": [
    "from statsmodels.stats.multicomp import MultiComparison\n",
    "\n",
    "#The multiple comparison testing is done between data without the average contribution from the phantom\n",
    "mcRobust = MultiComparison(df['Density'] - df.groupby(dta2['Agarose'])['Density'].transform('mean'), df['Combination'])\n",
    "# df.groupby(dta2['Phantom'])['Density'].transform('mean') is averaging the grouped data for each phantom \n",
    "# so we test density once we remove this average phantom contribution \n",
    "tukey_resRobust = mcRobust.tukeyhsd()\n",
    "summaryRobust = tukey_resRobust.summary()\n",
    "print(summaryRobust)\n",
    "\n",
    "#The p-values associated with those hypothesis\n",
    "from statsmodels.stats.libqsturng import psturng\n",
    "p_valuesRobust = psturng(np.abs(tukey_resRobust.meandiffs / tukey_resRobust.std_pairs), len(tukey_resRobust.groupsunique), tukey_resRobust.df_total)\n",
    "print(\"p values:\", p_valuesRobust)"
   ]
  },
  {
   "cell_type": "markdown",
   "metadata": {
    "slideshow": {
     "slide_type": "subslide"
    }
   },
   "source": [
    "And we can see that Combination 3 is significantly different to all others. Looking at what this combination implies compared to the others, it would seem that some permutation of water purity and coating to the mould may be the problem. This narrows down our question and we could then focus to design a new experiment.\n",
    "\n",
    "## Activity 3: propose other observations from these results\n",
    "\n",
    "## Activity 4: how would you then design an experiment next to get an answer on the factor that is affecting us?\n",
    "\n",
    "We can show this result graphically as we did before in ANOVA."
   ]
  },
  {
   "cell_type": "code",
   "execution_count": 21,
   "metadata": {
    "slideshow": {
     "slide_type": "subslide"
    }
   },
   "outputs": [
    {
     "data": {
      "image/png": "[encoded data removed]",
      "text/plain": [
       "<Figure size 720x432 with 1 Axes>"
      ]
     },
     "execution_count": 21,
     "metadata": {},
     "output_type": "execute_result"
    },
    {
     "data": {
      "image/png": "[encoded data removed]",
      "text/plain": [
       "<Figure size 720x432 with 1 Axes>"
      ]
     },
     "metadata": {
      "needs_background": "light"
     },
     "output_type": "display_data"
    }
   ],
   "source": [
    "tukey_resRobust.plot_simultaneous(ylabel= \"Combination\", xlabel= \"Density\")"
   ]
  },
  {
   "cell_type": "markdown",
   "metadata": {
    "slideshow": {
     "slide_type": "slide"
    }
   },
   "source": [
    "We will just make sure that we have enough power to conclude that the combinations that are not affecting us are indeed not having a high Type II error.\n",
    "\n",
    "We calculate the **effect size** $\\eta^2$. "
   ]
  },
  {
   "cell_type": "code",
   "execution_count": 22,
   "metadata": {
    "slideshow": {
     "slide_type": "subslide"
    }
   },
   "outputs": [
    {
     "name": "stdout",
     "output_type": "stream",
     "text": [
      "               sum_sq    df          F    PR(>F)    eta_sq\n",
      "Combination  1.589904   4.0  10.991253  0.000555  0.785580\n",
      "Agarose      1.732153   3.0  15.966191  0.000173  0.799661\n",
      "Residual     0.433955  12.0        NaN       NaN       NaN\n"
     ]
    }
   ],
   "source": [
    "# We first extract SS_error from the ANOVA table\n",
    "SS_errorRobust = anovaResultsRobust[-1:]['sum_sq'][0]   # the last row is -1 and it is the Residuals\n",
    "\n",
    "# Then calculate eta_sqare with the formula for all factors (0:one less of the total rows as those are Resiguals)\n",
    "eta_sqRobust = anovaResultsRobust[0:len(anovaResultsRobust)-1]['sum_sq']/(anovaResultsRobust[0:len(anovaResultsRobust)-1]['sum_sq']+SS_errorRobust)\n",
    "\n",
    "# This code will add a column to the ANOVA results with the EtaSquare \n",
    "anovaResultsRobust['eta_sq'] = eta_sqRobust\n",
    "\n",
    "print(anovaResultsRobust)"
   ]
  },
  {
   "cell_type": "markdown",
   "metadata": {
    "slideshow": {
     "slide_type": "fragment"
    }
   },
   "source": [
    "With the effect size $\\eta^2$ can be then used to perform a ANOVA Power test using R. "
   ]
  },
  {
   "cell_type": "code",
   "execution_count": 25,
   "metadata": {
    "scrolled": true,
    "slideshow": {
     "slide_type": "subslide"
    }
   },
   "outputs": [
    {
     "name": "stdout",
     "output_type": "stream",
     "text": [
      "The rpy2.ipython extension is already loaded. To reload it, use:\n",
      "  %reload_ext rpy2.ipython\n",
      "\n",
      "\r\n",
      "     Balanced two-way analysis of variance power calculation \n",
      "\r\n",
      "\n",
      "\r\n",
      "              a = 5\n",
      "\r\n",
      "              b = 4\n",
      "\r\n",
      "            n.A = 1\n",
      "\r\n",
      "            n.B = 1\n",
      "\r\n",
      "      sig.level = 0.05\n",
      "\r\n",
      "        power.A = 0.6305497\n",
      "\r\n",
      "        power.B = 0.7228698\n",
      "\r\n",
      "          power = 0.6305497\n",
      "\r\n",
      "\n",
      "\r\n",
      "NOTE: power is the minimum power among two factors\n",
      "\r\n",
      "\n",
      "\n"
     ]
    }
   ],
   "source": [
    "# We first export a package rpy2 that allows to run R within Python\n",
    "%load_ext rpy2.ipython\n",
    "# and the robject that will let me invoke R objects\n",
    "import rpy2.robjects as robjects\n",
    "\n",
    "#finally, I prepare myself the string that will be passed to run to R\n",
    "#note that I will manually enter here for simplicity the values from my ANOVA table but there\n",
    "#are ways to do this in the program from your variables!\n",
    "#this will calculate the power for 4 groups in factor A (CT) and 4 groups in factor B (Phantom)\n",
    "#with only one sample per group per factor and the effect size calculated before\n",
    "rstring=\"\"\"\n",
    "library(pwr2)\n",
    "pwr.2way(a=5, b=4, alpha=0.05, size.A=1, size.B=1, f.A=0.785580, f.B=0.799661)\n",
    "\"\"\"\n",
    "\n",
    "#and invoke R\n",
    "rfunc=robjects.r(rstring)\n",
    "#finally, I print what R obtained as a result\n",
    "print(rfunc)"
   ]
  },
  {
   "cell_type": "markdown",
   "metadata": {
    "slideshow": {
     "slide_type": "subslide"
    }
   },
   "source": [
    "R is telling us that the power of this test was 63% for the combination factor and 72.3% for the agarose factor. This is still a little low as power to ensure the other *equivalent* combinations really are, but we can be already satisfied that the combination 3 is different.\n",
    "\n",
    "We can determine how many samples we would need if we want to increase this power.\n",
    "\n",
    "## Activity 5: determine how many samples we need to increase the power to 80%"
   ]
  },
  {
   "cell_type": "code",
   "execution_count": 29,
   "metadata": {
    "slideshow": {
     "slide_type": "subslide"
    }
   },
   "outputs": [
    {
     "name": "stdout",
     "output_type": "stream",
     "text": [
      "\n",
      "\r\n",
      "     Balanced two-way analysis of variance sample size adjustment \n",
      "\r\n",
      "\n",
      "\r\n",
      "              a = 5\n",
      "\r\n",
      "              b = 4\n",
      "\r\n",
      "      sig.level = 0.05\n",
      "\r\n",
      "          power = 0.8\n",
      "\r\n",
      "              n = 2\n",
      "\r\n",
      "\n",
      "\r\n",
      "NOTE: n is number in each group, total sample = 40\n",
      "\r\n",
      "\n",
      "\n"
     ]
    }
   ],
   "source": [
    "# Let's answer question 2: what is the sample size that I need to detect a similar difference in means with the pooled \n",
    "# standard deviation that we have observed from previous experiments but a power of 80%?\n",
    "\n",
    "####################################################################\n",
    "########################## RESULT ##################################\n",
    "####################################################################\n",
    "\n",
    "#Since the R packages are already imported, I prepare the string that will be passed to run to R\n",
    "#This will calculate the sample size for 4 groups in factor A (CT) and 4 groups in factor B (Phantom)\n",
    "#withthe effect size calculated before required for a power of 80% which is a beta of 0.2\n",
    "#needs B=100 that is the number of iterations the alorithm will use\n",
    "rstring=\"\"\"\n",
    "library(pwr2)\n",
    "ss.2way(a=5, b=4, alpha=0.05, beta=0.2, f.A=0.785580, f.B=0.799661, B=100)\n",
    "\"\"\"\n",
    "\n",
    "#and invoke R\n",
    "rfunc=robjects.r(rstring)\n",
    "#finally, I print what R obtained as a result\n",
    "print(rfunc)"
   ]
  },
  {
   "cell_type": "markdown",
   "metadata": {
    "slideshow": {
     "slide_type": "subslide"
    }
   },
   "source": [
    "R is telling us that to have a 80% power we need to increase to at least 2 samples per group. Actually, doing so will give us likely a higher than 80% power. Calculate what is the power here.\n",
    "\n",
    "## Activity 6: Calculate the actual power we obtain once we use 2 samples per group"
   ]
  },
  {
   "cell_type": "code",
   "execution_count": 30,
   "metadata": {
    "scrolled": true,
    "slideshow": {
     "slide_type": "subslide"
    }
   },
   "outputs": [
    {
     "name": "stdout",
     "output_type": "stream",
     "text": [
      "The rpy2.ipython extension is already loaded. To reload it, use:\n",
      "  %reload_ext rpy2.ipython\n",
      "\n",
      "\r\n",
      "     Balanced two-way analysis of variance power calculation \n",
      "\r\n",
      "\n",
      "\r\n",
      "              a = 5\n",
      "\r\n",
      "              b = 4\n",
      "\r\n",
      "            n.A = 2\n",
      "\r\n",
      "            n.B = 2\n",
      "\r\n",
      "      sig.level = 0.05\n",
      "\r\n",
      "        power.A = 0.9732222\n",
      "\r\n",
      "        power.B = 0.9871367\n",
      "\r\n",
      "          power = 0.9732222\n",
      "\r\n",
      "\n",
      "\r\n",
      "NOTE: power is the minimum power among two factors\n",
      "\r\n",
      "\n",
      "\n"
     ]
    }
   ],
   "source": [
    "####################################################################\n",
    "########################## RESULT ##################################\n",
    "####################################################################\n",
    "\n",
    "\n",
    "# We first export a package rpy2 that allows to run R within Python\n",
    "%load_ext rpy2.ipython\n",
    "# and the robject that will let me invoke R objects\n",
    "import rpy2.robjects as robjects\n",
    "\n",
    "#finally, I prepare myself the string that will be passed to run to R\n",
    "#note that I will manually enter here for simplicity the values from my ANOVA table but there\n",
    "#are ways to do this in the program from your variables!\n",
    "#this will calculate the power for 4 groups in factor A (CT) and 4 groups in factor B (Phantom)\n",
    "#with only one sample per group per factor and the effect size calculated before\n",
    "rstring=\"\"\"\n",
    "library(pwr2)\n",
    "pwr.2way(a=5, b=4, alpha=0.05, size.A=2, size.B=2, f.A=0.785580, f.B=0.799661)\n",
    "\"\"\"\n",
    "\n",
    "#and invoke R\n",
    "rfunc=robjects.r(rstring)\n",
    "#finally, I print what R obtained as a result\n",
    "print(rfunc)"
   ]
  },
  {
   "cell_type": "markdown",
   "metadata": {
    "slideshow": {
     "slide_type": "subslide"
    }
   },
   "source": [
    "Indeed, the power is increased to 97.3%"
   ]
  },
  {
   "cell_type": "markdown",
   "metadata": {
    "slideshow": {
     "slide_type": "slide"
    }
   },
   "source": [
    "## Summary"
   ]
  },
  {
   "cell_type": "markdown",
   "metadata": {
    "slideshow": {
     "slide_type": "subslide"
    }
   },
   "source": [
    "In this example:\n",
    "\n",
    "1. We introduced the experimental design Robust Complete Block Design\n",
    "2. We applied an RCBD to eliminate the effect of a known nuisance factor and analyse a second factor\n",
    "3. We applied a 2-way ANOVA to analyse the results from RCBD experiments\n",
    "4. We discussed errors on the use of ANOVA when not considering 2-way\n",
    "5. We applied an RCBD to study robusticity of formulations"
   ]
  },
  {
   "cell_type": "markdown",
   "metadata": {
    "slideshow": {
     "slide_type": "skip"
    }
   },
   "source": [
    "References\n",
    "---------------\n",
    "\n",
    "* Montgomery, Douglas C. \"Design and analysis of experiments. John Wiley & Sons.\" Inc., New York 1997 (2001)."
   ]
  }
 ],
 "metadata": {
  "celltoolbar": "Slideshow",
  "kernelspec": {
   "display_name": "Python 3",
   "language": "python",
   "name": "python3"
  },
  "language_info": {
   "codemirror_mode": {
    "name": "ipython",
    "version": 3
   },
   "file_extension": ".py",
   "mimetype": "text/x-python",
   "name": "python",
   "nbconvert_exporter": "python",
   "pygments_lexer": "ipython3",
   "version": "3.7.1"
  }
 },
 "nbformat": 4,
 "nbformat_minor": 1
}
