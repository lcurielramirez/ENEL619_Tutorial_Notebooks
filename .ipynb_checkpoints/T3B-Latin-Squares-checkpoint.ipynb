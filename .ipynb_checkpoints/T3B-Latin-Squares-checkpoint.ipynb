{
 "cells": [
  {
   "cell_type": "markdown",
   "metadata": {
    "slideshow": {
     "slide_type": "slide"
    }
   },
   "source": [
    "# Latin Squares: Blocking for two nuisance factors\n",
    "\n",
    "## Introduction\n",
    "\n",
    "Blocking as an experimental strategy used to minimize the effect of experimental nuisances on our conclusions. When we have two factors we need to block we require a different strategy and analysis of the data.\n",
    "\n",
    "The principle is again to arrange so that experimental units form groups (**blocks**) that are similar to one another. Because there are two factors we want to eliminate this from the experiment we need to make sure those variances are uniformly distributed on all the factors we want to study.\n",
    "\n",
    "When two nuisance sources of variability are known and controllable, blocking in two directions can be used to systematically\n",
    "eliminate those effects on the comparison between factors.\n",
    "\n",
    "An example could be the test of a new drug on patients where we suspect that the age and the sex of the patient may be already a source of change. We will provide two treatments: drug and placebo. Because the sex and the age of the patient are known nuisances we can block both factors using a **Latin Square**."
   ]
  },
  {
   "cell_type": "markdown",
   "metadata": {
    "slideshow": {
     "slide_type": "subslide"
    }
   },
   "source": [
    "We will need to build a design that has $p \\times p$ experimental conditions where $p$ is the number of treatments or values on our factor of study that we want to test.\n",
    "\n",
    "We will also have $p$ values of each of the nuisance factors. \n",
    "\n",
    "We now build a table called the *latin square*:\n",
    "1. The rows of our table are the values of a nuissance factor \n",
    "2. The columns of our table are the values of the other nuisance factor\n",
    "3. We give a letter to each value of the treatments\n",
    "\n",
    "Combinations are obtained by circularly shifting in columns so that there is only one time a nuisance factor is used for the factor of study."
   ]
  },
  {
   "cell_type": "markdown",
   "metadata": {
    "slideshow": {
     "slide_type": "subslide"
    }
   },
   "source": [
    "This example shows how the table looks like to study 5 values of our factor of interest, and therefore 5 values for each of the nuisance factors OR A $5\\times5$ **LATIN SQUARE**\n",
    "\n",
    "1 |2 |3 |4 |5 |\n",
    "-- |-- |-- |-- |-- |\n",
    " A | B | C | D |E |\n",
    " B | C | D | E |A |\n",
    " C | D | E | A |B |\n",
    " D | E | A | B |C |\n",
    " E | A | B | C |D |\n",
    "\n",
    "So when we read this table's first row it tells us we will try our first factor of interest using a value A for one of the nuisances and value 1 for the second nuisance, then using a value of B for one of the nuisances and value 2 for the second nuisance, and so on. \n",
    "\n",
    "Note that other combinations work as long as there is only one time a treatment per column and row."
   ]
  },
  {
   "cell_type": "markdown",
   "metadata": {
    "slideshow": {
     "slide_type": "slide"
    }
   },
   "source": [
    "## CASE\n",
    "\n",
    "Let's come back to a similar case discussed for an experiment where we built bone phantoms.\n",
    "\n",
    "We have now a recipe that has being working as we have corrected the CT that was faulty. But we are registering now variations on the results again. We suspect that the ingredients used for one or more of the recipes are giving different results, and we want to study the phantoms.\n",
    "\n",
    "Because this time we suspect the phantom formulations may be the problem it is our factor of interest, but we still have to block for the CTs as we know they are different. In addition, we now have to use different operators to do the measurements and this is another factor we need to block. "
   ]
  },
  {
   "cell_type": "markdown",
   "metadata": {
    "slideshow": {
     "slide_type": "subslide"
    }
   },
   "source": [
    "## CASE\n",
    "\n",
    "We are trying to answer this question: **how can I check if the recipes are giving different results if we are measuring on different CTs and using different operators?**\n",
    "\n",
    "We **block** the experiments to eliminate the CT and the operator nuissance factor by making sure every hospital measures different recipes for the phantoms at least once with each CT and each operator.\n",
    "\n",
    "We will use a **Latin Square** to make sure this is done. We have 5 different recipes to test so we need 5 CTs and 5 operators.\n",
    "\n",
    ". | Operator 1 | Operator 2 | Operator 3 | Operator 4 | Operator 5 |\n",
    "-- |-- |-- |-- |-- |-- |\n",
    "Recipe 1 |A | B | C | D |E |\n",
    "Recipe 2 |B | C | D | E |A |\n",
    "Recipe 3 |C | D | E | A |B |\n",
    "Recipe 4 |D | E | A | B |C |\n",
    "Recipe 5 |E | A | B | C |D |\n",
    "\n",
    "Where A, B, C, D and E are the names for the CTs that are being used"
   ]
  },
  {
   "cell_type": "markdown",
   "metadata": {
    "slideshow": {
     "slide_type": "subslide"
    }
   },
   "source": [
    "## Model\n",
    "\n",
    "1. We have **3 input factors with 5 possible levels** (Phantoms 1-5; CT A-E; Operator 1-5)\n",
    "2. We measure as our **output factor** the density\n",
    "3. We have some **controllable factors**: same training, phantom formulation, ...\n",
    "4. We have some **uncontrollable factors**: room temperature when fabricating phantoms, room temperature when measuring, ...\n",
    "5. We have a **two controllable factors** that are known to be a nuissance: the CT and the operator\n",
    "\n",
    "**Is the density affected by the recipe when accounting from variability in the CT and operator used?**"
   ]
  },
  {
   "cell_type": "markdown",
   "metadata": {
    "slideshow": {
     "slide_type": "subslide"
    }
   },
   "source": [
    "\n",
    "## Randomization\n",
    "\n",
    "The first step for this experiment is that the imaging should be done randomly. \n",
    "\n",
    "The easiest way to randomize is to assign a number to each combination and conduct them in that random order. That will allow us to correct for random changes such as a derivation in the measure as a function of the room temperature, or how tired the operator was, and so on."
   ]
  },
  {
   "cell_type": "markdown",
   "metadata": {
    "slideshow": {
     "slide_type": "slide"
    }
   },
   "source": [
    "## Latin Square \n",
    "\n",
    "Blocking is ensuring that we conduct the combinations prescribed by our latin square table. The data that is obtained is shown in the table:\n",
    "\n",
    "\n",
    ". | Operator 1 | Operator 2 | Operator 3 | Operator 4 | Operator 5 |\n",
    "-- |-- |-- |-- |-- |-- |\n",
    "Recipe 1 | A=1024.50 | B=1020.65 | C=1019.42 | D=1024.65 | E=1024.54 |\n",
    "Recipe 2 | B=1017.69 | C=1024.26 | D=1030.05 | E=1027.11 | A=1036.27 |\n",
    "Recipe 3 | C=1018.33 | D=1038.43 | E=1026.12 | A=1027.23 | B=1021.20 |\n",
    "Recipe 4 | D=1026.27 | E=1031.21 | A=1026.28 | B=1023.11 | C=1022.37 |\n",
    "Recipe 5 | E=1022.15 | A=1030.51 | B=1020.10 | C=1029.51 | D=1031.05 |\n",
    "\n",
    "A:E are the name of the CTs used."
   ]
  },
  {
   "cell_type": "code",
   "execution_count": 1,
   "metadata": {
    "slideshow": {
     "slide_type": "subslide"
    }
   },
   "outputs": [
    {
     "name": "stdout",
     "output_type": "stream",
     "text": [
      "    id       Recipe       Operator       CT      Density\n",
      "0    1  b'Recipe 1'  b'Operator 1'  b'CT A'  1024.500000\n",
      "1    2  b'Recipe 1'  b'Operator 2'  b'CT B'  1020.650024\n",
      "2    3  b'Recipe 1'  b'Operator 3'  b'CT C'  1019.419983\n",
      "3    4  b'Recipe 1'  b'Operator 4'  b'CT D'  1024.650024\n",
      "4    5  b'Recipe 1'  b'Operator 5'  b'CT E'  1024.540039\n",
      "5    6  b'Recipe 2'  b'Operator 1'  b'CT B'  1017.690002\n",
      "6    7  b'Recipe 2'  b'Operator 2'  b'CT C'  1024.260010\n",
      "7    8  b'Recipe 2'  b'Operator 3'  b'CT D'  1030.050049\n",
      "8    9  b'Recipe 2'  b'Operator 4'  b'CT E'  1027.109985\n",
      "9   10  b'Recipe 2'  b'Operator 5'  b'CT A'  1036.270020\n",
      "10  11  b'Recipe 3'  b'Operator 1'  b'CT C'  1018.330017\n",
      "11  12  b'Recipe 3'  b'Operator 2'  b'CT D'  1038.430054\n",
      "12  13  b'Recipe 3'  b'Operator 3'  b'CT E'  1026.119995\n",
      "13  14  b'Recipe 3'  b'Operator 4'  b'CT A'  1027.229980\n",
      "14  15  b'Recipe 3'  b'Operator 5'  b'CT B'  1021.200012\n",
      "15  16  b'Recipe 4'  b'Operator 1'  b'CT D'  1026.270020\n",
      "16  17  b'Recipe 4'  b'Operator 2'  b'CT E'  1031.209961\n",
      "17  18  b'Recipe 4'  b'Operator 3'  b'CT A'  1026.280029\n",
      "18  19  b'Recipe 4'  b'Operator 4'  b'CT B'  1023.109985\n",
      "19  20  b'Recipe 4'  b'Operator 5'  b'CT C'  1022.369995\n",
      "20  21  b'Recipe 5'  b'Operator 1'  b'CT E'  1022.150024\n",
      "21  22  b'Recipe 5'  b'Operator 2'  b'CT A'  1030.510010\n",
      "22  23  b'Recipe 5'  b'Operator 3'  b'CT B'  1020.099976\n",
      "23  24  b'Recipe 5'  b'Operator 4'  b'CT C'  1029.510010\n",
      "24  25  b'Recipe 5'  b'Operator 5'  b'CT D'  1031.050049\n"
     ]
    }
   ],
   "source": [
    "import pandas as pd\n",
    "import numpy as np\n",
    "\n",
    "# Put into dataframe\n",
    "dta2 = np.rec.array([\n",
    "    (  1,  'Recipe 1', 'Operator 1', 'CT A', 1024.50), (  2,  'Recipe 1', 'Operator 2', 'CT B', 1020.65), \n",
    "    (  3,  'Recipe 1', 'Operator 3', 'CT C', 1019.42), (  4,  'Recipe 1', 'Operator 4', 'CT D', 1024.65), \n",
    "    (  5,  'Recipe 1', 'Operator 5', 'CT E', 1024.54), \n",
    "    (  6,  'Recipe 2', 'Operator 1', 'CT B', 1017.69), (  7,  'Recipe 2', 'Operator 2', 'CT C', 1024.26), \n",
    "    (  8,  'Recipe 2', 'Operator 3', 'CT D', 1030.05), (  9,  'Recipe 2', 'Operator 4', 'CT E', 1027.11), \n",
    "    ( 10,  'Recipe 2', 'Operator 5', 'CT A', 1036.27 ), \n",
    "    ( 11,  'Recipe 3', 'Operator 1', 'CT C', 1018.33), ( 12,  'Recipe 3', 'Operator 2', 'CT D', 1038.43), \n",
    "    ( 13,  'Recipe 3', 'Operator 3', 'CT E', 1026.12), ( 14,  'Recipe 3', 'Operator 4', 'CT A', 1027.23), \n",
    "    ( 15,  'Recipe 3', 'Operator 5', 'CT B', 1021.20), \n",
    "    ( 16,  'Recipe 4', 'Operator 1', 'CT D', 1026.27), ( 17,  'Recipe 4', 'Operator 2', 'CT E', 1031.21), \n",
    "    ( 18,  'Recipe 4', 'Operator 3', 'CT A', 1026.28), ( 19,  'Recipe 4', 'Operator 4', 'CT B', 1023.11),    \n",
    "    ( 20,  'Recipe 4', 'Operator 5', 'CT C', 1022.37), \n",
    "    ( 21,  'Recipe 5', 'Operator 1', 'CT E', 1022.15), ( 22,  'Recipe 5', 'Operator 2', 'CT A', 1030.51), \n",
    "    ( 23,  'Recipe 5', 'Operator 3', 'CT B', 1020.10), ( 24,  'Recipe 5', 'Operator 4', 'CT C', 1029.51),    \n",
    "    ( 25,  'Recipe 5', 'Operator 5', 'CT D', 1031.05)], \n",
    "    dtype=[('id', '<i4'), ('Recipe', '|S17'), ('Operator', '|S15'), ('CT', '|S15'), ('Density', '<f')])\n",
    "    \n",
    "df = pd.DataFrame(dta2)\n",
    "print(df)"
   ]
  },
  {
   "cell_type": "markdown",
   "metadata": {
    "slideshow": {
     "slide_type": "slide"
    }
   },
   "source": [
    "## Hypothesis Testing\n",
    "\n",
    "When using an RCBD the hypothesis testing is similar as always but the **model** is different.\n",
    "\n",
    "If we consider that the result we measure is \n",
    "\n",
    "$$y_{ij}=\\mu+\\alpha_i+\\tau_j+\\beta_k+\\epsilon_{ijk}$$\n",
    "\n",
    "Where $\\tau_j$ represents variations per treatment we want to analyse (the recipe here)\n",
    "\n",
    "And $\\alpha_i$ represents variations per one of the nuisance factors (the CT here)\n",
    "\n",
    "And $\\beta_k$ represents variations per other nuisance factor (the operator here)\n",
    "\n",
    "And $\\mu$ is the mean considered the same for all \n",
    "\n",
    "And $\\epsilon_{ijk}$ are small variations per experiment"
   ]
  },
  {
   "cell_type": "markdown",
   "metadata": {
    "slideshow": {
     "slide_type": "subslide"
    }
   },
   "source": [
    "We want to test the hypothesis that this $\\tau_j$ is non-existent $\\tau_1=\\tau_2=...\\tau_p=0$ meaning there are no differences between the recipes. \n",
    "\n",
    "If we reject that hypothesis then we know there is at least one recipe where the population has a different mean and therefore the alternative hypothesis $H_1$ is valid.\n",
    "\n",
    "$$H_0: \\tau_1 = \\tau_2 = \\tau_3= \\tau_4= \\tau_5= 0$$\n",
    "$$H_1: \\tau_j \\neq 0 ; \\text{for at least one j}$$\n",
    "\n",
    "And because we equally distributed phantoms on all CTs and operators the $\\alpha_i$ and the $\\beta_k$ is equal everywhere, so it will get cancelled and it won't affect the test.\n",
    "\n",
    "**We will reject the null hypothesis $H_0$ if p<0.05**. This means that there is less than 5% chance we made a mistake in rejecting the hypothesis and therefore we are quite certain that at least one recipe is different."
   ]
  },
  {
   "cell_type": "markdown",
   "metadata": {
    "slideshow": {
     "slide_type": "subslide"
    }
   },
   "source": [
    "The way we account for this nuisance factor is that it will affect our degrees of freedom.\n",
    "\n",
    "We can account for this by using a 3-way ANOVA.\n",
    "\n",
    "You can check you the $F$ statistic is affected by the 3-way ANOVA and how this matches the equations discussed in lecture."
   ]
  },
  {
   "cell_type": "markdown",
   "metadata": {
    "slideshow": {
     "slide_type": "subslide"
    }
   },
   "source": [
    "In Python, we make sure we are running a 3-way ANOVA by ensuring that the **model** used accounts for **all** factors (in our case the CT, the Recipe and the Operator). So when we construct as we already did before our model using **ols** we will need to use a *Recipe + Operator + CT* model and not just CT or Operator or Recipe.\n",
    "\n",
    "And then running the ANOVA test and print the results:"
   ]
  },
  {
   "cell_type": "code",
   "execution_count": 2,
   "metadata": {
    "slideshow": {
     "slide_type": "subslide"
    }
   },
   "outputs": [
    {
     "name": "stderr",
     "output_type": "stream",
     "text": [
      "C:\\Users\\lcuri\\Anaconda3\\lib\\site-packages\\statsmodels\\compat\\pandas.py:49: FutureWarning: The Panel class is removed from pandas. Accessing it from the top-level namespace will also be removed in the next version\n",
      "  data_klasses = (pandas.Series, pandas.DataFrame, pandas.Panel)\n"
     ]
    },
    {
     "name": "stdout",
     "output_type": "stream",
     "text": [
      "            df      sum_sq    mean_sq         F    PR(>F)\n",
      "Recipe     4.0   59.245164  14.811291  1.376690  0.299465\n",
      "Operator   4.0  151.422714  37.855679  3.518634  0.040273\n",
      "CT         4.0  326.111095  81.527774  7.577897  0.002757\n",
      "Residual  12.0  129.103535  10.758628       NaN       NaN\n"
     ]
    }
   ],
   "source": [
    "import statsmodels.api as sm\n",
    "from statsmodels.formula.api import ols\n",
    "from statsmodels.stats.anova import anova_lm\n",
    "\n",
    "model = ols('Density ~ Recipe + Operator + CT',df).fit()   #this ensures it is a 3-way ANOVA by using a model that considers\n",
    "                                                  #both factores CT and Phantom\n",
    "    \n",
    "anovaResults =  anova_lm(model, typ=1)\n",
    "\n",
    "print(anovaResults)"
   ]
  },
  {
   "cell_type": "markdown",
   "metadata": {
    "slideshow": {
     "slide_type": "subslide"
    }
   },
   "source": [
    "From these results we can conclude that our recipes are actually not giving us any significant differences.\n",
    "\n",
    "On the other hand, both the CT and the operator are having an effect on the density since the value of **p** or PR(>F) is significant for both factors.\n",
    "\n",
    "As experimenters we suspected that the CT and the operator may have an effect and it was why we blocked those factors by balancing its contribution among the recipes. We can now be confident that what we thought was a recipe difference is actually coming from working with different CTs and different operators, and the recipe did not really have an effect. \n",
    "\n",
    "**Beware of using the wrong model before ANOVA by only entering one factor at a time, which is a common mistake**"
   ]
  },
  {
   "cell_type": "code",
   "execution_count": 3,
   "metadata": {
    "slideshow": {
     "slide_type": "subslide"
    }
   },
   "outputs": [
    {
     "name": "stdout",
     "output_type": "stream",
     "text": [
      "              sum_sq    df         F    PR(>F)\n",
      "Recipe     59.245164   4.0  0.488308  0.744241\n",
      "Residual  606.637344  20.0       NaN       NaN\n",
      "              sum_sq    df         F    PR(>F)\n",
      "Operator  151.422714   4.0  1.471667  0.248096\n",
      "Residual  514.459794  20.0       NaN       NaN\n",
      "              sum_sq    df         F    PR(>F)\n",
      "CT        326.111095   4.0  4.798978  0.007056\n",
      "Residual  339.771413  20.0       NaN       NaN\n"
     ]
    }
   ],
   "source": [
    "modelerroneous = ols('Density ~ Recipe',df).fit()   #by only using the factor CT this will become a 1-way ANOVA\n",
    "anovaResultserroneous =  anova_lm(modelerroneous, typ=2)\n",
    "print(anovaResultserroneous)\n",
    "modelerroneous = ols('Density ~ Operator',df).fit()   #by only using the factor CT this will become a 1-way ANOVA\n",
    "anovaResultserroneous =  anova_lm(modelerroneous, typ=2)\n",
    "print(anovaResultserroneous)\n",
    "modelerroneous = ols('Density ~ CT',df).fit()   #by only using the factor CT this will become a 1-way ANOVA\n",
    "anovaResultserroneous =  anova_lm(modelerroneous, typ=2)\n",
    "print(anovaResultserroneous)"
   ]
  },
  {
   "cell_type": "markdown",
   "metadata": {
    "slideshow": {
     "slide_type": "fragment"
    }
   },
   "source": [
    "From these results we would have concluded that the recipe did not have a significant effect (p>0.05) as before, but we would have concluded that the operator was also not having an effect, when we saw from before that it was. "
   ]
  },
  {
   "cell_type": "markdown",
   "metadata": {
    "slideshow": {
     "slide_type": "subslide"
    }
   },
   "source": [
    "When using the right model we concluded that both the CT and the operator are having an effect on the density. Using Tukey HSD test we can determine which of the CTs is the one that is significantly different. \n",
    "\n",
    "**Note that if you run a standard Tukey HSD it will merge the data which we just explained is erroneous!! The current libraries for Multicomparison do not have any way to correct this so we will use the theory to substract the effect of the phantom appropriately before running this multi-comparison**\n",
    "\n",
    "To correct from data merging we need to substract from the effect measured by our factor of interest (whatever that is) the averaged effect for all nuisances. This removes the $\\beta$ and $\\alpha$ contribution to the mean as shown in the lecture notes.\n",
    "\n",
    "Some packages such as R or SPCC or with the right parameters Matlab do this already for their multi-comparison. In Python this has not been implemented in the **Multicomparison** so this is a workaround is needed."
   ]
  },
  {
   "cell_type": "markdown",
   "metadata": {
    "slideshow": {
     "slide_type": "subslide"
    }
   },
   "source": [
    "First question: which is the operator that is significantly different when removing the effect from the recipe and the CT? \n",
    "\n",
    "Note that since the recipe is not significant, it could be left out but I have introduced it here for completeness."
   ]
  },
  {
   "cell_type": "code",
   "execution_count": 4,
   "metadata": {
    "slideshow": {
     "slide_type": "subslide"
    }
   },
   "outputs": [
    {
     "name": "stdout",
     "output_type": "stream",
     "text": [
      "     Multiple Comparison of Means - Tukey HSD,FWER=0.05    \n",
      "===========================================================\n",
      "    group1        group2    meandiff  lower   upper  reject\n",
      "-----------------------------------------------------------\n",
      "b'Operator 1' b'Operator 2'  7.224    2.4152 12.0328  True \n",
      "b'Operator 1' b'Operator 3'  2.606   -2.2028  7.4147 False \n",
      "b'Operator 1' b'Operator 4'  4.534   -0.2748  9.3427 False \n",
      "b'Operator 1' b'Operator 5'  5.298    0.4892 10.1067  True \n",
      "b'Operator 2' b'Operator 3'  -4.618  -9.4268  0.1907 False \n",
      "b'Operator 2' b'Operator 4'  -2.69   -7.4988  2.1187 False \n",
      "b'Operator 2' b'Operator 5'  -1.926  -6.7348  2.8827 False \n",
      "b'Operator 3' b'Operator 4'  1.928   -2.8808  6.7367 False \n",
      "b'Operator 3' b'Operator 5'  2.692   -2.1168  7.5007 False \n",
      "b'Operator 4' b'Operator 5'  0.764   -4.0447  5.5728 False \n",
      "-----------------------------------------------------------\n",
      "p values: [0.00184371 0.50099169 0.07066085 0.02643705 0.06364729 0.47196009\n",
      " 0.72915979 0.72850737 0.4712804  0.9       ]\n"
     ]
    }
   ],
   "source": [
    "from statsmodels.stats.multicomp import MultiComparison\n",
    "\n",
    "#The multiple comparison testing is done between data without the average contribution from the CT and the Recipe\n",
    "mc = MultiComparison(df['Density'] \n",
    "                     - df.groupby(dta2['CT'])['Density'].transform('mean') \n",
    "                     - df.groupby(dta2['Recipe'])['Density'].transform('mean'), df['Operator'])\n",
    "#mc = MultiComparison(df['Density'] \n",
    "#                     , df['Operator'])\n",
    "#mc = MultiComparison(df['Density'] \n",
    "#                     - df.groupby(dta2['CT'])['Density'].transform('mean') \n",
    "#                     , df['Operator'])\n",
    "#mc = MultiComparison(df['Density'] \n",
    "#                     - df.groupby(dta2['Recipe'])['Density'].transform('mean') \n",
    "#                     , df['Operator'])\n",
    "\n",
    "tukey_res = mc.tukeyhsd()\n",
    "summary = tukey_res.summary()\n",
    "print(summary)\n",
    "\n",
    "#The p-values associated with those hypothesis\n",
    "from statsmodels.stats.libqsturng import psturng\n",
    "p_values = psturng(np.abs(tukey_res.meandiffs / tukey_res.std_pairs), len(tukey_res.groupsunique), tukey_res.df_total)\n",
    "print(\"p values:\", p_values)"
   ]
  },
  {
   "cell_type": "code",
   "execution_count": 5,
   "metadata": {
    "slideshow": {
     "slide_type": "subslide"
    }
   },
   "outputs": [
    {
     "data": {
      "image/png": "[encoded data removed]",
      "text/plain": [
       "<Figure size 720x432 with 1 Axes>"
      ]
     },
     "execution_count": 5,
     "metadata": {},
     "output_type": "execute_result"
    },
    {
     "data": {
      "image/png": "[encoded data removed]",
      "text/plain": [
       "<Figure size 720x432 with 1 Axes>"
      ]
     },
     "metadata": {
      "needs_background": "light"
     },
     "output_type": "display_data"
    }
   ],
   "source": [
    "tukey_res.plot_simultaneous(ylabel= \"Operator\", xlabel= \"Density\")"
   ]
  },
  {
   "cell_type": "markdown",
   "metadata": {
    "slideshow": {
     "slide_type": "subslide"
    }
   },
   "source": [
    "It shows that operator 1 yields results different to 2 and 5.\n",
    "\n",
    "But operator 2 is equivalent to 5. \n",
    "\n",
    "**We could recommend retraining operator 1.**\n",
    "\n",
    "Now for the differences in CTs:"
   ]
  },
  {
   "cell_type": "code",
   "execution_count": 6,
   "metadata": {
    "slideshow": {
     "slide_type": "subslide"
    }
   },
   "outputs": [
    {
     "name": "stdout",
     "output_type": "stream",
     "text": [
      "Multiple Comparison of Means - Tukey HSD,FWER=0.05\n",
      "================================================\n",
      " group1  group2 meandiff  lower    upper  reject\n",
      "------------------------------------------------\n",
      "b'CT A' b'CT B'  -8.408  -13.2168 -3.5993  True \n",
      "b'CT A' b'CT C'  -6.18   -10.9888 -1.3713  True \n",
      "b'CT A' b'CT D'  1.132   -3.6767   5.9408 False \n",
      "b'CT A' b'CT E'  -2.732  -7.5408   2.0767 False \n",
      "b'CT B' b'CT C'  2.228   -2.5807   7.0368 False \n",
      "b'CT B' b'CT D'   9.54    4.7313  14.3488  True \n",
      "b'CT B' b'CT E'  5.676    0.8672  10.4848  True \n",
      "b'CT C' b'CT D'  7.312    2.5033  12.1208  True \n",
      "b'CT C' b'CT E'  3.448   -1.3608   8.2568 False \n",
      "b'CT D' b'CT E'  -3.864  -8.6728   0.9447 False \n",
      "------------------------------------------------\n",
      "p values: [0.001      0.00795727 0.9        0.45738599 0.62782738 0.001\n",
      " 0.01590498 0.0016293  0.24030216 0.15494414]\n"
     ]
    }
   ],
   "source": [
    "from statsmodels.stats.multicomp import MultiComparison\n",
    "\n",
    "#The multiple comparison testing is done between data without the average contribution from the phantom\n",
    "mc = MultiComparison(df['Density'] \n",
    "                     - df.groupby(dta2['Operator'])['Density'].transform('mean') \n",
    "                     - df.groupby(dta2['Recipe'])['Density'].transform('mean'), df['CT'])\n",
    "# df.groupby(dta2['Phantom'])['Density'].transform('mean') is averaging the grouped data for each phantom \n",
    "# so we test density once we remove this average phantom contribution \n",
    "tukey_res = mc.tukeyhsd()\n",
    "summary = tukey_res.summary()\n",
    "print(summary)\n",
    "\n",
    "#The p-values associated with those hypothesis\n",
    "from statsmodels.stats.libqsturng import psturng\n",
    "p_values = psturng(np.abs(tukey_res.meandiffs / tukey_res.std_pairs), len(tukey_res.groupsunique), tukey_res.df_total)\n",
    "print(\"p values:\", p_values)"
   ]
  },
  {
   "cell_type": "code",
   "execution_count": 7,
   "metadata": {
    "slideshow": {
     "slide_type": "subslide"
    }
   },
   "outputs": [
    {
     "data": {
      "image/png": "[encoded data removed]",
      "text/plain": [
       "<Figure size 720x432 with 1 Axes>"
      ]
     },
     "execution_count": 7,
     "metadata": {},
     "output_type": "execute_result"
    },
    {
     "data": {
      "image/png": "[encoded data removed]",
      "text/plain": [
       "<Figure size 720x432 with 1 Axes>"
      ]
     },
     "metadata": {
      "needs_background": "light"
     },
     "output_type": "display_data"
    }
   ],
   "source": [
    "tukey_res.plot_simultaneous(ylabel= \"CT\", xlabel= \"Density\")"
   ]
  },
  {
   "cell_type": "markdown",
   "metadata": {
    "slideshow": {
     "slide_type": "subslide"
    }
   },
   "source": [
    "It shows that CT A yields results different to B and C.\n",
    "\n",
    "Also that CT B is different to D and E.\n",
    "\n",
    "And CT C is different to D.\n",
    "\n",
    "A common denominator is B being diferent to A, D and E so we would start by recalibrating B.\n",
    "\n",
    "But we probably need to check C as well.\n",
    "\n",
    "**As a general conclusion, we would recommend to recalibrate all CTs to be sure**\n",
    "\n",
    "**But the graphic is hinting to a cluster as if B and C were similar to each other while A, D and E are another cluster**\n",
    "\n",
    "Just for completeness note that if we checked for the recipe no differences will be observed:"
   ]
  },
  {
   "cell_type": "code",
   "execution_count": 8,
   "metadata": {
    "slideshow": {
     "slide_type": "subslide"
    }
   },
   "outputs": [
    {
     "name": "stdout",
     "output_type": "stream",
     "text": [
      "  Multiple Comparison of Means - Tukey HSD,FWER=0.05  \n",
      "======================================================\n",
      "   group1      group2   meandiff  lower  upper  reject\n",
      "------------------------------------------------------\n",
      "b'Recipe 1' b'Recipe 2'  4.324   -0.4848 9.1328 False \n",
      "b'Recipe 1' b'Recipe 3'   3.51   -1.2988 8.3187 False \n",
      "b'Recipe 1' b'Recipe 4'  3.096   -1.7128 7.9047 False \n",
      "b'Recipe 1' b'Recipe 5'  3.912   -0.8968 8.7208 False \n",
      "b'Recipe 2' b'Recipe 3'  -0.814  -5.6228 3.9947 False \n",
      "b'Recipe 2' b'Recipe 4'  -1.228  -6.0368 3.5807 False \n",
      "b'Recipe 2' b'Recipe 5'  -0.412  -5.2208 4.3968 False \n",
      "b'Recipe 3' b'Recipe 4'  -0.414  -5.2228 4.3947 False \n",
      "b'Recipe 3' b'Recipe 5'  0.402   -4.4067 5.2108 False \n",
      "b'Recipe 4' b'Recipe 5'  0.816   -3.9927 5.6248 False \n",
      "------------------------------------------------------\n",
      "p values: [0.09101229 0.22584226 0.33618041 0.1468255  0.9        0.9\n",
      " 0.9        0.9        0.9        0.9       ]\n"
     ]
    }
   ],
   "source": [
    "from statsmodels.stats.multicomp import MultiComparison\n",
    "\n",
    "#The multiple comparison testing is done between data without the average contribution from the phantom\n",
    "mc = MultiComparison(df['Density'] \n",
    "                     - df.groupby(dta2['CT'])['Density'].transform('mean') \n",
    "                     - df.groupby(dta2['Operator'])['Density'].transform('mean') \n",
    "                     ,df['Recipe'])\n",
    "# df.groupby(dta2['Phantom'])['Density'].transform('mean') is averaging the grouped data for each phantom \n",
    "# so we test density once we remove this average phantom contribution \n",
    "tukey_res = mc.tukeyhsd()\n",
    "summary = tukey_res.summary()\n",
    "print(summary)\n",
    "\n",
    "#The p-values associated with those hypothesis\n",
    "from statsmodels.stats.libqsturng import psturng\n",
    "p_values = psturng(np.abs(tukey_res.meandiffs / tukey_res.std_pairs), len(tukey_res.groupsunique), tukey_res.df_total)\n",
    "print(\"p values:\", p_values)"
   ]
  },
  {
   "cell_type": "code",
   "execution_count": 9,
   "metadata": {},
   "outputs": [
    {
     "name": "stdout",
     "output_type": "stream",
     "text": [
      "            df      sum_sq    mean_sq         F    PR(>F)    eta_sq\n",
      "Recipe     4.0   59.245164  14.811291  1.376690  0.299465  0.314550\n",
      "Operator   4.0  151.422714  37.855679  3.518634  0.040273  0.539781\n",
      "CT         4.0  326.111095  81.527774  7.577897  0.002757  0.716390\n",
      "Residual  12.0  129.103535  10.758628       NaN       NaN       NaN\n"
     ]
    }
   ],
   "source": [
    "# We first extract SS_error from the ANOVA table\n",
    "SS_error = anovaResults[-1:]['sum_sq'][0]   # the last row is -1 and it is the Residuals\n",
    "\n",
    "# Then calculate eta_sqare with the formula for all factors (0:one less of the total rows as those are Resiguals)\n",
    "eta_sq = anovaResults[0:len(anovaResults)-1]['sum_sq']/(anovaResults[0:len(anovaResults)-1]['sum_sq']+SS_error)\n",
    "\n",
    "# This code will add a column to the ANOVA results with the EtaSquare \n",
    "anovaResults['eta_sq'] = eta_sq\n",
    "\n",
    "print(anovaResults)"
   ]
  },
  {
   "cell_type": "code",
   "execution_count": 10,
   "metadata": {},
   "outputs": [
    {
     "name": "stdout",
     "output_type": "stream",
     "text": [
      "\n",
      "\r\n",
      "     Balanced two-way analysis of variance power calculation \n",
      "\r\n",
      "\n",
      "\r\n",
      "              a = 5\n",
      "\r\n",
      "              b = 5\n",
      "\r\n",
      "            n.A = 1\n",
      "\r\n",
      "            n.B = 1\n",
      "\r\n",
      "      sig.level = 0.05\n",
      "\r\n",
      "        power.A = 0.1628825\n",
      "\r\n",
      "        power.B = 0.6957632\n",
      "\r\n",
      "          power = 0.1628825\n",
      "\r\n",
      "\n",
      "\r\n",
      "NOTE: power is the minimum power among two factors\n",
      "\r\n",
      "\n",
      "\n"
     ]
    },
    {
     "name": "stderr",
     "output_type": "stream",
     "text": [
      "C:\\Users\\lcuri\\Anaconda3\\lib\\site-packages\\rpy2\\robjects\\pandas2ri.py:14: FutureWarning: pandas.core.index is deprecated and will be removed in a future version.  The public classes are available in the top-level namespace.\n",
      "  from pandas.core.index import Index as PandasIndex\n"
     ]
    }
   ],
   "source": [
    "# We first export a package rpy2 that allows to run R within Python\n",
    "%load_ext rpy2.ipython\n",
    "# and the robject that will let me invoke R objects\n",
    "import rpy2.robjects as robjects\n",
    "\n",
    "#finally, I prepare myself the string that will be passed to run to R\n",
    "#note that I will manually enter here for simplicity the values from my ANOVA table but there\n",
    "#are ways to do this in the program from your variables!\n",
    "#this will calculate the power for 4 groups in factor A (CT) and 4 groups in factor B (Phantom)\n",
    "#with only one sample per group per factor and the effect size calculated before\n",
    "rstring=\"\"\"\n",
    "library(pwr2)\n",
    "pwr.2way(a=5, b=5, alpha=0.05, size.A=1, size.B=1, f.A=0.314550, f.B= 0.716390)\n",
    "\"\"\"\n",
    "\n",
    "#and invoke R\n",
    "rfunc=robjects.r(rstring)\n",
    "#finally, I print what R obtained as a result\n",
    "print(rfunc)"
   ]
  },
  {
   "cell_type": "markdown",
   "metadata": {},
   "source": [
    "## Activity: What is your conclusion and recommendation based on these results for power?"
   ]
  },
  {
   "cell_type": "markdown",
   "metadata": {
    "slideshow": {
     "slide_type": "slide"
    }
   },
   "source": [
    "## Summary"
   ]
  },
  {
   "cell_type": "markdown",
   "metadata": {
    "slideshow": {
     "slide_type": "subslide"
    }
   },
   "source": [
    "In this example:\n",
    "\n",
    "1. We introduced the experimental design Latin Squares\n",
    "2. We applied a Latin Square design to block for 2 nuisance factors\n",
    "3. We applied a 3-way ANOVA to analyse the results from a Latin Square\n",
    "4. We discussed errors on the use of ANOVA when not considering 3-way\n",
    "5. We analysed factors that cause differences when using a 3-way analysis"
   ]
  },
  {
   "cell_type": "markdown",
   "metadata": {
    "slideshow": {
     "slide_type": "skip"
    }
   },
   "source": [
    "References\n",
    "---------------\n",
    "\n",
    "* Montgomery, Douglas C. \"Design and analysis of experiments. John Wiley & Sons.\" Inc., New York 1997 (2001)."
   ]
  }
 ],
 "metadata": {
  "celltoolbar": "Slideshow",
  "kernelspec": {
   "display_name": "Python 3",
   "language": "python",
   "name": "python3"
  },
  "language_info": {
   "codemirror_mode": {
    "name": "ipython",
    "version": 3
   },
   "file_extension": ".py",
   "mimetype": "text/x-python",
   "name": "python",
   "nbconvert_exporter": "python",
   "pygments_lexer": "ipython3",
   "version": "3.7.1"
  }
 },
 "nbformat": 4,
 "nbformat_minor": 1
}
