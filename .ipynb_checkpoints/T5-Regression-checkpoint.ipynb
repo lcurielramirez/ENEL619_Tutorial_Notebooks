{
 "cells": [
  {
   "cell_type": "markdown",
   "metadata": {
    "slideshow": {
     "slide_type": "slide"
    }
   },
   "source": [
    "# Regression\n",
    "\n",
    "## Introduction\n",
    "\n",
    "We had already introduced the concept of a model to predict our data for linear behaviour.\n",
    "\n",
    "We can extend such analysis to establish regression models that are better described with their equations.\n",
    "\n",
    "This is in principle similar to the factorial design experiment, but we should favour the use of continuous variables in the model instead of categorical variables.\n",
    "\n",
    "An example could be the test of a new formulation for an alloy where we can vary the concentration of two or more ingredients to adjust the final strength, in particular where we can choose any value of concentration continuously."
   ]
  },
  {
   "cell_type": "markdown",
   "metadata": {
    "slideshow": {
     "slide_type": "slide"
    }
   },
   "source": [
    "## CASE\n",
    "\n",
    "An article describes the results of a nitride etch process on a single wafer plasma etcher. The process uses C2F6 gas and allows for control of four factors: \n",
    "\n",
    "1. The anode-cathode gap\n",
    "2. The pressure in the reactor\n",
    "3. The gas flow \n",
    "4. The power applied to the cathode.\n",
    "\n",
    "We are interested in controlling the etch rate and we run one single time all possible combinations for the four factors. We decide to test two values per factor (low and high).\n",
    "\n",
    "**What is/are the factors that are effecting the etch rate and how can we predict this rate based on those values?**"
   ]
  },
  {
   "cell_type": "markdown",
   "metadata": {
    "slideshow": {
     "slide_type": "subslide"
    }
   },
   "source": [
    "## Model\n",
    "\n",
    "1. We have **4 input factors (gap, pressure, gas flow and power) with 2 possible levels each** \n",
    "2. We measure as our **output factor** the etch rate\n",
    "3. We have some **controllable factors**: same operator, procedure, instruments, ...\n",
    "4. We have some **uncontrollable factors**: room temperature when measuring, t...\n",
    "5. We will measure four times each of the possible combinations\n",
    "6. Because we have two values for each factors (low and high), we will have $2^4$ possible combinations for a total of $16$ measurements\n",
    "\n",
    "**Is the etch rate affected by the gap, pressure, flow and/or power? Can we predict using a model new values of etch rate based on input gap, pressure, flow and/or power?**"
   ]
  },
  {
   "cell_type": "markdown",
   "metadata": {
    "slideshow": {
     "slide_type": "subslide"
    }
   },
   "source": [
    "\n",
    "## Randomization\n",
    "\n",
    "The first step for this experiment is that the experiments should be done randomly. \n",
    "\n",
    "Every experiment and combination should be done in a random order as there is no blocking here."
   ]
  },
  {
   "cell_type": "markdown",
   "metadata": {
    "slideshow": {
     "slide_type": "subslide"
    }
   },
   "source": [
    "The design requires us to capture each of the factors combinations for low/high values:\n",
    "\n",
    "Run | Gap  | Pressure  | Flow  | Power  | Etching Rate  |\n",
    "--- |----- |----- |----- |----- |---- |\n",
    " 1  | Low  | Low  | Low  | Low  | 550  | \n",
    " 2  | High | Low  | Low  | Low  | 669  | \n",
    " 3  | Low  | High | Low  | Low  | 604  | \n",
    " 4  | High | High | Low  | Low  | 650  | \n",
    " 5  | Low  | Low  | High | Low  | 633  | \n",
    " 6  | High | Low  | High | Low  | 642  | \n",
    " 7  | Low  | High | High | Low  | 601  | \n",
    " 8  | High | High | High | Low  | 635  | \n",
    " 9  | Low  | Low  | Low  | High | 1037 | \n",
    "10  | High | Low  | Low  | High | 749  | \n",
    "11  | Low  | High | Low  | High | 1052 | \n",
    "12  | High | High | Low  | High | 868  | \n",
    "13  | Low  | Low  | High | High | 1075 | \n",
    "14  | High | Low  | High | High | 860  | \n",
    "15  | Low  | High | High | High | 1063 | \n",
    "16  | High | High | High | High | 729  | "
   ]
  },
  {
   "cell_type": "markdown",
   "metadata": {
    "slideshow": {
     "slide_type": "subslide"
    }
   },
   "source": [
    "We enter this data as we did before in a dataframe making sure we capture the combinations as experimentally done and all the repetitions:"
   ]
  },
  {
   "cell_type": "code",
   "execution_count": 1,
   "metadata": {
    "slideshow": {
     "slide_type": "subslide"
    }
   },
   "outputs": [
    {
     "name": "stdout",
     "output_type": "stream",
     "text": [
      "    id   Gap Pressure  Flow Power    Rate\n",
      "0    1  b'-'     b'-'  b'-'  b'-'   550.0\n",
      "1    2  b'+'     b'-'  b'-'  b'-'   669.0\n",
      "2    3  b'-'     b'+'  b'-'  b'-'   604.0\n",
      "3    4  b'+'     b'+'  b'-'  b'-'   650.0\n",
      "4    5  b'-'     b'-'  b'+'  b'-'   633.0\n",
      "5    6  b'+'     b'-'  b'+'  b'-'   642.0\n",
      "6    7  b'-'     b'+'  b'+'  b'-'   601.0\n",
      "7    8  b'+'     b'+'  b'+'  b'-'   635.0\n",
      "8    9  b'-'     b'-'  b'-'  b'+'  1037.0\n",
      "9   10  b'+'     b'-'  b'-'  b'+'   749.0\n",
      "10  11  b'-'     b'+'  b'-'  b'+'  1052.0\n",
      "11  12  b'+'     b'+'  b'-'  b'+'   868.0\n",
      "12  13  b'-'     b'-'  b'+'  b'+'  1075.0\n",
      "13  14  b'+'     b'-'  b'+'  b'+'   860.0\n",
      "14  15  b'-'     b'+'  b'+'  b'+'  1063.0\n",
      "15  16  b'+'     b'+'  b'+'  b'+'   729.0\n"
     ]
    }
   ],
   "source": [
    "import pandas as pd\n",
    "import numpy as np\n",
    "import matplotlib\n",
    "\n",
    "%matplotlib inline\n",
    "\n",
    "# Put into dataframe\n",
    "dta2 = np.rec.array([\n",
    "    (  1,  '-', '-', '-', '-',  550), (  2,  '+', '-', '-', '-', 669) , (  3, '-', '+', '-', '-',  604) , (  4,  '+', '+', '-', '-', 650) , \n",
    "    (  5,  '-', '-', '+', '-',  633), (  6,  '+', '-', '+', '-', 642) , (  7, '-', '+', '+', '-',  601) , (  8,  '+', '+', '+', '-', 635) , \n",
    "    (  9,  '-', '-', '-', '+', 1037), ( 10,  '+', '-', '-', '+', 749) , ( 11, '-', '+', '-', '+', 1052) , ( 12,  '+', '+', '-', '+', 868) , \n",
    "    ( 13,  '-', '-', '+', '+', 1075), ( 14,  '+', '-', '+', '+', 860) , ( 15, '-', '+', '+', '+', 1063) , ( 16,  '+', '+', '+', '+', 729) ], \n",
    "    dtype=[('id', '<i4'), ('Gap', '|S17'), ('Pressure', '|S15'),  ('Flow', '|S17'), ('Power', '|S15'), ('Rate', '<f')])\n",
    "    \n",
    "df = pd.DataFrame(dta2)\n",
    "print(df)"
   ]
  },
  {
   "cell_type": "markdown",
   "metadata": {
    "slideshow": {
     "slide_type": "slide"
    }
   },
   "source": [
    "## Hypothesis Testing\n",
    "\n",
    "When using a factorial design the hypothesis testing is similar as always but the **model** is different.\n",
    "\n",
    "If we consider that the result we measure is \n",
    "\n",
    "$$y_{ijk}=\\mu+\\tau_i+\\beta_j+\\alpha_{k}+\\gamma_{l}+\\epsilon_{ijkl}$$\n",
    "\n",
    "Where $\\tau_i$ represents variations per factor A we want to analyse (the gap here)\n",
    "\n",
    "And $\\beta_j$ represents variations per factor B we want to analyse (the pressure here)\n",
    "\n",
    "And $\\alpha_k$ represents variations per factor C we want to analyse (the flow here)\n",
    "\n",
    "And $\\gamma_l$ represents variations per factor D we want to analyse (the power here)\n",
    "\n",
    "And $\\mu$ is the mean considered the same for all \n",
    "\n",
    "And $\\epsilon_{ijkl}$ are small variations per experiment "
   ]
  },
  {
   "cell_type": "markdown",
   "metadata": {
    "slideshow": {
     "slide_type": "subslide"
    }
   },
   "source": [
    "We want to test the hypothesis for each factor. \n",
    "\n",
    "For **the gap** that this $\\tau_i$ is non-existent $\\tau_1=\\tau_2=...\\tau_i=0$ meaning there are no differences between the CTs. If we reject that hypothesis then we know there is at least one factor where the population has a different mean and therefore the alternative hypothesis $H_1$ is valid.\n",
    "\n",
    "For **the pressure** that this $\\beta_i$ is non-existent $\\beta_1=\\beta_2=...\\beta_j=0$ meaning there are no differences between the CTs. If we reject that hypothesis then we know there is at least one factor where the population has a different mean and therefore the alternative hypothesis $H_1$ is valid.\n",
    "\n",
    "And so on for the other two factors.\n",
    "\n",
    "**We will reject the null hypothesis $H_0$ if p<0.05**. This means that there is less than 5% chance we made a mistake in rejecting the hypothesis and therefore we are quite certain that at least one factor changes the rate."
   ]
  },
  {
   "cell_type": "markdown",
   "metadata": {
    "slideshow": {
     "slide_type": "subslide"
    }
   },
   "source": [
    "We can account for this by using a N-way ANOVA.\n",
    "\n",
    "You can check you the $F$ statistic is affected by the N-way ANOVA and how this matches the equations discussed in lecture.\n",
    "\n",
    "We will construct the **model** used accounts for **all** factors.\n",
    "\n",
    "And then running the ANOVA test and print the results:"
   ]
  },
  {
   "cell_type": "code",
   "execution_count": 2,
   "metadata": {
    "slideshow": {
     "slide_type": "subslide"
    }
   },
   "outputs": [
    {
     "name": "stderr",
     "output_type": "stream",
     "text": [
      "C:\\Users\\lcuri\\Anaconda3\\lib\\site-packages\\statsmodels\\compat\\pandas.py:49: FutureWarning: The Panel class is removed from pandas. Accessing it from the top-level namespace will also be removed in the next version\n",
      "  data_klasses = (pandas.Series, pandas.DataFrame, pandas.Panel)\n"
     ]
    },
    {
     "name": "stdout",
     "output_type": "stream",
     "text": [
      "               sum_sq    df          F    PR(>F)\n",
      "Gap        41310.5625   1.0   3.950339  0.072330\n",
      "Pressure      10.5625   1.0   0.001010  0.975216\n",
      "Flow         217.5625   1.0   0.020805  0.887921\n",
      "Power     374850.0625   1.0  35.845191  0.000091\n",
      "Residual  115032.1875  11.0        NaN       NaN\n"
     ]
    }
   ],
   "source": [
    "import statsmodels.api as sm\n",
    "from statsmodels.formula.api import ols\n",
    "from statsmodels.stats.anova import anova_lm\n",
    "\n",
    "model = ols('Rate ~ Gap + Pressure + Flow + Power ',df).fit()   #this ensures it is a N-way ANOVA \n",
    "    \n",
    "anovaResults =  anova_lm(model, typ=2)\n",
    "\n",
    "print(anovaResults)"
   ]
  },
  {
   "cell_type": "markdown",
   "metadata": {
    "slideshow": {
     "slide_type": "subslide"
    }
   },
   "source": [
    "From these results we can conclude that neither the pressure nor the flow are changing the rate as the value of **p** (PR(>F) is not significant for both factors. \n",
    "\n",
    "We can now eliminate those two factors and we automatically have a 2-factor model with repeat x 2 of our measurements.\n",
    "\n",
    "We now merge the data:"
   ]
  },
  {
   "cell_type": "code",
   "execution_count": 3,
   "metadata": {
    "slideshow": {
     "slide_type": "subslide"
    }
   },
   "outputs": [
    {
     "name": "stdout",
     "output_type": "stream",
     "text": [
      "    id   Gap Power    Rate\n",
      "0    1  b'-'  b'-'   550.0\n",
      "1    2  b'+'  b'-'   669.0\n",
      "2    3  b'-'  b'-'   604.0\n",
      "3    4  b'+'  b'-'   650.0\n",
      "4    5  b'-'  b'-'   633.0\n",
      "5    6  b'+'  b'-'   642.0\n",
      "6    7  b'-'  b'-'   601.0\n",
      "7    8  b'+'  b'-'   635.0\n",
      "8    9  b'-'  b'+'  1037.0\n",
      "9   10  b'+'  b'+'   749.0\n",
      "10  11  b'-'  b'+'  1052.0\n",
      "11  12  b'+'  b'+'   868.0\n",
      "12  13  b'-'  b'+'  1075.0\n",
      "13  14  b'+'  b'+'   860.0\n",
      "14  15  b'-'  b'+'  1063.0\n",
      "15  16  b'+'  b'+'   729.0\n"
     ]
    }
   ],
   "source": [
    "df2factors=df.drop(['Pressure', 'Flow'], axis=1)\n",
    "\n",
    "print(df2factors)"
   ]
  },
  {
   "cell_type": "markdown",
   "metadata": {
    "slideshow": {
     "slide_type": "subslide"
    }
   },
   "source": [
    "From these merged data we can repeat the analysis and since we have repeat measurements we **must** enter the interactions in the model:"
   ]
  },
  {
   "cell_type": "code",
   "execution_count": 4,
   "metadata": {
    "slideshow": {
     "slide_type": "subslide"
    }
   },
   "outputs": [
    {
     "name": "stdout",
     "output_type": "stream",
     "text": [
      "                sum_sq    df           F        PR(>F)\n",
      "Gap         41310.5625   1.0   23.767029  3.816422e-04\n",
      "Power      374850.0625   1.0  215.660881  4.951261e-09\n",
      "Gap:Power   94402.5625   1.0   54.312222  8.620836e-06\n",
      "Residual    20857.7500  12.0         NaN           NaN\n"
     ]
    }
   ],
   "source": [
    "import statsmodels.api as sm\n",
    "from statsmodels.formula.api import ols\n",
    "from statsmodels.stats.anova import anova_lm\n",
    "\n",
    "model = ols('Rate ~ Gap + Power + Gap:Power ',df2factors).fit()   #this ensures it is a N-way ANOVA \n",
    "    \n",
    "anovaResults =  anova_lm(model, typ=2)\n",
    "\n",
    "print(anovaResults)"
   ]
  },
  {
   "cell_type": "markdown",
   "metadata": {
    "slideshow": {
     "slide_type": "subslide"
    }
   },
   "source": [
    "Showing that gap, power and the interaction are all significant. We can run the Tukey HSD as we have done before.\n",
    "\n",
    "First we do this for the Power:"
   ]
  },
  {
   "cell_type": "code",
   "execution_count": 5,
   "metadata": {
    "slideshow": {
     "slide_type": "subslide"
    }
   },
   "outputs": [
    {
     "name": "stdout",
     "output_type": "stream",
     "text": [
      "Multiple Comparison of Means - Tukey HSD,FWER=0.05\n",
      "=================================================\n",
      "group1 group2 meandiff   lower     upper   reject\n",
      "-------------------------------------------------\n",
      " b'+'   b'-'  -306.125 -403.4288 -208.8212  True \n",
      "-------------------------------------------------\n",
      "p values: 0.001\n"
     ]
    }
   ],
   "source": [
    "from statsmodels.stats.multicomp import MultiComparison\n",
    "\n",
    "#The multiple comparison testing is done between data without the average contribution from the phantom\n",
    "mc = MultiComparison(df2factors['Rate'] - df2factors.groupby(dta2['Gap'])['Rate'].transform('mean'), df2factors['Power'])\n",
    "# so we test once we remove this average contribution from the 2nd factor\n",
    "tukey_res = mc.tukeyhsd()\n",
    "summary = tukey_res.summary()\n",
    "print(summary)\n",
    "\n",
    "#The p-values associated with those hypothesis\n",
    "from statsmodels.stats.libqsturng import psturng\n",
    "p_values = psturng(np.abs(tukey_res.meandiffs / tukey_res.std_pairs), len(tukey_res.groupsunique), tukey_res.df_total)\n",
    "print(\"p values:\", p_values)"
   ]
  },
  {
   "cell_type": "markdown",
   "metadata": {
    "slideshow": {
     "slide_type": "subslide"
    }
   },
   "source": [
    "Because the p=0.001 this was expected. We can visualize graphically:"
   ]
  },
  {
   "cell_type": "code",
   "execution_count": 6,
   "metadata": {
    "slideshow": {
     "slide_type": "fragment"
    }
   },
   "outputs": [
    {
     "data": {
      "image/png": "[encoded data removed]",
      "text/plain": [
       "<Figure size 432x288 with 1 Axes>"
      ]
     },
     "metadata": {
      "needs_background": "light"
     },
     "output_type": "display_data"
    }
   ],
   "source": [
    "import matplotlib.pyplot as plt\n",
    "\n",
    "grouped = df2factors.groupby(dta2['Power'])\n",
    "PHigh=grouped.get_group('+'.encode('UTF-8'))['Rate']\n",
    "PLow=grouped.get_group('-'.encode('UTF-8'))['Rate']\n",
    "\n",
    "plt.errorbar([np.mean(PHigh), np.mean(PLow)], ['+', '-'], xerr=[tukey_res.std_pairs[0], tukey_res.std_pairs[0]], marker='o', linestyle='None', color='k', ecolor='k')\n",
    "plt.ylabel('Power')\n",
    "plt.xlabel('Rate')\n",
    "plt.show()"
   ]
  },
  {
   "cell_type": "markdown",
   "metadata": {
    "slideshow": {
     "slide_type": "subslide"
    }
   },
   "source": [
    "And then for the effect of the Gap:"
   ]
  },
  {
   "cell_type": "code",
   "execution_count": 7,
   "metadata": {
    "slideshow": {
     "slide_type": "subslide"
    }
   },
   "outputs": [
    {
     "name": "stdout",
     "output_type": "stream",
     "text": [
      "Multiple Comparison of Means - Tukey HSD,FWER=0.05\n",
      "=============================================\n",
      "group1 group2 meandiff lower   upper   reject\n",
      "---------------------------------------------\n",
      " b'+'   b'-'  101.625  4.3212 198.9288  True \n",
      "---------------------------------------------\n",
      "p values: [0.04183352]\n"
     ]
    }
   ],
   "source": [
    "from statsmodels.stats.multicomp import MultiComparison\n",
    "\n",
    "#The multiple comparison testing is done between data without the average contribution from the phantom\n",
    "mc = MultiComparison(df2factors['Rate'] - df2factors.groupby(dta2['Power'])['Rate'].transform('mean'), df2factors['Gap'])\n",
    "# df.groupby(dta2['Phantom'])['Density'].transform('mean') is averaging the grouped data for each phantom \n",
    "# so we test density once we remove this average phantom contribution \n",
    "tukey_res = mc.tukeyhsd()\n",
    "summary = tukey_res.summary()\n",
    "print(summary)\n",
    "\n",
    "#The p-values associated with those hypothesis\n",
    "from statsmodels.stats.libqsturng import psturng\n",
    "p_values = psturng(np.abs(tukey_res.meandiffs / tukey_res.std_pairs), len(tukey_res.groupsunique), tukey_res.df_total)\n",
    "print(\"p values:\", p_values)"
   ]
  },
  {
   "cell_type": "markdown",
   "metadata": {
    "slideshow": {
     "slide_type": "subslide"
    }
   },
   "source": [
    "Which can be seen graphically:"
   ]
  },
  {
   "cell_type": "code",
   "execution_count": 8,
   "metadata": {
    "slideshow": {
     "slide_type": "subslide"
    }
   },
   "outputs": [
    {
     "data": {
      "image/png": "[encoded data removed]",
      "text/plain": [
       "<Figure size 432x288 with 1 Axes>"
      ]
     },
     "metadata": {
      "needs_background": "light"
     },
     "output_type": "display_data"
    }
   ],
   "source": [
    "import matplotlib.pyplot as plt\n",
    "\n",
    "grouped = df2factors.groupby(dta2['Gap'])\n",
    "GHigh=grouped.get_group('+'.encode('UTF-8'))['Rate']\n",
    "GLow=grouped.get_group('-'.encode('UTF-8'))['Rate']\n",
    "\n",
    "plt.errorbar([np.mean(GHigh), np.mean(GLow)], ['+', '-'], xerr=[tukey_res.std_pairs[0], tukey_res.std_pairs[0]], marker='o', linestyle='None', color='k', ecolor='k')\n",
    "plt.ylabel('Gap')\n",
    "plt.xlabel('Rate')\n",
    "plt.show()"
   ]
  },
  {
   "cell_type": "markdown",
   "metadata": {
    "slideshow": {
     "slide_type": "subslide"
    }
   },
   "source": [
    "For the interaction we need to do some data merging so we can analyse it. We will combine the data so their name is given by the combination we used, and then run the Tukey HSD:"
   ]
  },
  {
   "cell_type": "code",
   "execution_count": 9,
   "metadata": {
    "slideshow": {
     "slide_type": "subslide"
    }
   },
   "outputs": [
    {
     "name": "stdout",
     "output_type": "stream",
     "text": [
      "               Multiple Comparison of Means - Tukey HSD,FWER=0.05              \n",
      "===============================================================================\n",
      "        group1                group2        meandiff   lower     upper   reject\n",
      "-------------------------------------------------------------------------------\n",
      "Gap_b'+' & Power_b'+' Gap_b'+' & Power_b'-'  -152.5  -240.0336  -64.9664  True \n",
      "Gap_b'+' & Power_b'+' Gap_b'-' & Power_b'+'  255.25   167.7164  342.7836  True \n",
      "Gap_b'+' & Power_b'+' Gap_b'-' & Power_b'-'  -204.5  -292.0336 -116.9664  True \n",
      "Gap_b'+' & Power_b'-' Gap_b'-' & Power_b'+'  407.75   320.2164  495.2836  True \n",
      "Gap_b'+' & Power_b'-' Gap_b'-' & Power_b'-'  -52.0   -139.5336  35.5336  False \n",
      "Gap_b'-' & Power_b'+' Gap_b'-' & Power_b'-' -459.75  -547.2836 -372.2164  True \n",
      "-------------------------------------------------------------------------------\n",
      "p values: [0.00114733 0.001      0.001      0.001      0.33595711 0.001     ]\n"
     ]
    }
   ],
   "source": [
    "from statsmodels.stats.multicomp import MultiComparison\n",
    "\n",
    "\n",
    "#We combine the names\n",
    "interaction_groups = \"Gap_\" + df2factors.Gap.astype(str) + \" & \" + \"Power_\" + df2factors.Power.astype(str)\n",
    "\n",
    "mc = MultiComparison(df2factors['Rate'] , interaction_groups)\n",
    "tukey_res = mc.tukeyhsd()\n",
    "summary = tukey_res.summary()\n",
    "print(summary)\n",
    "\n",
    "#The p-values associated with those hypothesis\n",
    "from statsmodels.stats.libqsturng import psturng\n",
    "p_values = psturng(np.abs(tukey_res.meandiffs / tukey_res.std_pairs), len(tukey_res.groupsunique), tukey_res.df_total)\n",
    "print(\"p values:\", p_values)"
   ]
  },
  {
   "cell_type": "code",
   "execution_count": 10,
   "metadata": {
    "slideshow": {
     "slide_type": "subslide"
    }
   },
   "outputs": [
    {
     "data": {
      "image/png": "[encoded data removed]",
      "text/plain": [
       "<Figure size 720x432 with 1 Axes>"
      ]
     },
     "execution_count": 10,
     "metadata": {},
     "output_type": "execute_result"
    },
    {
     "data": {
      "image/png": "[encoded data removed]",
      "text/plain": [
       "<Figure size 720x432 with 1 Axes>"
      ]
     },
     "metadata": {
      "needs_background": "light"
     },
     "output_type": "display_data"
    }
   ],
   "source": [
    "tukey_res.plot_simultaneous(ylabel= \"Combination\", xlabel= \"Rate\")"
   ]
  },
  {
   "cell_type": "markdown",
   "metadata": {
    "slideshow": {
     "slide_type": "subslide"
    }
   },
   "source": [
    "Analysing the interaction:\n",
    "1. When using low power the gap does not make a difference\n",
    "2. All other interactions are significant\n",
    "\n",
    "## Activity: write down other possible conclusions while analysing the data"
   ]
  },
  {
   "cell_type": "markdown",
   "metadata": {
    "slideshow": {
     "slide_type": "slide"
    }
   },
   "source": [
    "## Statistical Power\n",
    "\n",
    "As for other ANOVA tests we can do power calculations. There are no readily available tools to calculate the power of a factorial design  to answer:\n",
    "\n",
    "1. How sure am I that if I was correct in **not** rejecting the null hypothesis? **Type II error**\n",
    "2. How many samples would I have needed if I wanted to detect a specific difference\n",
    "\n",
    "We can use the ROC graphs ensuring we use the right degrees of freedom, or we can use the functions in Python.\n",
    "\n",
    "Note that the degrees of freedom are in the ANOVA table, the numerator is related to the factor of interest, the denominator to the *Residual*. Also note that if you erroneously used a 1-way ANOVA or combined the data, those degrees of freedom will be erroneous as well !"
   ]
  },
  {
   "cell_type": "markdown",
   "metadata": {
    "slideshow": {
     "slide_type": "subslide"
    }
   },
   "source": [
    "For power calculations we will need to calculate the **effect size**, which is defined by the $\\eta^2$. We will calculate this value here for the whole table. \n",
    "\n",
    "Note that for each factor this is obtained from:\n",
    "\n",
    "$$\\eta^2=\\frac{SS_{factor}}{SS_{factor}+SS_{error}}$$\n",
    "\n",
    "Remember the $SS_{error}$ is the *Residual*\n",
    "\n",
    "We will calculate $\\eta^2$ for each of the factors."
   ]
  },
  {
   "cell_type": "code",
   "execution_count": 11,
   "metadata": {
    "slideshow": {
     "slide_type": "subslide"
    }
   },
   "outputs": [
    {
     "name": "stdout",
     "output_type": "stream",
     "text": [
      "                sum_sq    df           F        PR(>F)    eta_sq\n",
      "Gap         41310.5625   1.0   23.767029  3.816422e-04  0.664495\n",
      "Power      374850.0625   1.0  215.660881  4.951261e-09  0.947290\n",
      "Gap:Power   94402.5625   1.0   54.312222  8.620836e-06  0.819038\n",
      "Residual    20857.7500  12.0         NaN           NaN       NaN\n"
     ]
    }
   ],
   "source": [
    "# We first extract SS_error from the ANOVA table\n",
    "SS_error = anovaResults[-1:]['sum_sq'][0]   # the last row is -1 and it is the Residuals\n",
    "\n",
    "# Then calculate eta_sqare with the formula for all factors (0:one less of the total rows as those are Resiguals)\n",
    "eta_sq = anovaResults[0:len(anovaResults)-1]['sum_sq']/(anovaResults[0:len(anovaResults)-1]['sum_sq']+SS_error)\n",
    "\n",
    "# This code will add a column to the ANOVA results with the EtaSquare \n",
    "anovaResults['eta_sq'] = eta_sq\n",
    "\n",
    "print(anovaResults)"
   ]
  },
  {
   "cell_type": "markdown",
   "metadata": {
    "slideshow": {
     "slide_type": "subslide"
    }
   },
   "source": [
    "With the effect size $\\eta^2$ can be then used to perform a ANOVA Power test. \n",
    "\n",
    "Note that for now, Python **does not** have a power calculation function that accounts for more than one effect so we will use again **R. R** is a great tool for statistics although it requires often quite a bit of training to use as they use often statistic terms. But if you have the name of the function to run you can invoke it from Python.\n",
    "\n",
    "For factorial design R does not have a specific power calculation but a sample calculation can also give us a good answer. If we have enough samples to achieve a power of 80% we are in a good position."
   ]
  },
  {
   "cell_type": "code",
   "execution_count": 13,
   "metadata": {
    "scrolled": true,
    "slideshow": {
     "slide_type": "subslide"
    }
   },
   "outputs": [
    {
     "name": "stdout",
     "output_type": "stream",
     "text": [
      "The rpy2.ipython extension is already loaded. To reload it, use:\n",
      "  %reload_ext rpy2.ipython\n",
      "\n",
      "\r\n",
      "Treatment: Gap\n",
      "\r\n",
      "Effect Size: 0.664495\n",
      "\r\n",
      "Total N: 15\n",
      "\r\n",
      "n per cell: 2\n",
      "\r\n",
      "\n",
      "\n"
     ]
    }
   ],
   "source": [
    "# We first export a package rpy2 that allows to run R within Python\n",
    "%load_ext rpy2.ipython\n",
    "# and the robject that will let me invoke R objects\n",
    "import rpy2.robjects as robjects\n",
    "\n",
    "#finally, I prepare myself the string that will be passed to run to R\n",
    "#note that I will manually enter here for simplicity the values \n",
    "rstring=\"\"\"\n",
    "library(easypower)\n",
    "main.eff.1 <- list(name = \"Gap\", levels = 3, eta.sq = 0.664495)\n",
    "main.eff.2 <- list(name = \"Power\", levels = 3, eta.sq = 0.947290)\n",
    "n.multiway(iv1=main.eff.1, iv2=main.eff.2, interaction.eta2 = 0.819038, result=\"highest\", sig.level = 0.05, power = 0.8)\n",
    "\"\"\" #quick note for this multiway, the highest parameter is giving us the maximum number of samples required\n",
    "\n",
    "#and invoke R\n",
    "rfunc=robjects.r(rstring)\n",
    "#finally, I print what R obtained as a result\n",
    "print(rfunc)"
   ]
  },
  {
   "cell_type": "markdown",
   "metadata": {
    "slideshow": {
     "slide_type": "subslide"
    }
   },
   "source": [
    "R is telling us that to have a power of 80% and a significance of 95% we then need to have 16 samples in total or 2 samples per cell. We have 3 samples per cell so we can ensure we have this power.\n",
    "\n",
    "## Activity: try higher power levels to determine the real power for our test number of samples per cell"
   ]
  },
  {
   "cell_type": "markdown",
   "metadata": {
    "slideshow": {
     "slide_type": "slide"
    }
   },
   "source": [
    "## Fitting Data\n",
    "\n",
    "One final concept to review in factorial design is the **$R^2$**. This tells us the probability that the model we have determined is indeed explained by the factors and interactions we found to be significant.\n",
    "\n",
    "$$R^2 = \\frac{SS_{factor1} + SS_{factor2} + ... + SS_{factorp} + SS_{interactions}}{SS_{total}}$$\n",
    "\n",
    "We can obtain from the ANOVA results those values and calculate $R^2$"
   ]
  },
  {
   "cell_type": "code",
   "execution_count": 14,
   "metadata": {
    "slideshow": {
     "slide_type": "subslide"
    }
   },
   "outputs": [
    {
     "name": "stdout",
     "output_type": "stream",
     "text": [
      "0.9607509818899447\n"
     ]
    }
   ],
   "source": [
    "SS_nominator = np.sum(anovaResults[:-1]['sum_sq'] )\n",
    "SS_total = np.sum(anovaResults[:]['sum_sq'])  #Note the total includes residual\n",
    "\n",
    "R_square = SS_nominator/SS_total\n",
    "\n",
    "print(R_square)"
   ]
  },
  {
   "cell_type": "markdown",
   "metadata": {
    "slideshow": {
     "slide_type": "fragment"
    }
   },
   "source": [
    "Telling us that there is a 96.08%  probability that the variability in rate is explained by the gap and the power considering interaction between those factors."
   ]
  },
  {
   "cell_type": "markdown",
   "metadata": {
    "slideshow": {
     "slide_type": "subslide"
    }
   },
   "source": [
    "Finally, the **statsmodels** package that we have used for ANOVA can also provide us with a fit information for the factorial design. \n",
    "\n",
    "We already had fitted the model using *ols*, so we can print a summary of that model and inspect the result.\n",
    "\n",
    "We will now finalize the fit analysis using this function by printing the model summary."
   ]
  },
  {
   "cell_type": "code",
   "execution_count": 15,
   "metadata": {
    "slideshow": {
     "slide_type": "subslide"
    }
   },
   "outputs": [
    {
     "name": "stdout",
     "output_type": "stream",
     "text": [
      "                            OLS Regression Results                            \n",
      "==============================================================================\n",
      "Dep. Variable:                   Rate   R-squared:                       0.961\n",
      "Model:                            OLS   Adj. R-squared:                  0.951\n",
      "Method:                 Least Squares   F-statistic:                     97.91\n",
      "Date:                Tue, 31 Aug 2021   Prob (F-statistic):           1.05e-08\n",
      "Time:                        15:24:50   Log-Likelihood:                -80.086\n",
      "No. Observations:                  16   AIC:                             168.2\n",
      "Df Residuals:                      12   BIC:                             171.3\n",
      "Df Model:                           3                                         \n",
      "Covariance Type:            nonrobust                                         \n",
      "=======================================================================================\n",
      "                          coef    std err          t      P>|t|      [0.025      0.975]\n",
      "---------------------------------------------------------------------------------------\n",
      "Intercept             801.5000     20.846     38.449      0.000     756.081     846.919\n",
      "Gap[T.-]              255.2500     29.480      8.658      0.000     191.019     319.481\n",
      "Power[T.-]           -152.5000     29.480     -5.173      0.000    -216.731     -88.269\n",
      "Gap[T.-]:Power[T.-]  -307.2500     41.691     -7.370      0.000    -398.087    -216.413\n",
      "==============================================================================\n",
      "Omnibus:                        0.148   Durbin-Watson:                   1.417\n",
      "Prob(Omnibus):                  0.928   Jarque-Bera (JB):                0.092\n",
      "Skew:                          -0.113   Prob(JB):                        0.955\n",
      "Kurtosis:                       2.704   Cond. No.                         6.85\n",
      "==============================================================================\n",
      "\n",
      "Warnings:\n",
      "[1] Standard Errors assume that the covariance matrix of the errors is correctly specified.\n"
     ]
    },
    {
     "name": "stderr",
     "output_type": "stream",
     "text": [
      "C:\\Users\\lcuri\\Anaconda3\\lib\\site-packages\\scipy\\stats\\stats.py:1394: UserWarning: kurtosistest only valid for n>=20 ... continuing anyway, n=16\n",
      "  \"anyway, n=%i\" % int(n))\n"
     ]
    }
   ],
   "source": [
    "modelFit = ols('Rate ~ Gap + Power + Gap:Power',df2factors).fit()\n",
    "\n",
    "print(modelFit.summary())"
   ]
  },
  {
   "cell_type": "markdown",
   "metadata": {
    "slideshow": {
     "slide_type": "subslide"
    }
   },
   "source": [
    "We can observe:\n",
    "\n",
    "1. $R^2$ value in here as well and indicates a very good model \n",
    "2. The adjusted $R^2$ being reasonably close to the $R^2$ indicates that accounting for the number of samples the model accuracy is maintained\n",
    "3. Our $F$ and the associated $p$ indicates that we can be quite confident that our model is linear $p<<0.001$\n",
    "4. Going feature by feature we see that all are required for prediction, including the interaction. "
   ]
  },
  {
   "cell_type": "markdown",
   "metadata": {
    "slideshow": {
     "slide_type": "subslide"
    }
   },
   "source": [
    "We could use that table to do predictions as we did for **factorial design** but remember these are categorical variables. It is more interesting to do a regression but for that we would require the values to be continuous.\n",
    "\n",
    "But we do have the values for \"low\" and \"high\" for each case, so we can transform the data.\n",
    "\n",
    "* Power Low = 275\n",
    "* Power High = 325\n",
    "* Gap Low = 0.8\n",
    "* Gap High = 1.2"
   ]
  },
  {
   "cell_type": "code",
   "execution_count": 16,
   "metadata": {
    "slideshow": {
     "slide_type": "subslide"
    }
   },
   "outputs": [
    {
     "name": "stdout",
     "output_type": "stream",
     "text": [
      "    id  Gap  Power    Rate\n",
      "0    1  0.8    275   550.0\n",
      "1    2  1.2    275   669.0\n",
      "2    3  0.8    275   604.0\n",
      "3    4  1.2    275   650.0\n",
      "4    5  0.8    275   633.0\n",
      "5    6  1.2    275   642.0\n",
      "6    7  0.8    275   601.0\n",
      "7    8  1.2    275   635.0\n",
      "8    9  0.8    325  1037.0\n",
      "9   10  1.2    325   749.0\n",
      "10  11  0.8    325  1052.0\n",
      "11  12  1.2    325   868.0\n",
      "12  13  0.8    325  1075.0\n",
      "13  14  1.2    325   860.0\n",
      "14  15  0.8    325  1063.0\n",
      "15  16  1.2    325   729.0\n"
     ]
    }
   ],
   "source": [
    "df2factorsNumeric = df2factors\n",
    "\n",
    "dtaP=df2factorsNumeric['Power'].replace('+'.encode('UTF-8'),325)   #in dta3 we have the data with dropped columns\n",
    "dtaP=dtaP.replace('-'.encode('UTF-8'),275)\n",
    "dtaG=df2factorsNumeric['Gap'].replace('+'.encode('UTF-8'),1.2)\n",
    "dtaG=dtaG.replace('-'.encode('UTF-8'),0.8)\n",
    "\n",
    "df2factorsNumeric['Power']=dtaP\n",
    "df2factorsNumeric['Gap']=dtaG\n",
    "\n",
    "df2factors=df.drop(['Pressure', 'Flow'], axis=1)\n",
    "\n",
    "print(df2factorsNumeric)"
   ]
  },
  {
   "cell_type": "code",
   "execution_count": 17,
   "metadata": {
    "slideshow": {
     "slide_type": "subslide"
    }
   },
   "outputs": [
    {
     "name": "stdout",
     "output_type": "stream",
     "text": [
      "Intercept: \n",
      " -806.625\n",
      "Coefficients: \n",
      " [-254.0625    6.1225]\n"
     ]
    }
   ],
   "source": [
    "from sklearn import linear_model\n",
    "\n",
    "X = df2factorsNumeric[['Gap','Power']] # here we have 2 variables for multiple regression that are independent \n",
    "Y = df2factorsNumeric ['Rate'] #here we have the dependent variable\n",
    "\n",
    "regr = linear_model.LinearRegression()  #the linear regression\n",
    "regr.fit(X, Y)\n",
    "\n",
    "print('Intercept: \\n', regr.intercept_)\n",
    "print('Coefficients: \\n', regr.coef_)"
   ]
  },
  {
   "cell_type": "markdown",
   "metadata": {
    "slideshow": {
     "slide_type": "subslide"
    }
   },
   "source": [
    "Just to double check, note that using OLS we get the same result. "
   ]
  },
  {
   "cell_type": "code",
   "execution_count": 18,
   "metadata": {
    "scrolled": true,
    "slideshow": {
     "slide_type": "subslide"
    }
   },
   "outputs": [
    {
     "name": "stdout",
     "output_type": "stream",
     "text": [
      "                            OLS Regression Results                            \n",
      "==============================================================================\n",
      "Dep. Variable:                   Rate   R-squared:                       0.783\n",
      "Model:                            OLS   Adj. R-squared:                  0.750\n",
      "Method:                 Least Squares   F-statistic:                     23.47\n",
      "Date:                Tue, 31 Aug 2021   Prob (F-statistic):           4.85e-05\n",
      "Time:                        15:25:04   Log-Likelihood:                -93.762\n",
      "No. Observations:                  16   AIC:                             193.5\n",
      "Df Residuals:                      13   BIC:                             195.8\n",
      "Df Model:                           2                                         \n",
      "Covariance Type:            nonrobust                                         \n",
      "==============================================================================\n",
      "                 coef    std err          t      P>|t|      [0.025      0.975]\n",
      "------------------------------------------------------------------------------\n",
      "const       -806.6250    306.925     -2.628      0.021   -1469.697    -143.553\n",
      "Gap         -254.0625    117.700     -2.159      0.050    -508.339       0.214\n",
      "Power          6.1225      0.942      6.502      0.000       4.088       8.157\n",
      "==============================================================================\n",
      "Omnibus:                        3.852   Durbin-Watson:                   2.894\n",
      "Prob(Omnibus):                  0.146   Jarque-Bera (JB):                1.656\n",
      "Skew:                          -0.433   Prob(JB):                        0.437\n",
      "Kurtosis:                       1.683   Cond. No.                     3.97e+03\n",
      "==============================================================================\n",
      "\n",
      "Warnings:\n",
      "[1] Standard Errors assume that the covariance matrix of the errors is correctly specified.\n",
      "[2] The condition number is large, 3.97e+03. This might indicate that there are\n",
      "strong multicollinearity or other numerical problems.\n"
     ]
    },
    {
     "name": "stderr",
     "output_type": "stream",
     "text": [
      "C:\\Users\\lcuri\\Anaconda3\\lib\\site-packages\\scipy\\stats\\stats.py:1394: UserWarning: kurtosistest only valid for n>=20 ... continuing anyway, n=16\n",
      "  \"anyway, n=%i\" % int(n))\n"
     ]
    }
   ],
   "source": [
    "import statsmodels.regression.linear_model as sm\n",
    "\n",
    "X = sm.add_constant(X)\n",
    "modelFitNumeric = sm.OLS(Y, X).fit()\n",
    "\n",
    "print(modelFitNumeric.summary())"
   ]
  },
  {
   "cell_type": "markdown",
   "metadata": {
    "slideshow": {
     "slide_type": "subslide"
    }
   },
   "source": [
    "With the fit we can make a prediction, and finally make a graph of the predicted surface and the scatter of the points that were measured."
   ]
  },
  {
   "cell_type": "code",
   "execution_count": 19,
   "metadata": {
    "slideshow": {
     "slide_type": "subslide"
    }
   },
   "outputs": [
    {
     "data": {
      "application/javascript": [
       "/* Put everything inside the global mpl namespace */\n",
       "window.mpl = {};\n",
       "\n",
       "\n",
       "mpl.get_websocket_type = function() {\n",
       "    if (typeof(WebSocket) !== 'undefined') {\n",
       "        return WebSocket;\n",
       "    } else if (typeof(MozWebSocket) !== 'undefined') {\n",
       "        return MozWebSocket;\n",
       "    } else {\n",
       "        alert('Your browser does not have WebSocket support. ' +\n",
       "              'Please try Chrome, Safari or Firefox ≥ 6. ' +\n",
       "              'Firefox 4 and 5 are also supported but you ' +\n",
       "              'have to enable WebSockets in about:config.');\n",
       "    };\n",
       "}\n",
       "\n",
       "mpl.figure = function(figure_id, websocket, ondownload, parent_element) {\n",
       "    this.id = figure_id;\n",
       "\n",
       "    this.ws = websocket;\n",
       "\n",
       "    this.supports_binary = (this.ws.binaryType != undefined);\n",
       "\n",
       "    if (!this.supports_binary) {\n",
       "        var warnings = document.getElementById(\"mpl-warnings\");\n",
       "        if (warnings) {\n",
       "            warnings.style.display = 'block';\n",
       "            warnings.textContent = (\n",
       "                \"This browser does not support binary websocket messages. \" +\n",
       "                    \"Performance may be slow.\");\n",
       "        }\n",
       "    }\n",
       "\n",
       "    this.imageObj = new Image();\n",
       "\n",
       "    this.context = undefined;\n",
       "    this.message = undefined;\n",
       "    this.canvas = undefined;\n",
       "    this.rubberband_canvas = undefined;\n",
       "    this.rubberband_context = undefined;\n",
       "    this.format_dropdown = undefined;\n",
       "\n",
       "    this.image_mode = 'full';\n",
       "\n",
       "    this.root = $('<div/>');\n",
       "    this._root_extra_style(this.root)\n",
       "    this.root.attr('style', 'display: inline-block');\n",
       "\n",
       "    $(parent_element).append(this.root);\n",
       "\n",
       "    this._init_header(this);\n",
       "    this._init_canvas(this);\n",
       "    this._init_toolbar(this);\n",
       "\n",
       "    var fig = this;\n",
       "\n",
       "    this.waiting = false;\n",
       "\n",
       "    this.ws.onopen =  function () {\n",
       "            fig.send_message(\"supports_binary\", {value: fig.supports_binary});\n",
       "            fig.send_message(\"send_image_mode\", {});\n",
       "            if (mpl.ratio != 1) {\n",
       "                fig.send_message(\"set_dpi_ratio\", {'dpi_ratio': mpl.ratio});\n",
       "            }\n",
       "            fig.send_message(\"refresh\", {});\n",
       "        }\n",
       "\n",
       "    this.imageObj.onload = function() {\n",
       "            if (fig.image_mode == 'full') {\n",
       "                // Full images could contain transparency (where diff images\n",
       "                // almost always do), so we need to clear the canvas so that\n",
       "                // there is no ghosting.\n",
       "                fig.context.clearRect(0, 0, fig.canvas.width, fig.canvas.height);\n",
       "            }\n",
       "            fig.context.drawImage(fig.imageObj, 0, 0);\n",
       "        };\n",
       "\n",
       "    this.imageObj.onunload = function() {\n",
       "        fig.ws.close();\n",
       "    }\n",
       "\n",
       "    this.ws.onmessage = this._make_on_message_function(this);\n",
       "\n",
       "    this.ondownload = ondownload;\n",
       "}\n",
       "\n",
       "mpl.figure.prototype._init_header = function() {\n",
       "    var titlebar = $(\n",
       "        '<div class=\"ui-dialog-titlebar ui-widget-header ui-corner-all ' +\n",
       "        'ui-helper-clearfix\"/>');\n",
       "    var titletext = $(\n",
       "        '<div class=\"ui-dialog-title\" style=\"width: 100%; ' +\n",
       "        'text-align: center; padding: 3px;\"/>');\n",
       "    titlebar.append(titletext)\n",
       "    this.root.append(titlebar);\n",
       "    this.header = titletext[0];\n",
       "}\n",
       "\n",
       "\n",
       "\n",
       "mpl.figure.prototype._canvas_extra_style = function(canvas_div) {\n",
       "\n",
       "}\n",
       "\n",
       "\n",
       "mpl.figure.prototype._root_extra_style = function(canvas_div) {\n",
       "\n",
       "}\n",
       "\n",
       "mpl.figure.prototype._init_canvas = function() {\n",
       "    var fig = this;\n",
       "\n",
       "    var canvas_div = $('<div/>');\n",
       "\n",
       "    canvas_div.attr('style', 'position: relative; clear: both; outline: 0');\n",
       "\n",
       "    function canvas_keyboard_event(event) {\n",
       "        return fig.key_event(event, event['data']);\n",
       "    }\n",
       "\n",
       "    canvas_div.keydown('key_press', canvas_keyboard_event);\n",
       "    canvas_div.keyup('key_release', canvas_keyboard_event);\n",
       "    this.canvas_div = canvas_div\n",
       "    this._canvas_extra_style(canvas_div)\n",
       "    this.root.append(canvas_div);\n",
       "\n",
       "    var canvas = $('<canvas/>');\n",
       "    canvas.addClass('mpl-canvas');\n",
       "    canvas.attr('style', \"left: 0; top: 0; z-index: 0; outline: 0\")\n",
       "\n",
       "    this.canvas = canvas[0];\n",
       "    this.context = canvas[0].getContext(\"2d\");\n",
       "\n",
       "    var backingStore = this.context.backingStorePixelRatio ||\n",
       "\tthis.context.webkitBackingStorePixelRatio ||\n",
       "\tthis.context.mozBackingStorePixelRatio ||\n",
       "\tthis.context.msBackingStorePixelRatio ||\n",
       "\tthis.context.oBackingStorePixelRatio ||\n",
       "\tthis.context.backingStorePixelRatio || 1;\n",
       "\n",
       "    mpl.ratio = (window.devicePixelRatio || 1) / backingStore;\n",
       "\n",
       "    var rubberband = $('<canvas/>');\n",
       "    rubberband.attr('style', \"position: absolute; left: 0; top: 0; z-index: 1;\")\n",
       "\n",
       "    var pass_mouse_events = true;\n",
       "\n",
       "    canvas_div.resizable({\n",
       "        start: function(event, ui) {\n",
       "            pass_mouse_events = false;\n",
       "        },\n",
       "        resize: function(event, ui) {\n",
       "            fig.request_resize(ui.size.width, ui.size.height);\n",
       "        },\n",
       "        stop: function(event, ui) {\n",
       "            pass_mouse_events = true;\n",
       "            fig.request_resize(ui.size.width, ui.size.height);\n",
       "        },\n",
       "    });\n",
       "\n",
       "    function mouse_event_fn(event) {\n",
       "        if (pass_mouse_events)\n",
       "            return fig.mouse_event(event, event['data']);\n",
       "    }\n",
       "\n",
       "    rubberband.mousedown('button_press', mouse_event_fn);\n",
       "    rubberband.mouseup('button_release', mouse_event_fn);\n",
       "    // Throttle sequential mouse events to 1 every 20ms.\n",
       "    rubberband.mousemove('motion_notify', mouse_event_fn);\n",
       "\n",
       "    rubberband.mouseenter('figure_enter', mouse_event_fn);\n",
       "    rubberband.mouseleave('figure_leave', mouse_event_fn);\n",
       "\n",
       "    canvas_div.on(\"wheel\", function (event) {\n",
       "        event = event.originalEvent;\n",
       "        event['data'] = 'scroll'\n",
       "        if (event.deltaY < 0) {\n",
       "            event.step = 1;\n",
       "        } else {\n",
       "            event.step = -1;\n",
       "        }\n",
       "        mouse_event_fn(event);\n",
       "    });\n",
       "\n",
       "    canvas_div.append(canvas);\n",
       "    canvas_div.append(rubberband);\n",
       "\n",
       "    this.rubberband = rubberband;\n",
       "    this.rubberband_canvas = rubberband[0];\n",
       "    this.rubberband_context = rubberband[0].getContext(\"2d\");\n",
       "    this.rubberband_context.strokeStyle = \"#000000\";\n",
       "\n",
       "    this._resize_canvas = function(width, height) {\n",
       "        // Keep the size of the canvas, canvas container, and rubber band\n",
       "        // canvas in synch.\n",
       "        canvas_div.css('width', width)\n",
       "        canvas_div.css('height', height)\n",
       "\n",
       "        canvas.attr('width', width * mpl.ratio);\n",
       "        canvas.attr('height', height * mpl.ratio);\n",
       "        canvas.attr('style', 'width: ' + width + 'px; height: ' + height + 'px;');\n",
       "\n",
       "        rubberband.attr('width', width);\n",
       "        rubberband.attr('height', height);\n",
       "    }\n",
       "\n",
       "    // Set the figure to an initial 600x600px, this will subsequently be updated\n",
       "    // upon first draw.\n",
       "    this._resize_canvas(600, 600);\n",
       "\n",
       "    // Disable right mouse context menu.\n",
       "    $(this.rubberband_canvas).bind(\"contextmenu\",function(e){\n",
       "        return false;\n",
       "    });\n",
       "\n",
       "    function set_focus () {\n",
       "        canvas.focus();\n",
       "        canvas_div.focus();\n",
       "    }\n",
       "\n",
       "    window.setTimeout(set_focus, 100);\n",
       "}\n",
       "\n",
       "mpl.figure.prototype._init_toolbar = function() {\n",
       "    var fig = this;\n",
       "\n",
       "    var nav_element = $('<div/>');\n",
       "    nav_element.attr('style', 'width: 100%');\n",
       "    this.root.append(nav_element);\n",
       "\n",
       "    // Define a callback function for later on.\n",
       "    function toolbar_event(event) {\n",
       "        return fig.toolbar_button_onclick(event['data']);\n",
       "    }\n",
       "    function toolbar_mouse_event(event) {\n",
       "        return fig.toolbar_button_onmouseover(event['data']);\n",
       "    }\n",
       "\n",
       "    for(var toolbar_ind in mpl.toolbar_items) {\n",
       "        var name = mpl.toolbar_items[toolbar_ind][0];\n",
       "        var tooltip = mpl.toolbar_items[toolbar_ind][1];\n",
       "        var image = mpl.toolbar_items[toolbar_ind][2];\n",
       "        var method_name = mpl.toolbar_items[toolbar_ind][3];\n",
       "\n",
       "        if (!name) {\n",
       "            // put a spacer in here.\n",
       "            continue;\n",
       "        }\n",
       "        var button = $('<button/>');\n",
       "        button.addClass('ui-button ui-widget ui-state-default ui-corner-all ' +\n",
       "                        'ui-button-icon-only');\n",
       "        button.attr('role', 'button');\n",
       "        button.attr('aria-disabled', 'false');\n",
       "        button.click(method_name, toolbar_event);\n",
       "        button.mouseover(tooltip, toolbar_mouse_event);\n",
       "\n",
       "        var icon_img = $('<span/>');\n",
       "        icon_img.addClass('ui-button-icon-primary ui-icon');\n",
       "        icon_img.addClass(image);\n",
       "        icon_img.addClass('ui-corner-all');\n",
       "\n",
       "        var tooltip_span = $('<span/>');\n",
       "        tooltip_span.addClass('ui-button-text');\n",
       "        tooltip_span.html(tooltip);\n",
       "\n",
       "        button.append(icon_img);\n",
       "        button.append(tooltip_span);\n",
       "\n",
       "        nav_element.append(button);\n",
       "    }\n",
       "\n",
       "    var fmt_picker_span = $('<span/>');\n",
       "\n",
       "    var fmt_picker = $('<select/>');\n",
       "    fmt_picker.addClass('mpl-toolbar-option ui-widget ui-widget-content');\n",
       "    fmt_picker_span.append(fmt_picker);\n",
       "    nav_element.append(fmt_picker_span);\n",
       "    this.format_dropdown = fmt_picker[0];\n",
       "\n",
       "    for (var ind in mpl.extensions) {\n",
       "        var fmt = mpl.extensions[ind];\n",
       "        var option = $(\n",
       "            '<option/>', {selected: fmt === mpl.default_extension}).html(fmt);\n",
       "        fmt_picker.append(option);\n",
       "    }\n",
       "\n",
       "    // Add hover states to the ui-buttons\n",
       "    $( \".ui-button\" ).hover(\n",
       "        function() { $(this).addClass(\"ui-state-hover\");},\n",
       "        function() { $(this).removeClass(\"ui-state-hover\");}\n",
       "    );\n",
       "\n",
       "    var status_bar = $('<span class=\"mpl-message\"/>');\n",
       "    nav_element.append(status_bar);\n",
       "    this.message = status_bar[0];\n",
       "}\n",
       "\n",
       "mpl.figure.prototype.request_resize = function(x_pixels, y_pixels) {\n",
       "    // Request matplotlib to resize the figure. Matplotlib will then trigger a resize in the client,\n",
       "    // which will in turn request a refresh of the image.\n",
       "    this.send_message('resize', {'width': x_pixels, 'height': y_pixels});\n",
       "}\n",
       "\n",
       "mpl.figure.prototype.send_message = function(type, properties) {\n",
       "    properties['type'] = type;\n",
       "    properties['figure_id'] = this.id;\n",
       "    this.ws.send(JSON.stringify(properties));\n",
       "}\n",
       "\n",
       "mpl.figure.prototype.send_draw_message = function() {\n",
       "    if (!this.waiting) {\n",
       "        this.waiting = true;\n",
       "        this.ws.send(JSON.stringify({type: \"draw\", figure_id: this.id}));\n",
       "    }\n",
       "}\n",
       "\n",
       "\n",
       "mpl.figure.prototype.handle_save = function(fig, msg) {\n",
       "    var format_dropdown = fig.format_dropdown;\n",
       "    var format = format_dropdown.options[format_dropdown.selectedIndex].value;\n",
       "    fig.ondownload(fig, format);\n",
       "}\n",
       "\n",
       "\n",
       "mpl.figure.prototype.handle_resize = function(fig, msg) {\n",
       "    var size = msg['size'];\n",
       "    if (size[0] != fig.canvas.width || size[1] != fig.canvas.height) {\n",
       "        fig._resize_canvas(size[0], size[1]);\n",
       "        fig.send_message(\"refresh\", {});\n",
       "    };\n",
       "}\n",
       "\n",
       "mpl.figure.prototype.handle_rubberband = function(fig, msg) {\n",
       "    var x0 = msg['x0'] / mpl.ratio;\n",
       "    var y0 = (fig.canvas.height - msg['y0']) / mpl.ratio;\n",
       "    var x1 = msg['x1'] / mpl.ratio;\n",
       "    var y1 = (fig.canvas.height - msg['y1']) / mpl.ratio;\n",
       "    x0 = Math.floor(x0) + 0.5;\n",
       "    y0 = Math.floor(y0) + 0.5;\n",
       "    x1 = Math.floor(x1) + 0.5;\n",
       "    y1 = Math.floor(y1) + 0.5;\n",
       "    var min_x = Math.min(x0, x1);\n",
       "    var min_y = Math.min(y0, y1);\n",
       "    var width = Math.abs(x1 - x0);\n",
       "    var height = Math.abs(y1 - y0);\n",
       "\n",
       "    fig.rubberband_context.clearRect(\n",
       "        0, 0, fig.canvas.width / mpl.ratio, fig.canvas.height / mpl.ratio);\n",
       "\n",
       "    fig.rubberband_context.strokeRect(min_x, min_y, width, height);\n",
       "}\n",
       "\n",
       "mpl.figure.prototype.handle_figure_label = function(fig, msg) {\n",
       "    // Updates the figure title.\n",
       "    fig.header.textContent = msg['label'];\n",
       "}\n",
       "\n",
       "mpl.figure.prototype.handle_cursor = function(fig, msg) {\n",
       "    var cursor = msg['cursor'];\n",
       "    switch(cursor)\n",
       "    {\n",
       "    case 0:\n",
       "        cursor = 'pointer';\n",
       "        break;\n",
       "    case 1:\n",
       "        cursor = 'default';\n",
       "        break;\n",
       "    case 2:\n",
       "        cursor = 'crosshair';\n",
       "        break;\n",
       "    case 3:\n",
       "        cursor = 'move';\n",
       "        break;\n",
       "    }\n",
       "    fig.rubberband_canvas.style.cursor = cursor;\n",
       "}\n",
       "\n",
       "mpl.figure.prototype.handle_message = function(fig, msg) {\n",
       "    fig.message.textContent = msg['message'];\n",
       "}\n",
       "\n",
       "mpl.figure.prototype.handle_draw = function(fig, msg) {\n",
       "    // Request the server to send over a new figure.\n",
       "    fig.send_draw_message();\n",
       "}\n",
       "\n",
       "mpl.figure.prototype.handle_image_mode = function(fig, msg) {\n",
       "    fig.image_mode = msg['mode'];\n",
       "}\n",
       "\n",
       "mpl.figure.prototype.updated_canvas_event = function() {\n",
       "    // Called whenever the canvas gets updated.\n",
       "    this.send_message(\"ack\", {});\n",
       "}\n",
       "\n",
       "// A function to construct a web socket function for onmessage handling.\n",
       "// Called in the figure constructor.\n",
       "mpl.figure.prototype._make_on_message_function = function(fig) {\n",
       "    return function socket_on_message(evt) {\n",
       "        if (evt.data instanceof Blob) {\n",
       "            /* FIXME: We get \"Resource interpreted as Image but\n",
       "             * transferred with MIME type text/plain:\" errors on\n",
       "             * Chrome.  But how to set the MIME type?  It doesn't seem\n",
       "             * to be part of the websocket stream */\n",
       "            evt.data.type = \"image/png\";\n",
       "\n",
       "            /* Free the memory for the previous frames */\n",
       "            if (fig.imageObj.src) {\n",
       "                (window.URL || window.webkitURL).revokeObjectURL(\n",
       "                    fig.imageObj.src);\n",
       "            }\n",
       "\n",
       "            fig.imageObj.src = (window.URL || window.webkitURL).createObjectURL(\n",
       "                evt.data);\n",
       "            fig.updated_canvas_event();\n",
       "            fig.waiting = false;\n",
       "            return;\n",
       "        }\n",
       "        else if (typeof evt.data === 'string' && evt.data.slice(0, 21) == \"data:image/png;base64\") {\n",
       "            fig.imageObj.src = evt.data;\n",
       "            fig.updated_canvas_event();\n",
       "            fig.waiting = false;\n",
       "            return;\n",
       "        }\n",
       "\n",
       "        var msg = JSON.parse(evt.data);\n",
       "        var msg_type = msg['type'];\n",
       "\n",
       "        // Call the  \"handle_{type}\" callback, which takes\n",
       "        // the figure and JSON message as its only arguments.\n",
       "        try {\n",
       "            var callback = fig[\"handle_\" + msg_type];\n",
       "        } catch (e) {\n",
       "            console.log(\"No handler for the '\" + msg_type + \"' message type: \", msg);\n",
       "            return;\n",
       "        }\n",
       "\n",
       "        if (callback) {\n",
       "            try {\n",
       "                // console.log(\"Handling '\" + msg_type + \"' message: \", msg);\n",
       "                callback(fig, msg);\n",
       "            } catch (e) {\n",
       "                console.log(\"Exception inside the 'handler_\" + msg_type + \"' callback:\", e, e.stack, msg);\n",
       "            }\n",
       "        }\n",
       "    };\n",
       "}\n",
       "\n",
       "// from http://stackoverflow.com/questions/1114465/getting-mouse-location-in-canvas\n",
       "mpl.findpos = function(e) {\n",
       "    //this section is from http://www.quirksmode.org/js/events_properties.html\n",
       "    var targ;\n",
       "    if (!e)\n",
       "        e = window.event;\n",
       "    if (e.target)\n",
       "        targ = e.target;\n",
       "    else if (e.srcElement)\n",
       "        targ = e.srcElement;\n",
       "    if (targ.nodeType == 3) // defeat Safari bug\n",
       "        targ = targ.parentNode;\n",
       "\n",
       "    // jQuery normalizes the pageX and pageY\n",
       "    // pageX,Y are the mouse positions relative to the document\n",
       "    // offset() returns the position of the element relative to the document\n",
       "    var x = e.pageX - $(targ).offset().left;\n",
       "    var y = e.pageY - $(targ).offset().top;\n",
       "\n",
       "    return {\"x\": x, \"y\": y};\n",
       "};\n",
       "\n",
       "/*\n",
       " * return a copy of an object with only non-object keys\n",
       " * we need this to avoid circular references\n",
       " * http://stackoverflow.com/a/24161582/3208463\n",
       " */\n",
       "function simpleKeys (original) {\n",
       "  return Object.keys(original).reduce(function (obj, key) {\n",
       "    if (typeof original[key] !== 'object')\n",
       "        obj[key] = original[key]\n",
       "    return obj;\n",
       "  }, {});\n",
       "}\n",
       "\n",
       "mpl.figure.prototype.mouse_event = function(event, name) {\n",
       "    var canvas_pos = mpl.findpos(event)\n",
       "\n",
       "    if (name === 'button_press')\n",
       "    {\n",
       "        this.canvas.focus();\n",
       "        this.canvas_div.focus();\n",
       "    }\n",
       "\n",
       "    var x = canvas_pos.x * mpl.ratio;\n",
       "    var y = canvas_pos.y * mpl.ratio;\n",
       "\n",
       "    this.send_message(name, {x: x, y: y, button: event.button,\n",
       "                             step: event.step,\n",
       "                             guiEvent: simpleKeys(event)});\n",
       "\n",
       "    /* This prevents the web browser from automatically changing to\n",
       "     * the text insertion cursor when the button is pressed.  We want\n",
       "     * to control all of the cursor setting manually through the\n",
       "     * 'cursor' event from matplotlib */\n",
       "    event.preventDefault();\n",
       "    return false;\n",
       "}\n",
       "\n",
       "mpl.figure.prototype._key_event_extra = function(event, name) {\n",
       "    // Handle any extra behaviour associated with a key event\n",
       "}\n",
       "\n",
       "mpl.figure.prototype.key_event = function(event, name) {\n",
       "\n",
       "    // Prevent repeat events\n",
       "    if (name == 'key_press')\n",
       "    {\n",
       "        if (event.which === this._key)\n",
       "            return;\n",
       "        else\n",
       "            this._key = event.which;\n",
       "    }\n",
       "    if (name == 'key_release')\n",
       "        this._key = null;\n",
       "\n",
       "    var value = '';\n",
       "    if (event.ctrlKey && event.which != 17)\n",
       "        value += \"ctrl+\";\n",
       "    if (event.altKey && event.which != 18)\n",
       "        value += \"alt+\";\n",
       "    if (event.shiftKey && event.which != 16)\n",
       "        value += \"shift+\";\n",
       "\n",
       "    value += 'k';\n",
       "    value += event.which.toString();\n",
       "\n",
       "    this._key_event_extra(event, name);\n",
       "\n",
       "    this.send_message(name, {key: value,\n",
       "                             guiEvent: simpleKeys(event)});\n",
       "    return false;\n",
       "}\n",
       "\n",
       "mpl.figure.prototype.toolbar_button_onclick = function(name) {\n",
       "    if (name == 'download') {\n",
       "        this.handle_save(this, null);\n",
       "    } else {\n",
       "        this.send_message(\"toolbar_button\", {name: name});\n",
       "    }\n",
       "};\n",
       "\n",
       "mpl.figure.prototype.toolbar_button_onmouseover = function(tooltip) {\n",
       "    this.message.textContent = tooltip;\n",
       "};\n",
       "mpl.toolbar_items = [[\"Home\", \"Reset original view\", \"fa fa-home icon-home\", \"home\"], [\"Back\", \"Back to previous view\", \"fa fa-arrow-left icon-arrow-left\", \"back\"], [\"Forward\", \"Forward to next view\", \"fa fa-arrow-right icon-arrow-right\", \"forward\"], [\"\", \"\", \"\", \"\"], [\"Pan\", \"Pan axes with left mouse, zoom with right\", \"fa fa-arrows icon-move\", \"pan\"], [\"Zoom\", \"Zoom to rectangle\", \"fa fa-square-o icon-check-empty\", \"zoom\"], [\"\", \"\", \"\", \"\"], [\"Download\", \"Download plot\", \"fa fa-floppy-o icon-save\", \"download\"]];\n",
       "\n",
       "mpl.extensions = [\"eps\", \"jpeg\", \"pdf\", \"png\", \"ps\", \"raw\", \"svg\", \"tif\"];\n",
       "\n",
       "mpl.default_extension = \"png\";var comm_websocket_adapter = function(comm) {\n",
       "    // Create a \"websocket\"-like object which calls the given IPython comm\n",
       "    // object with the appropriate methods. Currently this is a non binary\n",
       "    // socket, so there is still some room for performance tuning.\n",
       "    var ws = {};\n",
       "\n",
       "    ws.close = function() {\n",
       "        comm.close()\n",
       "    };\n",
       "    ws.send = function(m) {\n",
       "        //console.log('sending', m);\n",
       "        comm.send(m);\n",
       "    };\n",
       "    // Register the callback with on_msg.\n",
       "    comm.on_msg(function(msg) {\n",
       "        //console.log('receiving', msg['content']['data'], msg);\n",
       "        // Pass the mpl event to the overridden (by mpl) onmessage function.\n",
       "        ws.onmessage(msg['content']['data'])\n",
       "    });\n",
       "    return ws;\n",
       "}\n",
       "\n",
       "mpl.mpl_figure_comm = function(comm, msg) {\n",
       "    // This is the function which gets called when the mpl process\n",
       "    // starts-up an IPython Comm through the \"matplotlib\" channel.\n",
       "\n",
       "    var id = msg.content.data.id;\n",
       "    // Get hold of the div created by the display call when the Comm\n",
       "    // socket was opened in Python.\n",
       "    var element = $(\"#\" + id);\n",
       "    var ws_proxy = comm_websocket_adapter(comm)\n",
       "\n",
       "    function ondownload(figure, format) {\n",
       "        window.open(figure.imageObj.src);\n",
       "    }\n",
       "\n",
       "    var fig = new mpl.figure(id, ws_proxy,\n",
       "                           ondownload,\n",
       "                           element.get(0));\n",
       "\n",
       "    // Call onopen now - mpl needs it, as it is assuming we've passed it a real\n",
       "    // web socket which is closed, not our websocket->open comm proxy.\n",
       "    ws_proxy.onopen();\n",
       "\n",
       "    fig.parent_element = element.get(0);\n",
       "    fig.cell_info = mpl.find_output_cell(\"<div id='\" + id + \"'></div>\");\n",
       "    if (!fig.cell_info) {\n",
       "        console.error(\"Failed to find cell for figure\", id, fig);\n",
       "        return;\n",
       "    }\n",
       "\n",
       "    var output_index = fig.cell_info[2]\n",
       "    var cell = fig.cell_info[0];\n",
       "\n",
       "};\n",
       "\n",
       "mpl.figure.prototype.handle_close = function(fig, msg) {\n",
       "    var width = fig.canvas.width/mpl.ratio\n",
       "    fig.root.unbind('remove')\n",
       "\n",
       "    // Update the output cell to use the data from the current canvas.\n",
       "    fig.push_to_output();\n",
       "    var dataURL = fig.canvas.toDataURL();\n",
       "    // Re-enable the keyboard manager in IPython - without this line, in FF,\n",
       "    // the notebook keyboard shortcuts fail.\n",
       "    IPython.keyboard_manager.enable()\n",
       "    $(fig.parent_element).html('<img src=\"' + dataURL + '\" width=\"' + width + '\">');\n",
       "    fig.close_ws(fig, msg);\n",
       "}\n",
       "\n",
       "mpl.figure.prototype.close_ws = function(fig, msg){\n",
       "    fig.send_message('closing', msg);\n",
       "    // fig.ws.close()\n",
       "}\n",
       "\n",
       "mpl.figure.prototype.push_to_output = function(remove_interactive) {\n",
       "    // Turn the data on the canvas into data in the output cell.\n",
       "    var width = this.canvas.width/mpl.ratio\n",
       "    var dataURL = this.canvas.toDataURL();\n",
       "    this.cell_info[1]['text/html'] = '<img src=\"' + dataURL + '\" width=\"' + width + '\">';\n",
       "}\n",
       "\n",
       "mpl.figure.prototype.updated_canvas_event = function() {\n",
       "    // Tell IPython that the notebook contents must change.\n",
       "    IPython.notebook.set_dirty(true);\n",
       "    this.send_message(\"ack\", {});\n",
       "    var fig = this;\n",
       "    // Wait a second, then push the new image to the DOM so\n",
       "    // that it is saved nicely (might be nice to debounce this).\n",
       "    setTimeout(function () { fig.push_to_output() }, 1000);\n",
       "}\n",
       "\n",
       "mpl.figure.prototype._init_toolbar = function() {\n",
       "    var fig = this;\n",
       "\n",
       "    var nav_element = $('<div/>');\n",
       "    nav_element.attr('style', 'width: 100%');\n",
       "    this.root.append(nav_element);\n",
       "\n",
       "    // Define a callback function for later on.\n",
       "    function toolbar_event(event) {\n",
       "        return fig.toolbar_button_onclick(event['data']);\n",
       "    }\n",
       "    function toolbar_mouse_event(event) {\n",
       "        return fig.toolbar_button_onmouseover(event['data']);\n",
       "    }\n",
       "\n",
       "    for(var toolbar_ind in mpl.toolbar_items){\n",
       "        var name = mpl.toolbar_items[toolbar_ind][0];\n",
       "        var tooltip = mpl.toolbar_items[toolbar_ind][1];\n",
       "        var image = mpl.toolbar_items[toolbar_ind][2];\n",
       "        var method_name = mpl.toolbar_items[toolbar_ind][3];\n",
       "\n",
       "        if (!name) { continue; };\n",
       "\n",
       "        var button = $('<button class=\"btn btn-default\" href=\"#\" title=\"' + name + '\"><i class=\"fa ' + image + ' fa-lg\"></i></button>');\n",
       "        button.click(method_name, toolbar_event);\n",
       "        button.mouseover(tooltip, toolbar_mouse_event);\n",
       "        nav_element.append(button);\n",
       "    }\n",
       "\n",
       "    // Add the status bar.\n",
       "    var status_bar = $('<span class=\"mpl-message\" style=\"text-align:right; float: right;\"/>');\n",
       "    nav_element.append(status_bar);\n",
       "    this.message = status_bar[0];\n",
       "\n",
       "    // Add the close button to the window.\n",
       "    var buttongrp = $('<div class=\"btn-group inline pull-right\"></div>');\n",
       "    var button = $('<button class=\"btn btn-mini btn-primary\" href=\"#\" title=\"Stop Interaction\"><i class=\"fa fa-power-off icon-remove icon-large\"></i></button>');\n",
       "    button.click(function (evt) { fig.handle_close(fig, {}); } );\n",
       "    button.mouseover('Stop Interaction', toolbar_mouse_event);\n",
       "    buttongrp.append(button);\n",
       "    var titlebar = this.root.find($('.ui-dialog-titlebar'));\n",
       "    titlebar.prepend(buttongrp);\n",
       "}\n",
       "\n",
       "mpl.figure.prototype._root_extra_style = function(el){\n",
       "    var fig = this\n",
       "    el.on(\"remove\", function(){\n",
       "\tfig.close_ws(fig, {});\n",
       "    });\n",
       "}\n",
       "\n",
       "mpl.figure.prototype._canvas_extra_style = function(el){\n",
       "    // this is important to make the div 'focusable\n",
       "    el.attr('tabindex', 0)\n",
       "    // reach out to IPython and tell the keyboard manager to turn it's self\n",
       "    // off when our div gets focus\n",
       "\n",
       "    // location in version 3\n",
       "    if (IPython.notebook.keyboard_manager) {\n",
       "        IPython.notebook.keyboard_manager.register_events(el);\n",
       "    }\n",
       "    else {\n",
       "        // location in version 2\n",
       "        IPython.keyboard_manager.register_events(el);\n",
       "    }\n",
       "\n",
       "}\n",
       "\n",
       "mpl.figure.prototype._key_event_extra = function(event, name) {\n",
       "    var manager = IPython.notebook.keyboard_manager;\n",
       "    if (!manager)\n",
       "        manager = IPython.keyboard_manager;\n",
       "\n",
       "    // Check for shift+enter\n",
       "    if (event.shiftKey && event.which == 13) {\n",
       "        this.canvas_div.blur();\n",
       "        event.shiftKey = false;\n",
       "        // Send a \"J\" for go to next cell\n",
       "        event.which = 74;\n",
       "        event.keyCode = 74;\n",
       "        manager.command_mode();\n",
       "        manager.handle_keydown(event);\n",
       "    }\n",
       "}\n",
       "\n",
       "mpl.figure.prototype.handle_save = function(fig, msg) {\n",
       "    fig.ondownload(fig, null);\n",
       "}\n",
       "\n",
       "\n",
       "mpl.find_output_cell = function(html_output) {\n",
       "    // Return the cell and output element which can be found *uniquely* in the notebook.\n",
       "    // Note - this is a bit hacky, but it is done because the \"notebook_saving.Notebook\"\n",
       "    // IPython event is triggered only after the cells have been serialised, which for\n",
       "    // our purposes (turning an active figure into a static one), is too late.\n",
       "    var cells = IPython.notebook.get_cells();\n",
       "    var ncells = cells.length;\n",
       "    for (var i=0; i<ncells; i++) {\n",
       "        var cell = cells[i];\n",
       "        if (cell.cell_type === 'code'){\n",
       "            for (var j=0; j<cell.output_area.outputs.length; j++) {\n",
       "                var data = cell.output_area.outputs[j];\n",
       "                if (data.data) {\n",
       "                    // IPython >= 3 moved mimebundle to data attribute of output\n",
       "                    data = data.data;\n",
       "                }\n",
       "                if (data['text/html'] == html_output) {\n",
       "                    return [cell, data, j];\n",
       "                }\n",
       "            }\n",
       "        }\n",
       "    }\n",
       "}\n",
       "\n",
       "// Register the function which deals with the matplotlib target/channel.\n",
       "// The kernel may be null if the page has been refreshed.\n",
       "if (IPython.notebook.kernel != null) {\n",
       "    IPython.notebook.kernel.comm_manager.register_target('matplotlib', mpl.mpl_figure_comm);\n",
       "}\n"
      ],
      "text/plain": [
       "<IPython.core.display.Javascript object>"
      ]
     },
     "metadata": {},
     "output_type": "display_data"
    },
    {
     "data": {
      "text/html": [
       "<img src=\"data:image/png;base64,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\" width=\"720\">"
      ],
      "text/plain": [
       "<IPython.core.display.HTML object>"
      ]
     },
     "metadata": {},
     "output_type": "display_data"
    },
    {
     "data": {
      "application/javascript": [
       "/* Put everything inside the global mpl namespace */\n",
       "window.mpl = {};\n",
       "\n",
       "\n",
       "mpl.get_websocket_type = function() {\n",
       "    if (typeof(WebSocket) !== 'undefined') {\n",
       "        return WebSocket;\n",
       "    } else if (typeof(MozWebSocket) !== 'undefined') {\n",
       "        return MozWebSocket;\n",
       "    } else {\n",
       "        alert('Your browser does not have WebSocket support. ' +\n",
       "              'Please try Chrome, Safari or Firefox ≥ 6. ' +\n",
       "              'Firefox 4 and 5 are also supported but you ' +\n",
       "              'have to enable WebSockets in about:config.');\n",
       "    };\n",
       "}\n",
       "\n",
       "mpl.figure = function(figure_id, websocket, ondownload, parent_element) {\n",
       "    this.id = figure_id;\n",
       "\n",
       "    this.ws = websocket;\n",
       "\n",
       "    this.supports_binary = (this.ws.binaryType != undefined);\n",
       "\n",
       "    if (!this.supports_binary) {\n",
       "        var warnings = document.getElementById(\"mpl-warnings\");\n",
       "        if (warnings) {\n",
       "            warnings.style.display = 'block';\n",
       "            warnings.textContent = (\n",
       "                \"This browser does not support binary websocket messages. \" +\n",
       "                    \"Performance may be slow.\");\n",
       "        }\n",
       "    }\n",
       "\n",
       "    this.imageObj = new Image();\n",
       "\n",
       "    this.context = undefined;\n",
       "    this.message = undefined;\n",
       "    this.canvas = undefined;\n",
       "    this.rubberband_canvas = undefined;\n",
       "    this.rubberband_context = undefined;\n",
       "    this.format_dropdown = undefined;\n",
       "\n",
       "    this.image_mode = 'full';\n",
       "\n",
       "    this.root = $('<div/>');\n",
       "    this._root_extra_style(this.root)\n",
       "    this.root.attr('style', 'display: inline-block');\n",
       "\n",
       "    $(parent_element).append(this.root);\n",
       "\n",
       "    this._init_header(this);\n",
       "    this._init_canvas(this);\n",
       "    this._init_toolbar(this);\n",
       "\n",
       "    var fig = this;\n",
       "\n",
       "    this.waiting = false;\n",
       "\n",
       "    this.ws.onopen =  function () {\n",
       "            fig.send_message(\"supports_binary\", {value: fig.supports_binary});\n",
       "            fig.send_message(\"send_image_mode\", {});\n",
       "            if (mpl.ratio != 1) {\n",
       "                fig.send_message(\"set_dpi_ratio\", {'dpi_ratio': mpl.ratio});\n",
       "            }\n",
       "            fig.send_message(\"refresh\", {});\n",
       "        }\n",
       "\n",
       "    this.imageObj.onload = function() {\n",
       "            if (fig.image_mode == 'full') {\n",
       "                // Full images could contain transparency (where diff images\n",
       "                // almost always do), so we need to clear the canvas so that\n",
       "                // there is no ghosting.\n",
       "                fig.context.clearRect(0, 0, fig.canvas.width, fig.canvas.height);\n",
       "            }\n",
       "            fig.context.drawImage(fig.imageObj, 0, 0);\n",
       "        };\n",
       "\n",
       "    this.imageObj.onunload = function() {\n",
       "        fig.ws.close();\n",
       "    }\n",
       "\n",
       "    this.ws.onmessage = this._make_on_message_function(this);\n",
       "\n",
       "    this.ondownload = ondownload;\n",
       "}\n",
       "\n",
       "mpl.figure.prototype._init_header = function() {\n",
       "    var titlebar = $(\n",
       "        '<div class=\"ui-dialog-titlebar ui-widget-header ui-corner-all ' +\n",
       "        'ui-helper-clearfix\"/>');\n",
       "    var titletext = $(\n",
       "        '<div class=\"ui-dialog-title\" style=\"width: 100%; ' +\n",
       "        'text-align: center; padding: 3px;\"/>');\n",
       "    titlebar.append(titletext)\n",
       "    this.root.append(titlebar);\n",
       "    this.header = titletext[0];\n",
       "}\n",
       "\n",
       "\n",
       "\n",
       "mpl.figure.prototype._canvas_extra_style = function(canvas_div) {\n",
       "\n",
       "}\n",
       "\n",
       "\n",
       "mpl.figure.prototype._root_extra_style = function(canvas_div) {\n",
       "\n",
       "}\n",
       "\n",
       "mpl.figure.prototype._init_canvas = function() {\n",
       "    var fig = this;\n",
       "\n",
       "    var canvas_div = $('<div/>');\n",
       "\n",
       "    canvas_div.attr('style', 'position: relative; clear: both; outline: 0');\n",
       "\n",
       "    function canvas_keyboard_event(event) {\n",
       "        return fig.key_event(event, event['data']);\n",
       "    }\n",
       "\n",
       "    canvas_div.keydown('key_press', canvas_keyboard_event);\n",
       "    canvas_div.keyup('key_release', canvas_keyboard_event);\n",
       "    this.canvas_div = canvas_div\n",
       "    this._canvas_extra_style(canvas_div)\n",
       "    this.root.append(canvas_div);\n",
       "\n",
       "    var canvas = $('<canvas/>');\n",
       "    canvas.addClass('mpl-canvas');\n",
       "    canvas.attr('style', \"left: 0; top: 0; z-index: 0; outline: 0\")\n",
       "\n",
       "    this.canvas = canvas[0];\n",
       "    this.context = canvas[0].getContext(\"2d\");\n",
       "\n",
       "    var backingStore = this.context.backingStorePixelRatio ||\n",
       "\tthis.context.webkitBackingStorePixelRatio ||\n",
       "\tthis.context.mozBackingStorePixelRatio ||\n",
       "\tthis.context.msBackingStorePixelRatio ||\n",
       "\tthis.context.oBackingStorePixelRatio ||\n",
       "\tthis.context.backingStorePixelRatio || 1;\n",
       "\n",
       "    mpl.ratio = (window.devicePixelRatio || 1) / backingStore;\n",
       "\n",
       "    var rubberband = $('<canvas/>');\n",
       "    rubberband.attr('style', \"position: absolute; left: 0; top: 0; z-index: 1;\")\n",
       "\n",
       "    var pass_mouse_events = true;\n",
       "\n",
       "    canvas_div.resizable({\n",
       "        start: function(event, ui) {\n",
       "            pass_mouse_events = false;\n",
       "        },\n",
       "        resize: function(event, ui) {\n",
       "            fig.request_resize(ui.size.width, ui.size.height);\n",
       "        },\n",
       "        stop: function(event, ui) {\n",
       "            pass_mouse_events = true;\n",
       "            fig.request_resize(ui.size.width, ui.size.height);\n",
       "        },\n",
       "    });\n",
       "\n",
       "    function mouse_event_fn(event) {\n",
       "        if (pass_mouse_events)\n",
       "            return fig.mouse_event(event, event['data']);\n",
       "    }\n",
       "\n",
       "    rubberband.mousedown('button_press', mouse_event_fn);\n",
       "    rubberband.mouseup('button_release', mouse_event_fn);\n",
       "    // Throttle sequential mouse events to 1 every 20ms.\n",
       "    rubberband.mousemove('motion_notify', mouse_event_fn);\n",
       "\n",
       "    rubberband.mouseenter('figure_enter', mouse_event_fn);\n",
       "    rubberband.mouseleave('figure_leave', mouse_event_fn);\n",
       "\n",
       "    canvas_div.on(\"wheel\", function (event) {\n",
       "        event = event.originalEvent;\n",
       "        event['data'] = 'scroll'\n",
       "        if (event.deltaY < 0) {\n",
       "            event.step = 1;\n",
       "        } else {\n",
       "            event.step = -1;\n",
       "        }\n",
       "        mouse_event_fn(event);\n",
       "    });\n",
       "\n",
       "    canvas_div.append(canvas);\n",
       "    canvas_div.append(rubberband);\n",
       "\n",
       "    this.rubberband = rubberband;\n",
       "    this.rubberband_canvas = rubberband[0];\n",
       "    this.rubberband_context = rubberband[0].getContext(\"2d\");\n",
       "    this.rubberband_context.strokeStyle = \"#000000\";\n",
       "\n",
       "    this._resize_canvas = function(width, height) {\n",
       "        // Keep the size of the canvas, canvas container, and rubber band\n",
       "        // canvas in synch.\n",
       "        canvas_div.css('width', width)\n",
       "        canvas_div.css('height', height)\n",
       "\n",
       "        canvas.attr('width', width * mpl.ratio);\n",
       "        canvas.attr('height', height * mpl.ratio);\n",
       "        canvas.attr('style', 'width: ' + width + 'px; height: ' + height + 'px;');\n",
       "\n",
       "        rubberband.attr('width', width);\n",
       "        rubberband.attr('height', height);\n",
       "    }\n",
       "\n",
       "    // Set the figure to an initial 600x600px, this will subsequently be updated\n",
       "    // upon first draw.\n",
       "    this._resize_canvas(600, 600);\n",
       "\n",
       "    // Disable right mouse context menu.\n",
       "    $(this.rubberband_canvas).bind(\"contextmenu\",function(e){\n",
       "        return false;\n",
       "    });\n",
       "\n",
       "    function set_focus () {\n",
       "        canvas.focus();\n",
       "        canvas_div.focus();\n",
       "    }\n",
       "\n",
       "    window.setTimeout(set_focus, 100);\n",
       "}\n",
       "\n",
       "mpl.figure.prototype._init_toolbar = function() {\n",
       "    var fig = this;\n",
       "\n",
       "    var nav_element = $('<div/>');\n",
       "    nav_element.attr('style', 'width: 100%');\n",
       "    this.root.append(nav_element);\n",
       "\n",
       "    // Define a callback function for later on.\n",
       "    function toolbar_event(event) {\n",
       "        return fig.toolbar_button_onclick(event['data']);\n",
       "    }\n",
       "    function toolbar_mouse_event(event) {\n",
       "        return fig.toolbar_button_onmouseover(event['data']);\n",
       "    }\n",
       "\n",
       "    for(var toolbar_ind in mpl.toolbar_items) {\n",
       "        var name = mpl.toolbar_items[toolbar_ind][0];\n",
       "        var tooltip = mpl.toolbar_items[toolbar_ind][1];\n",
       "        var image = mpl.toolbar_items[toolbar_ind][2];\n",
       "        var method_name = mpl.toolbar_items[toolbar_ind][3];\n",
       "\n",
       "        if (!name) {\n",
       "            // put a spacer in here.\n",
       "            continue;\n",
       "        }\n",
       "        var button = $('<button/>');\n",
       "        button.addClass('ui-button ui-widget ui-state-default ui-corner-all ' +\n",
       "                        'ui-button-icon-only');\n",
       "        button.attr('role', 'button');\n",
       "        button.attr('aria-disabled', 'false');\n",
       "        button.click(method_name, toolbar_event);\n",
       "        button.mouseover(tooltip, toolbar_mouse_event);\n",
       "\n",
       "        var icon_img = $('<span/>');\n",
       "        icon_img.addClass('ui-button-icon-primary ui-icon');\n",
       "        icon_img.addClass(image);\n",
       "        icon_img.addClass('ui-corner-all');\n",
       "\n",
       "        var tooltip_span = $('<span/>');\n",
       "        tooltip_span.addClass('ui-button-text');\n",
       "        tooltip_span.html(tooltip);\n",
       "\n",
       "        button.append(icon_img);\n",
       "        button.append(tooltip_span);\n",
       "\n",
       "        nav_element.append(button);\n",
       "    }\n",
       "\n",
       "    var fmt_picker_span = $('<span/>');\n",
       "\n",
       "    var fmt_picker = $('<select/>');\n",
       "    fmt_picker.addClass('mpl-toolbar-option ui-widget ui-widget-content');\n",
       "    fmt_picker_span.append(fmt_picker);\n",
       "    nav_element.append(fmt_picker_span);\n",
       "    this.format_dropdown = fmt_picker[0];\n",
       "\n",
       "    for (var ind in mpl.extensions) {\n",
       "        var fmt = mpl.extensions[ind];\n",
       "        var option = $(\n",
       "            '<option/>', {selected: fmt === mpl.default_extension}).html(fmt);\n",
       "        fmt_picker.append(option);\n",
       "    }\n",
       "\n",
       "    // Add hover states to the ui-buttons\n",
       "    $( \".ui-button\" ).hover(\n",
       "        function() { $(this).addClass(\"ui-state-hover\");},\n",
       "        function() { $(this).removeClass(\"ui-state-hover\");}\n",
       "    );\n",
       "\n",
       "    var status_bar = $('<span class=\"mpl-message\"/>');\n",
       "    nav_element.append(status_bar);\n",
       "    this.message = status_bar[0];\n",
       "}\n",
       "\n",
       "mpl.figure.prototype.request_resize = function(x_pixels, y_pixels) {\n",
       "    // Request matplotlib to resize the figure. Matplotlib will then trigger a resize in the client,\n",
       "    // which will in turn request a refresh of the image.\n",
       "    this.send_message('resize', {'width': x_pixels, 'height': y_pixels});\n",
       "}\n",
       "\n",
       "mpl.figure.prototype.send_message = function(type, properties) {\n",
       "    properties['type'] = type;\n",
       "    properties['figure_id'] = this.id;\n",
       "    this.ws.send(JSON.stringify(properties));\n",
       "}\n",
       "\n",
       "mpl.figure.prototype.send_draw_message = function() {\n",
       "    if (!this.waiting) {\n",
       "        this.waiting = true;\n",
       "        this.ws.send(JSON.stringify({type: \"draw\", figure_id: this.id}));\n",
       "    }\n",
       "}\n",
       "\n",
       "\n",
       "mpl.figure.prototype.handle_save = function(fig, msg) {\n",
       "    var format_dropdown = fig.format_dropdown;\n",
       "    var format = format_dropdown.options[format_dropdown.selectedIndex].value;\n",
       "    fig.ondownload(fig, format);\n",
       "}\n",
       "\n",
       "\n",
       "mpl.figure.prototype.handle_resize = function(fig, msg) {\n",
       "    var size = msg['size'];\n",
       "    if (size[0] != fig.canvas.width || size[1] != fig.canvas.height) {\n",
       "        fig._resize_canvas(size[0], size[1]);\n",
       "        fig.send_message(\"refresh\", {});\n",
       "    };\n",
       "}\n",
       "\n",
       "mpl.figure.prototype.handle_rubberband = function(fig, msg) {\n",
       "    var x0 = msg['x0'] / mpl.ratio;\n",
       "    var y0 = (fig.canvas.height - msg['y0']) / mpl.ratio;\n",
       "    var x1 = msg['x1'] / mpl.ratio;\n",
       "    var y1 = (fig.canvas.height - msg['y1']) / mpl.ratio;\n",
       "    x0 = Math.floor(x0) + 0.5;\n",
       "    y0 = Math.floor(y0) + 0.5;\n",
       "    x1 = Math.floor(x1) + 0.5;\n",
       "    y1 = Math.floor(y1) + 0.5;\n",
       "    var min_x = Math.min(x0, x1);\n",
       "    var min_y = Math.min(y0, y1);\n",
       "    var width = Math.abs(x1 - x0);\n",
       "    var height = Math.abs(y1 - y0);\n",
       "\n",
       "    fig.rubberband_context.clearRect(\n",
       "        0, 0, fig.canvas.width / mpl.ratio, fig.canvas.height / mpl.ratio);\n",
       "\n",
       "    fig.rubberband_context.strokeRect(min_x, min_y, width, height);\n",
       "}\n",
       "\n",
       "mpl.figure.prototype.handle_figure_label = function(fig, msg) {\n",
       "    // Updates the figure title.\n",
       "    fig.header.textContent = msg['label'];\n",
       "}\n",
       "\n",
       "mpl.figure.prototype.handle_cursor = function(fig, msg) {\n",
       "    var cursor = msg['cursor'];\n",
       "    switch(cursor)\n",
       "    {\n",
       "    case 0:\n",
       "        cursor = 'pointer';\n",
       "        break;\n",
       "    case 1:\n",
       "        cursor = 'default';\n",
       "        break;\n",
       "    case 2:\n",
       "        cursor = 'crosshair';\n",
       "        break;\n",
       "    case 3:\n",
       "        cursor = 'move';\n",
       "        break;\n",
       "    }\n",
       "    fig.rubberband_canvas.style.cursor = cursor;\n",
       "}\n",
       "\n",
       "mpl.figure.prototype.handle_message = function(fig, msg) {\n",
       "    fig.message.textContent = msg['message'];\n",
       "}\n",
       "\n",
       "mpl.figure.prototype.handle_draw = function(fig, msg) {\n",
       "    // Request the server to send over a new figure.\n",
       "    fig.send_draw_message();\n",
       "}\n",
       "\n",
       "mpl.figure.prototype.handle_image_mode = function(fig, msg) {\n",
       "    fig.image_mode = msg['mode'];\n",
       "}\n",
       "\n",
       "mpl.figure.prototype.updated_canvas_event = function() {\n",
       "    // Called whenever the canvas gets updated.\n",
       "    this.send_message(\"ack\", {});\n",
       "}\n",
       "\n",
       "// A function to construct a web socket function for onmessage handling.\n",
       "// Called in the figure constructor.\n",
       "mpl.figure.prototype._make_on_message_function = function(fig) {\n",
       "    return function socket_on_message(evt) {\n",
       "        if (evt.data instanceof Blob) {\n",
       "            /* FIXME: We get \"Resource interpreted as Image but\n",
       "             * transferred with MIME type text/plain:\" errors on\n",
       "             * Chrome.  But how to set the MIME type?  It doesn't seem\n",
       "             * to be part of the websocket stream */\n",
       "            evt.data.type = \"image/png\";\n",
       "\n",
       "            /* Free the memory for the previous frames */\n",
       "            if (fig.imageObj.src) {\n",
       "                (window.URL || window.webkitURL).revokeObjectURL(\n",
       "                    fig.imageObj.src);\n",
       "            }\n",
       "\n",
       "            fig.imageObj.src = (window.URL || window.webkitURL).createObjectURL(\n",
       "                evt.data);\n",
       "            fig.updated_canvas_event();\n",
       "            fig.waiting = false;\n",
       "            return;\n",
       "        }\n",
       "        else if (typeof evt.data === 'string' && evt.data.slice(0, 21) == \"data:image/png;base64\") {\n",
       "            fig.imageObj.src = evt.data;\n",
       "            fig.updated_canvas_event();\n",
       "            fig.waiting = false;\n",
       "            return;\n",
       "        }\n",
       "\n",
       "        var msg = JSON.parse(evt.data);\n",
       "        var msg_type = msg['type'];\n",
       "\n",
       "        // Call the  \"handle_{type}\" callback, which takes\n",
       "        // the figure and JSON message as its only arguments.\n",
       "        try {\n",
       "            var callback = fig[\"handle_\" + msg_type];\n",
       "        } catch (e) {\n",
       "            console.log(\"No handler for the '\" + msg_type + \"' message type: \", msg);\n",
       "            return;\n",
       "        }\n",
       "\n",
       "        if (callback) {\n",
       "            try {\n",
       "                // console.log(\"Handling '\" + msg_type + \"' message: \", msg);\n",
       "                callback(fig, msg);\n",
       "            } catch (e) {\n",
       "                console.log(\"Exception inside the 'handler_\" + msg_type + \"' callback:\", e, e.stack, msg);\n",
       "            }\n",
       "        }\n",
       "    };\n",
       "}\n",
       "\n",
       "// from http://stackoverflow.com/questions/1114465/getting-mouse-location-in-canvas\n",
       "mpl.findpos = function(e) {\n",
       "    //this section is from http://www.quirksmode.org/js/events_properties.html\n",
       "    var targ;\n",
       "    if (!e)\n",
       "        e = window.event;\n",
       "    if (e.target)\n",
       "        targ = e.target;\n",
       "    else if (e.srcElement)\n",
       "        targ = e.srcElement;\n",
       "    if (targ.nodeType == 3) // defeat Safari bug\n",
       "        targ = targ.parentNode;\n",
       "\n",
       "    // jQuery normalizes the pageX and pageY\n",
       "    // pageX,Y are the mouse positions relative to the document\n",
       "    // offset() returns the position of the element relative to the document\n",
       "    var x = e.pageX - $(targ).offset().left;\n",
       "    var y = e.pageY - $(targ).offset().top;\n",
       "\n",
       "    return {\"x\": x, \"y\": y};\n",
       "};\n",
       "\n",
       "/*\n",
       " * return a copy of an object with only non-object keys\n",
       " * we need this to avoid circular references\n",
       " * http://stackoverflow.com/a/24161582/3208463\n",
       " */\n",
       "function simpleKeys (original) {\n",
       "  return Object.keys(original).reduce(function (obj, key) {\n",
       "    if (typeof original[key] !== 'object')\n",
       "        obj[key] = original[key]\n",
       "    return obj;\n",
       "  }, {});\n",
       "}\n",
       "\n",
       "mpl.figure.prototype.mouse_event = function(event, name) {\n",
       "    var canvas_pos = mpl.findpos(event)\n",
       "\n",
       "    if (name === 'button_press')\n",
       "    {\n",
       "        this.canvas.focus();\n",
       "        this.canvas_div.focus();\n",
       "    }\n",
       "\n",
       "    var x = canvas_pos.x * mpl.ratio;\n",
       "    var y = canvas_pos.y * mpl.ratio;\n",
       "\n",
       "    this.send_message(name, {x: x, y: y, button: event.button,\n",
       "                             step: event.step,\n",
       "                             guiEvent: simpleKeys(event)});\n",
       "\n",
       "    /* This prevents the web browser from automatically changing to\n",
       "     * the text insertion cursor when the button is pressed.  We want\n",
       "     * to control all of the cursor setting manually through the\n",
       "     * 'cursor' event from matplotlib */\n",
       "    event.preventDefault();\n",
       "    return false;\n",
       "}\n",
       "\n",
       "mpl.figure.prototype._key_event_extra = function(event, name) {\n",
       "    // Handle any extra behaviour associated with a key event\n",
       "}\n",
       "\n",
       "mpl.figure.prototype.key_event = function(event, name) {\n",
       "\n",
       "    // Prevent repeat events\n",
       "    if (name == 'key_press')\n",
       "    {\n",
       "        if (event.which === this._key)\n",
       "            return;\n",
       "        else\n",
       "            this._key = event.which;\n",
       "    }\n",
       "    if (name == 'key_release')\n",
       "        this._key = null;\n",
       "\n",
       "    var value = '';\n",
       "    if (event.ctrlKey && event.which != 17)\n",
       "        value += \"ctrl+\";\n",
       "    if (event.altKey && event.which != 18)\n",
       "        value += \"alt+\";\n",
       "    if (event.shiftKey && event.which != 16)\n",
       "        value += \"shift+\";\n",
       "\n",
       "    value += 'k';\n",
       "    value += event.which.toString();\n",
       "\n",
       "    this._key_event_extra(event, name);\n",
       "\n",
       "    this.send_message(name, {key: value,\n",
       "                             guiEvent: simpleKeys(event)});\n",
       "    return false;\n",
       "}\n",
       "\n",
       "mpl.figure.prototype.toolbar_button_onclick = function(name) {\n",
       "    if (name == 'download') {\n",
       "        this.handle_save(this, null);\n",
       "    } else {\n",
       "        this.send_message(\"toolbar_button\", {name: name});\n",
       "    }\n",
       "};\n",
       "\n",
       "mpl.figure.prototype.toolbar_button_onmouseover = function(tooltip) {\n",
       "    this.message.textContent = tooltip;\n",
       "};\n",
       "mpl.toolbar_items = [[\"Home\", \"Reset original view\", \"fa fa-home icon-home\", \"home\"], [\"Back\", \"Back to previous view\", \"fa fa-arrow-left icon-arrow-left\", \"back\"], [\"Forward\", \"Forward to next view\", \"fa fa-arrow-right icon-arrow-right\", \"forward\"], [\"\", \"\", \"\", \"\"], [\"Pan\", \"Pan axes with left mouse, zoom with right\", \"fa fa-arrows icon-move\", \"pan\"], [\"Zoom\", \"Zoom to rectangle\", \"fa fa-square-o icon-check-empty\", \"zoom\"], [\"\", \"\", \"\", \"\"], [\"Download\", \"Download plot\", \"fa fa-floppy-o icon-save\", \"download\"]];\n",
       "\n",
       "mpl.extensions = [\"eps\", \"jpeg\", \"pdf\", \"png\", \"ps\", \"raw\", \"svg\", \"tif\"];\n",
       "\n",
       "mpl.default_extension = \"png\";var comm_websocket_adapter = function(comm) {\n",
       "    // Create a \"websocket\"-like object which calls the given IPython comm\n",
       "    // object with the appropriate methods. Currently this is a non binary\n",
       "    // socket, so there is still some room for performance tuning.\n",
       "    var ws = {};\n",
       "\n",
       "    ws.close = function() {\n",
       "        comm.close()\n",
       "    };\n",
       "    ws.send = function(m) {\n",
       "        //console.log('sending', m);\n",
       "        comm.send(m);\n",
       "    };\n",
       "    // Register the callback with on_msg.\n",
       "    comm.on_msg(function(msg) {\n",
       "        //console.log('receiving', msg['content']['data'], msg);\n",
       "        // Pass the mpl event to the overridden (by mpl) onmessage function.\n",
       "        ws.onmessage(msg['content']['data'])\n",
       "    });\n",
       "    return ws;\n",
       "}\n",
       "\n",
       "mpl.mpl_figure_comm = function(comm, msg) {\n",
       "    // This is the function which gets called when the mpl process\n",
       "    // starts-up an IPython Comm through the \"matplotlib\" channel.\n",
       "\n",
       "    var id = msg.content.data.id;\n",
       "    // Get hold of the div created by the display call when the Comm\n",
       "    // socket was opened in Python.\n",
       "    var element = $(\"#\" + id);\n",
       "    var ws_proxy = comm_websocket_adapter(comm)\n",
       "\n",
       "    function ondownload(figure, format) {\n",
       "        window.open(figure.imageObj.src);\n",
       "    }\n",
       "\n",
       "    var fig = new mpl.figure(id, ws_proxy,\n",
       "                           ondownload,\n",
       "                           element.get(0));\n",
       "\n",
       "    // Call onopen now - mpl needs it, as it is assuming we've passed it a real\n",
       "    // web socket which is closed, not our websocket->open comm proxy.\n",
       "    ws_proxy.onopen();\n",
       "\n",
       "    fig.parent_element = element.get(0);\n",
       "    fig.cell_info = mpl.find_output_cell(\"<div id='\" + id + \"'></div>\");\n",
       "    if (!fig.cell_info) {\n",
       "        console.error(\"Failed to find cell for figure\", id, fig);\n",
       "        return;\n",
       "    }\n",
       "\n",
       "    var output_index = fig.cell_info[2]\n",
       "    var cell = fig.cell_info[0];\n",
       "\n",
       "};\n",
       "\n",
       "mpl.figure.prototype.handle_close = function(fig, msg) {\n",
       "    var width = fig.canvas.width/mpl.ratio\n",
       "    fig.root.unbind('remove')\n",
       "\n",
       "    // Update the output cell to use the data from the current canvas.\n",
       "    fig.push_to_output();\n",
       "    var dataURL = fig.canvas.toDataURL();\n",
       "    // Re-enable the keyboard manager in IPython - without this line, in FF,\n",
       "    // the notebook keyboard shortcuts fail.\n",
       "    IPython.keyboard_manager.enable()\n",
       "    $(fig.parent_element).html('<img src=\"' + dataURL + '\" width=\"' + width + '\">');\n",
       "    fig.close_ws(fig, msg);\n",
       "}\n",
       "\n",
       "mpl.figure.prototype.close_ws = function(fig, msg){\n",
       "    fig.send_message('closing', msg);\n",
       "    // fig.ws.close()\n",
       "}\n",
       "\n",
       "mpl.figure.prototype.push_to_output = function(remove_interactive) {\n",
       "    // Turn the data on the canvas into data in the output cell.\n",
       "    var width = this.canvas.width/mpl.ratio\n",
       "    var dataURL = this.canvas.toDataURL();\n",
       "    this.cell_info[1]['text/html'] = '<img src=\"' + dataURL + '\" width=\"' + width + '\">';\n",
       "}\n",
       "\n",
       "mpl.figure.prototype.updated_canvas_event = function() {\n",
       "    // Tell IPython that the notebook contents must change.\n",
       "    IPython.notebook.set_dirty(true);\n",
       "    this.send_message(\"ack\", {});\n",
       "    var fig = this;\n",
       "    // Wait a second, then push the new image to the DOM so\n",
       "    // that it is saved nicely (might be nice to debounce this).\n",
       "    setTimeout(function () { fig.push_to_output() }, 1000);\n",
       "}\n",
       "\n",
       "mpl.figure.prototype._init_toolbar = function() {\n",
       "    var fig = this;\n",
       "\n",
       "    var nav_element = $('<div/>');\n",
       "    nav_element.attr('style', 'width: 100%');\n",
       "    this.root.append(nav_element);\n",
       "\n",
       "    // Define a callback function for later on.\n",
       "    function toolbar_event(event) {\n",
       "        return fig.toolbar_button_onclick(event['data']);\n",
       "    }\n",
       "    function toolbar_mouse_event(event) {\n",
       "        return fig.toolbar_button_onmouseover(event['data']);\n",
       "    }\n",
       "\n",
       "    for(var toolbar_ind in mpl.toolbar_items){\n",
       "        var name = mpl.toolbar_items[toolbar_ind][0];\n",
       "        var tooltip = mpl.toolbar_items[toolbar_ind][1];\n",
       "        var image = mpl.toolbar_items[toolbar_ind][2];\n",
       "        var method_name = mpl.toolbar_items[toolbar_ind][3];\n",
       "\n",
       "        if (!name) { continue; };\n",
       "\n",
       "        var button = $('<button class=\"btn btn-default\" href=\"#\" title=\"' + name + '\"><i class=\"fa ' + image + ' fa-lg\"></i></button>');\n",
       "        button.click(method_name, toolbar_event);\n",
       "        button.mouseover(tooltip, toolbar_mouse_event);\n",
       "        nav_element.append(button);\n",
       "    }\n",
       "\n",
       "    // Add the status bar.\n",
       "    var status_bar = $('<span class=\"mpl-message\" style=\"text-align:right; float: right;\"/>');\n",
       "    nav_element.append(status_bar);\n",
       "    this.message = status_bar[0];\n",
       "\n",
       "    // Add the close button to the window.\n",
       "    var buttongrp = $('<div class=\"btn-group inline pull-right\"></div>');\n",
       "    var button = $('<button class=\"btn btn-mini btn-primary\" href=\"#\" title=\"Stop Interaction\"><i class=\"fa fa-power-off icon-remove icon-large\"></i></button>');\n",
       "    button.click(function (evt) { fig.handle_close(fig, {}); } );\n",
       "    button.mouseover('Stop Interaction', toolbar_mouse_event);\n",
       "    buttongrp.append(button);\n",
       "    var titlebar = this.root.find($('.ui-dialog-titlebar'));\n",
       "    titlebar.prepend(buttongrp);\n",
       "}\n",
       "\n",
       "mpl.figure.prototype._root_extra_style = function(el){\n",
       "    var fig = this\n",
       "    el.on(\"remove\", function(){\n",
       "\tfig.close_ws(fig, {});\n",
       "    });\n",
       "}\n",
       "\n",
       "mpl.figure.prototype._canvas_extra_style = function(el){\n",
       "    // this is important to make the div 'focusable\n",
       "    el.attr('tabindex', 0)\n",
       "    // reach out to IPython and tell the keyboard manager to turn it's self\n",
       "    // off when our div gets focus\n",
       "\n",
       "    // location in version 3\n",
       "    if (IPython.notebook.keyboard_manager) {\n",
       "        IPython.notebook.keyboard_manager.register_events(el);\n",
       "    }\n",
       "    else {\n",
       "        // location in version 2\n",
       "        IPython.keyboard_manager.register_events(el);\n",
       "    }\n",
       "\n",
       "}\n",
       "\n",
       "mpl.figure.prototype._key_event_extra = function(event, name) {\n",
       "    var manager = IPython.notebook.keyboard_manager;\n",
       "    if (!manager)\n",
       "        manager = IPython.keyboard_manager;\n",
       "\n",
       "    // Check for shift+enter\n",
       "    if (event.shiftKey && event.which == 13) {\n",
       "        this.canvas_div.blur();\n",
       "        event.shiftKey = false;\n",
       "        // Send a \"J\" for go to next cell\n",
       "        event.which = 74;\n",
       "        event.keyCode = 74;\n",
       "        manager.command_mode();\n",
       "        manager.handle_keydown(event);\n",
       "    }\n",
       "}\n",
       "\n",
       "mpl.figure.prototype.handle_save = function(fig, msg) {\n",
       "    fig.ondownload(fig, null);\n",
       "}\n",
       "\n",
       "\n",
       "mpl.find_output_cell = function(html_output) {\n",
       "    // Return the cell and output element which can be found *uniquely* in the notebook.\n",
       "    // Note - this is a bit hacky, but it is done because the \"notebook_saving.Notebook\"\n",
       "    // IPython event is triggered only after the cells have been serialised, which for\n",
       "    // our purposes (turning an active figure into a static one), is too late.\n",
       "    var cells = IPython.notebook.get_cells();\n",
       "    var ncells = cells.length;\n",
       "    for (var i=0; i<ncells; i++) {\n",
       "        var cell = cells[i];\n",
       "        if (cell.cell_type === 'code'){\n",
       "            for (var j=0; j<cell.output_area.outputs.length; j++) {\n",
       "                var data = cell.output_area.outputs[j];\n",
       "                if (data.data) {\n",
       "                    // IPython >= 3 moved mimebundle to data attribute of output\n",
       "                    data = data.data;\n",
       "                }\n",
       "                if (data['text/html'] == html_output) {\n",
       "                    return [cell, data, j];\n",
       "                }\n",
       "            }\n",
       "        }\n",
       "    }\n",
       "}\n",
       "\n",
       "// Register the function which deals with the matplotlib target/channel.\n",
       "// The kernel may be null if the page has been refreshed.\n",
       "if (IPython.notebook.kernel != null) {\n",
       "    IPython.notebook.kernel.comm_manager.register_target('matplotlib', mpl.mpl_figure_comm);\n",
       "}\n"
      ],
      "text/plain": [
       "<IPython.core.display.Javascript object>"
      ]
     },
     "metadata": {},
     "output_type": "display_data"
    },
    {
     "data": {
      "text/html": [
       "<img src=\"data:image/png;base64,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\" width=\"720\">"
      ],
      "text/plain": [
       "<IPython.core.display.HTML object>"
      ]
     },
     "metadata": {},
     "output_type": "display_data"
    }
   ],
   "source": [
    "%matplotlib nbagg   \n",
    "#we will need this magic command to rotate our 3d curve\n",
    "\n",
    "from mpl_toolkits.mplot3d import Axes3D   #needed for the 3D plotting\n",
    "\n",
    "xsurf,ysurf=np.meshgrid(np.linspace(df2factorsNumeric.Gap.min(),df2factorsNumeric.Gap.max(),100),\n",
    "                        np.linspace(df2factorsNumeric.Power.min(),df2factorsNumeric.Power.max(),100))\n",
    "\n",
    "xvariables=pd.DataFrame({'Gap': xsurf.ravel(),'Power': ysurf.ravel()})\n",
    "\n",
    "fittedValues = regr.predict(xvariables)\n",
    "\n",
    "fig = plt.figure(figsize=(10,10))\n",
    "ax = fig.add_subplot(111, projection='3d')\n",
    "ax.scatter(df2factorsNumeric['Gap'],df2factorsNumeric['Power'], df2factorsNumeric['Rate'], c='red')\n",
    "ax.plot_surface(xsurf,ysurf,fittedValues.reshape(xsurf.shape))\n",
    "ax.set_xlabel('Gap')\n",
    "ax.set_ylabel('Power')\n",
    "ax.set_zlabel('Rate')\n",
    "plt.show()"
   ]
  },
  {
   "cell_type": "markdown",
   "metadata": {
    "slideshow": {
     "slide_type": "subslide"
    }
   },
   "source": [
    "## CASE\n",
    "\n",
    "We have obtained data on the intensity in an image as a function of concentration of a product that increases the signal (contrast agent).\n",
    "\n",
    "We want to describe this phenomenon using an equation. We have measured intensity values as a function of time from $5.84ms$ every $29.2ms$ for different concentrations of contrast agent.\n",
    "\n",
    ". | Acquisition Time |\n",
    "--|----------------- |\n",
    "\n",
    "Conc  |5.84ms | 35.04ms | 64.24ms | 93.44ms | 122.64ms| 151.84ms| 181.04ms| 210.24ms| 268.64ms| 297.84ms|\n",
    "----- |--- |----- |---- |------ |---- |---- |------ |------ |------ |------ |\n",
    "1.25  |100 |  54  | 11  |  8    |  6  |   2 |     1 |     1 |     1 |     1 |\n",
    "31.25 |100 |  75  | 35  |  23   | 11  |   8 |     4 |     3 |     2 |     1 |\n",
    "62.5  |100 |  93  | 63  |  49   | 35  |  28 |    19 |    16 |    11 |    9  |\n",
    "125.0 |100 | 81   | 70  |  60   | 52  |  44 |    39 |    33 |    29 |    25 |\n"
   ]
  },
  {
   "cell_type": "markdown",
   "metadata": {
    "slideshow": {
     "slide_type": "subslide"
    }
   },
   "source": [
    "## Model\n",
    "\n",
    "1. We have **2 input factors (concentration and time) with 4 and 12 possible levels respectively** \n",
    "2. We measure as our **output factor** the intensity\n",
    "3. We have some **controllable factors**: same operator, procedure, instruments, ...\n",
    "4. We have some **uncontrollable factors**: room temperature when measuring, t...\n",
    "\n",
    "**What is the expression that relates the intensity to the acquisition time? Is it the same for all concentrations?**"
   ]
  },
  {
   "cell_type": "markdown",
   "metadata": {
    "slideshow": {
     "slide_type": "subslide"
    }
   },
   "source": [
    "We enter this data as we did before in a dataframe. I will introduce here some features from panda for reading from CSV files that are useful in collected data. I will read the CSV and then move to an array that will be plotted:"
   ]
  },
  {
   "cell_type": "code",
   "execution_count": 20,
   "metadata": {
    "slideshow": {
     "slide_type": "subslide"
    }
   },
   "outputs": [],
   "source": [
    "import pandas as pd\n",
    "import numpy as np\n",
    "import matplotlib.pyplot as plt\n",
    "import matplotlib.cm as cm\n",
    "\n",
    "dta = pd.read_csv('Book1.csv')\n",
    "df = pd.DataFrame(dta)\n",
    "\n",
    "data_array=df.values   #this gets the data only (no labels in the data frame)\n",
    "intensity_data_array=np.delete(data_array, 0, 1)   #this eliminates the first column that we know is the concentration\n",
    "concentrations=np.delete(data_array, np.s_[1::], 1)\n",
    "concentrations=np.squeeze(concentrations)\n",
    "titles_data_array=df.columns.values  #gets the columns (note they are strings)\n",
    "time_data=[float(numeric_string) for numeric_string in titles_data_array[1:]]   #converts strings to floats without the first column that is not data"
   ]
  },
  {
   "cell_type": "markdown",
   "metadata": {
    "slideshow": {
     "slide_type": "subslide"
    }
   },
   "source": [
    "And we can plot the 4 different series as scatter points. We note that they all have an exponential decreasing behaviour."
   ]
  },
  {
   "cell_type": "code",
   "execution_count": 21,
   "metadata": {
    "slideshow": {
     "slide_type": "fragment"
    }
   },
   "outputs": [
    {
     "data": {
      "image/png": "[encoded data removed]",
      "text/plain": [
       "<Figure size 360x360 with 1 Axes>"
      ]
     },
     "metadata": {
      "needs_background": "light"
     },
     "output_type": "display_data"
    }
   ],
   "source": [
    "%matplotlib inline\n",
    "\n",
    "fig = plt.figure(figsize=(5,5))\n",
    "colors = cm.rainbow(np.linspace(0, 1, len(intensity_data_array)))\n",
    "for y, c in zip(intensity_data_array, colors):\n",
    "    plt.scatter(time_data, y, color=c)\n",
    "\n",
    "plt.legend(concentrations)\n",
    "plt.xlabel('Time')\n",
    "plt.ylabel('Intensity')\n",
    "plt.show()"
   ]
  },
  {
   "cell_type": "markdown",
   "metadata": {
    "slideshow": {
     "slide_type": "subslide"
    }
   },
   "source": [
    "From these results we can conclude that we need to find an expression between time and intensity that is exponential.\n",
    "\n",
    "We first define the desired function to be fitted. We will use scipy optimize, in particular curve_fit to perform this curve fitting."
   ]
  },
  {
   "cell_type": "code",
   "execution_count": 22,
   "metadata": {
    "slideshow": {
     "slide_type": "subslide"
    }
   },
   "outputs": [],
   "source": [
    "from scipy.optimize import curve_fit\n",
    "\n",
    "def func(x, a, b, c):\n",
    "    return a*np.exp(-b*x)+c"
   ]
  },
  {
   "cell_type": "markdown",
   "metadata": {
    "slideshow": {
     "slide_type": "subslide"
    }
   },
   "source": [
    "Curve fitting will provide an array with the parameters (in this case a, b and c) as a result, so we initialize an array where we will keep those values for each of the curves we are fitting.\n",
    "\n",
    "In addition, we will calculate the $R^2$ for each fit."
   ]
  },
  {
   "cell_type": "code",
   "execution_count": 23,
   "metadata": {
    "slideshow": {
     "slide_type": "subslide"
    }
   },
   "outputs": [],
   "source": [
    "popta=pcova=np.zeros(shape=(4,3))\n",
    "r_squared=np.zeros(4)\n",
    "\n",
    "for cn in range(4):  #we will calculate a fit for each of the concentrations\n",
    "    popt, pcov = curve_fit(func, time_data, intensity_data_array[cn], p0=(1, 1e-6, 1))\n",
    "    popta[cn,:]=popt"
   ]
  },
  {
   "cell_type": "markdown",
   "metadata": {
    "slideshow": {
     "slide_type": "subslide"
    }
   },
   "source": [
    "And we finally plot the data with the prediction."
   ]
  },
  {
   "cell_type": "code",
   "execution_count": 24,
   "metadata": {
    "slideshow": {
     "slide_type": "fragment"
    }
   },
   "outputs": [
    {
     "data": {
      "image/png": "[encoded data removed]",
      "text/plain": [
       "<Figure size 360x360 with 1 Axes>"
      ]
     },
     "metadata": {
      "needs_background": "light"
     },
     "output_type": "display_data"
    }
   ],
   "source": [
    "#plotting here all the datapoints, each a different colour\n",
    "fig = plt.figure(figsize=(5,5))\n",
    "colors = cm.rainbow(np.linspace(0, 1, len(intensity_data_array)))\n",
    "cn=0\n",
    "for y, c in zip(intensity_data_array, colors):\n",
    "    plt.scatter(time_data, y, color=c)\n",
    "    time_data_exp=np.multiply(time_data,-popta[cn,1])\n",
    "    prediction=popta[cn,0]*np.exp(time_data_exp)+popta[cn,2]\n",
    "    plt.plot(time_data, prediction, color=c)\n",
    "    \n",
    "    residuals = prediction - y\n",
    "    ss_res = np.sum(residuals**2)\n",
    "    ss_tot = np.sum((prediction-np.mean(prediction))**2)\n",
    "    r_squared[cn] = 1 - (ss_res / ss_tot)\n",
    "\n",
    "    cn=cn+1\n",
    "\n",
    "plt.xlabel('Time')\n",
    "plt.ylabel('Intensity')\n",
    "plt.legend(concentrations)\n",
    "plt.show()"
   ]
  },
  {
   "cell_type": "markdown",
   "metadata": {
    "slideshow": {
     "slide_type": "subslide"
    }
   },
   "source": [
    "We can print the equation for each of the curves and the value of $R^2$ for each fit. With such values of $R^2$ we have a very good fit for all equations."
   ]
  },
  {
   "cell_type": "code",
   "execution_count": 25,
   "metadata": {
    "slideshow": {
     "slide_type": "subslide"
    }
   },
   "outputs": [
    {
     "name": "stdout",
     "output_type": "stream",
     "text": [
      "Equation for 1.25 uL : Intensity(time) = 118.66*exp(-0.0276*time)+0.1078 \t R_squared = 0.9823\n",
      "Equation for 31.25 uL : Intensity(time) = 115.71*exp(-0.0159*time)+-2.0559 \t R_squared = 0.9842\n",
      "Equation for 62.50 uL : Intensity(time) = 118.56*exp(-0.0077*time)+-7.9765 \t R_squared = 0.9836\n",
      "Equation for 125.00 uL : Intensity(time) = 92.10*exp(-0.0065*time)+9.7833 \t R_squared = 0.9983\n"
     ]
    }
   ],
   "source": [
    "for cn in range(4):\n",
    "    print('Equation for %.2f uL : Intensity(time) = %.2f*exp(-%.4f*time)+%.4f \\t R_squared = %.4f' %(concentrations[cn], popta[cn,0], popta[cn,1], popta[cn,2], r_squared[cn]))"
   ]
  },
  {
   "cell_type": "markdown",
   "metadata": {
    "slideshow": {
     "slide_type": "slide"
    }
   },
   "source": [
    "## Summary"
   ]
  },
  {
   "cell_type": "markdown",
   "metadata": {
    "slideshow": {
     "slide_type": "subslide"
    }
   },
   "source": [
    "In this example:\n",
    "\n",
    "1. We introduced the principle for regression from reduced data when some factors are not significant\n",
    "2. We applied a N-way ANOVA to analyse trends in dependency of parametric data\n",
    "3. We applied a data fit using parametric and numerical values using ordinary least squares regression model\n",
    "4. We introduced data prediction and representation including the fit in 2D\n",
    "5. We introduced general curve fitting for non-linear equations\n",
    "6. We introduced evaluation of curve fitting and data representation from predictions"
   ]
  },
  {
   "cell_type": "markdown",
   "metadata": {
    "slideshow": {
     "slide_type": "skip"
    }
   },
   "source": [
    "References\n",
    "---------------\n",
    "\n",
    "* Montgomery, Douglas C. \"Design and analysis of experiments. John Wiley & Sons.\" Inc., New York 1997 (2001)."
   ]
  }
 ],
 "metadata": {
  "celltoolbar": "Slideshow",
  "kernelspec": {
   "display_name": "Python 3",
   "language": "python",
   "name": "python3"
  },
  "language_info": {
   "codemirror_mode": {
    "name": "ipython",
    "version": 3
   },
   "file_extension": ".py",
   "mimetype": "text/x-python",
   "name": "python",
   "nbconvert_exporter": "python",
   "pygments_lexer": "ipython3",
   "version": "3.7.1"
  }
 },
 "nbformat": 4,
 "nbformat_minor": 1
}
