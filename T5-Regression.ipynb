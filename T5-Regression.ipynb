{
 "cells": [
  {
   "cell_type": "markdown",
   "metadata": {
    "slideshow": {
     "slide_type": "slide"
    }
   },
   "source": [
    "# Regression\n",
    "\n",
    "## Introduction\n",
    "\n",
    "We had already introduced the concept of a model to predict our data for linear behaviour.\n",
    "\n",
    "We can extend such analysis to establish regression models that are better described with their equations.\n",
    "\n",
    "This is in principle similar to the factorial design experiment, but we should favour the use of continuous variables in the model instead of categorical variables.\n",
    "\n",
    "An example could be the test of a new formulation for an alloy where we can vary the concentration of two or more ingredients to adjust the final strength, in particular where we can choose any value of concentration continuously."
   ]
  },
  {
   "cell_type": "markdown",
   "metadata": {
    "slideshow": {
     "slide_type": "slide"
    }
   },
   "source": [
    "## CASE\n",
    "\n",
    "An article describes the results of a nitride etch process on a single wafer plasma etcher. The process uses C2F6 gas and allows for control of four factors: \n",
    "\n",
    "1. The anode-cathode gap\n",
    "2. The pressure in the reactor\n",
    "3. The gas flow \n",
    "4. The power applied to the cathode.\n",
    "\n",
    "We are interested in controlling the etch rate and we run one single time all possible combinations for the four factors. We decide to test two values per factor (low and high).\n",
    "\n",
    "**What is/are the factors that are effecting the etch rate and how can we predict this rate based on those values?**"
   ]
  },
  {
   "cell_type": "markdown",
   "metadata": {
    "slideshow": {
     "slide_type": "subslide"
    }
   },
   "source": [
    "## Model\n",
    "\n",
    "1. We have **4 input factors (gap, pressure, gas flow and power) with 2 possible levels each** \n",
    "2. We measure as our **output factor** the etch rate\n",
    "3. We have some **controllable factors**: same operator, procedure, instruments, ...\n",
    "4. We have some **uncontrollable factors**: room temperature when measuring, t...\n",
    "5. We will measure four times each of the possible combinations\n",
    "6. Because we have two values for each factors (low and high), we will have $2^4$ possible combinations for a total of $16$ measurements\n",
    "\n",
    "**Is the etch rate affected by the gap, pressure, flow and/or power? Can we predict using a model new values of etch rate based on input gap, pressure, flow and/or power?**"
   ]
  },
  {
   "cell_type": "markdown",
   "metadata": {
    "slideshow": {
     "slide_type": "subslide"
    }
   },
   "source": [
    "\n",
    "## Randomization\n",
    "\n",
    "The first step for this experiment is that the experiments should be done randomly. \n",
    "\n",
    "Every experiment and combination should be done in a random order as there is no blocking here."
   ]
  },
  {
   "cell_type": "markdown",
   "metadata": {
    "slideshow": {
     "slide_type": "subslide"
    }
   },
   "source": [
    "The design requires us to capture each of the factors combinations for low/high values:\n",
    "\n",
    "Run | Gap  | Pressure  | Flow  | Power  | Etching Rate  |\n",
    "--- |----- |----- |----- |----- |---- |\n",
    " 1  | Low  | Low  | Low  | Low  | 550  | \n",
    " 2  | High | Low  | Low  | Low  | 669  | \n",
    " 3  | Low  | High | Low  | Low  | 604  | \n",
    " 4  | High | High | Low  | Low  | 650  | \n",
    " 5  | Low  | Low  | High | Low  | 633  | \n",
    " 6  | High | Low  | High | Low  | 642  | \n",
    " 7  | Low  | High | High | Low  | 601  | \n",
    " 8  | High | High | High | Low  | 635  | \n",
    " 9  | Low  | Low  | Low  | High | 1037 | \n",
    "10  | High | Low  | Low  | High | 749  | \n",
    "11  | Low  | High | Low  | High | 1052 | \n",
    "12  | High | High | Low  | High | 868  | \n",
    "13  | Low  | Low  | High | High | 1075 | \n",
    "14  | High | Low  | High | High | 860  | \n",
    "15  | Low  | High | High | High | 1063 | \n",
    "16  | High | High | High | High | 729  | "
   ]
  },
  {
   "cell_type": "markdown",
   "metadata": {
    "slideshow": {
     "slide_type": "subslide"
    }
   },
   "source": [
    "We enter this data as we did before in a dataframe making sure we capture the combinations as experimentally done and all the repetitions:"
   ]
  },
  {
   "cell_type": "code",
   "execution_count": 4,
   "metadata": {
    "slideshow": {
     "slide_type": "subslide"
    }
   },
   "outputs": [
    {
     "name": "stdout",
     "output_type": "stream",
     "text": [
      "    id   Gap Pressure  Flow Power    Rate\n",
      "0    1  b'-'     b'-'  b'-'  b'-'   550.0\n",
      "1    2  b'+'     b'-'  b'-'  b'-'   669.0\n",
      "2    3  b'-'     b'+'  b'-'  b'-'   604.0\n",
      "3    4  b'+'     b'+'  b'-'  b'-'   650.0\n",
      "4    5  b'-'     b'-'  b'+'  b'-'   633.0\n",
      "5    6  b'+'     b'-'  b'+'  b'-'   642.0\n",
      "6    7  b'-'     b'+'  b'+'  b'-'   601.0\n",
      "7    8  b'+'     b'+'  b'+'  b'-'   635.0\n",
      "8    9  b'-'     b'-'  b'-'  b'+'  1037.0\n",
      "9   10  b'+'     b'-'  b'-'  b'+'   749.0\n",
      "10  11  b'-'     b'+'  b'-'  b'+'  1052.0\n",
      "11  12  b'+'     b'+'  b'-'  b'+'   868.0\n",
      "12  13  b'-'     b'-'  b'+'  b'+'  1075.0\n",
      "13  14  b'+'     b'-'  b'+'  b'+'   860.0\n",
      "14  15  b'-'     b'+'  b'+'  b'+'  1063.0\n",
      "15  16  b'+'     b'+'  b'+'  b'+'   729.0\n"
     ]
    }
   ],
   "source": [
    "import pandas as pd\n",
    "import numpy as np\n",
    "import matplotlib\n",
    "\n",
    "%matplotlib inline\n",
    "\n",
    "# Put into dataframe\n",
    "dta2 = np.rec.array([\n",
    "    (  1,  '-', '-', '-', '-',  550), (  2,  '+', '-', '-', '-', 669) , (  3, '-', '+', '-', '-',  604) , (  4,  '+', '+', '-', '-', 650) , \n",
    "    (  5,  '-', '-', '+', '-',  633), (  6,  '+', '-', '+', '-', 642) , (  7, '-', '+', '+', '-',  601) , (  8,  '+', '+', '+', '-', 635) , \n",
    "    (  9,  '-', '-', '-', '+', 1037), ( 10,  '+', '-', '-', '+', 749) , ( 11, '-', '+', '-', '+', 1052) , ( 12,  '+', '+', '-', '+', 868) , \n",
    "    ( 13,  '-', '-', '+', '+', 1075), ( 14,  '+', '-', '+', '+', 860) , ( 15, '-', '+', '+', '+', 1063) , ( 16,  '+', '+', '+', '+', 729) ], \n",
    "    dtype=[('id', '<i4'), ('Gap', '|S17'), ('Pressure', '|S15'),  ('Flow', '|S17'), ('Power', '|S15'), ('Rate', '<f')])\n",
    "    \n",
    "df = pd.DataFrame(dta2)\n",
    "print(df)"
   ]
  },
  {
   "cell_type": "markdown",
   "metadata": {
    "slideshow": {
     "slide_type": "slide"
    }
   },
   "source": [
    "## Hypothesis Testing\n",
    "\n",
    "When using a factorial design the hypothesis testing is similar as always but the **model** is different.\n",
    "\n",
    "If we consider that the result we measure is \n",
    "\n",
    "$$y_{ijk}=\\mu+\\tau_i+\\beta_j+\\alpha_{k}+\\gamma_{l}+\\epsilon_{ijkl}$$\n",
    "\n",
    "Where $\\tau_i$ represents variations per factor A we want to analyse (the gap here)\n",
    "\n",
    "And $\\beta_j$ represents variations per factor B we want to analyse (the pressure here)\n",
    "\n",
    "And $\\alpha_k$ represents variations per factor C we want to analyse (the flow here)\n",
    "\n",
    "And $\\gamma_l$ represents variations per factor D we want to analyse (the power here)\n",
    "\n",
    "And $\\mu$ is the mean considered the same for all \n",
    "\n",
    "And $\\epsilon_{ijkl}$ are small variations per experiment "
   ]
  },
  {
   "cell_type": "markdown",
   "metadata": {
    "slideshow": {
     "slide_type": "subslide"
    }
   },
   "source": [
    "We want to test the hypothesis for each factor. \n",
    "\n",
    "For **the gap** that this $\\tau_i$ is non-existent $\\tau_1=\\tau_2=...\\tau_i=0$ meaning there are no differences between the CTs. If we reject that hypothesis then we know there is at least one factor where the population has a different mean and therefore the alternative hypothesis $H_1$ is valid.\n",
    "\n",
    "For **the pressure** that this $\\beta_i$ is non-existent $\\beta_1=\\beta_2=...\\beta_j=0$ meaning there are no differences between the CTs. If we reject that hypothesis then we know there is at least one factor where the population has a different mean and therefore the alternative hypothesis $H_1$ is valid.\n",
    "\n",
    "And so on for the other two factors.\n",
    "\n",
    "**We will reject the null hypothesis $H_0$ if p<0.05**. This means that there is less than 5% chance we made a mistake in rejecting the hypothesis and therefore we are quite certain that at least one factor changes the rate."
   ]
  },
  {
   "cell_type": "markdown",
   "metadata": {
    "slideshow": {
     "slide_type": "subslide"
    }
   },
   "source": [
    "We can account for this by using a N-way ANOVA.\n",
    "\n",
    "You can check you the $F$ statistic is affected by the N-way ANOVA and how this matches the equations discussed in lecture.\n",
    "\n",
    "We will construct the **model** used accounts for **all** factors.\n",
    "\n",
    "And then running the ANOVA test and print the results:"
   ]
  },
  {
   "cell_type": "code",
   "execution_count": 5,
   "metadata": {
    "slideshow": {
     "slide_type": "subslide"
    }
   },
   "outputs": [
    {
     "name": "stdout",
     "output_type": "stream",
     "text": [
      "               sum_sq    df          F    PR(>F)\n",
      "Gap        41310.5625   1.0   3.950339  0.072330\n",
      "Pressure      10.5625   1.0   0.001010  0.975216\n",
      "Flow         217.5625   1.0   0.020805  0.887921\n",
      "Power     374850.0625   1.0  35.845191  0.000091\n",
      "Residual  115032.1875  11.0        NaN       NaN\n"
     ]
    }
   ],
   "source": [
    "import statsmodels.api as sm\n",
    "from statsmodels.formula.api import ols\n",
    "from statsmodels.stats.anova import anova_lm\n",
    "\n",
    "model = ols('Rate ~ Gap + Pressure + Flow + Power ',df).fit()   #this ensures it is a N-way ANOVA \n",
    "    \n",
    "anovaResults =  anova_lm(model, typ=2)\n",
    "\n",
    "print(anovaResults)"
   ]
  },
  {
   "cell_type": "markdown",
   "metadata": {
    "slideshow": {
     "slide_type": "subslide"
    }
   },
   "source": [
    "From these results we can conclude that neither the pressure nor the flow are changing the rate as the value of **p** (PR(>F) is not significant for both factors. \n",
    "\n",
    "We can now eliminate those two factors and we automatically have a 2-factor model with repeat x 2 of our measurements.\n",
    "\n",
    "We now merge the data:"
   ]
  },
  {
   "cell_type": "code",
   "execution_count": 7,
   "metadata": {
    "slideshow": {
     "slide_type": "subslide"
    }
   },
   "outputs": [
    {
     "name": "stdout",
     "output_type": "stream",
     "text": [
      "    id   Gap Power    Rate\n",
      "0    1  b'-'  b'-'   550.0\n",
      "1    2  b'+'  b'-'   669.0\n",
      "2    3  b'-'  b'-'   604.0\n",
      "3    4  b'+'  b'-'   650.0\n",
      "4    5  b'-'  b'-'   633.0\n",
      "5    6  b'+'  b'-'   642.0\n",
      "6    7  b'-'  b'-'   601.0\n",
      "7    8  b'+'  b'-'   635.0\n",
      "8    9  b'-'  b'+'  1037.0\n",
      "9   10  b'+'  b'+'   749.0\n",
      "10  11  b'-'  b'+'  1052.0\n",
      "11  12  b'+'  b'+'   868.0\n",
      "12  13  b'-'  b'+'  1075.0\n",
      "13  14  b'+'  b'+'   860.0\n",
      "14  15  b'-'  b'+'  1063.0\n",
      "15  16  b'+'  b'+'   729.0\n"
     ]
    }
   ],
   "source": [
    "df2factors=df.drop(['Pressure', 'Flow'], axis=1)\n",
    "\n",
    "print(df2factors)"
   ]
  },
  {
   "cell_type": "markdown",
   "metadata": {
    "slideshow": {
     "slide_type": "subslide"
    }
   },
   "source": [
    "From these merged data we can repeat the analysis and since we have repeat measurements we **must** enter the interactions in the model:"
   ]
  },
  {
   "cell_type": "code",
   "execution_count": 9,
   "metadata": {
    "slideshow": {
     "slide_type": "subslide"
    }
   },
   "outputs": [
    {
     "name": "stdout",
     "output_type": "stream",
     "text": [
      "                sum_sq    df           F        PR(>F)\n",
      "Gap         41310.5625   1.0   23.767029  3.816422e-04\n",
      "Power      374850.0625   1.0  215.660881  4.951261e-09\n",
      "Gap:Power   94402.5625   1.0   54.312222  8.620836e-06\n",
      "Residual    20857.7500  12.0         NaN           NaN\n"
     ]
    }
   ],
   "source": [
    "import statsmodels.api as sm\n",
    "from statsmodels.formula.api import ols\n",
    "from statsmodels.stats.anova import anova_lm\n",
    "\n",
    "model = ols('Rate ~ Gap + Power + Gap:Power ',df2factors).fit()   #this ensures it is a N-way ANOVA \n",
    "    \n",
    "anovaResults =  anova_lm(model, typ=2)\n",
    "\n",
    "print(anovaResults)"
   ]
  },
  {
   "cell_type": "markdown",
   "metadata": {
    "slideshow": {
     "slide_type": "subslide"
    }
   },
   "source": [
    "Showing that gap, power and the interaction are all significant. We can run the Tukey HSD as we have done before.\n",
    "\n",
    "First we do this for the Power:"
   ]
  },
  {
   "cell_type": "code",
   "execution_count": 12,
   "metadata": {
    "slideshow": {
     "slide_type": "subslide"
    }
   },
   "outputs": [
    {
     "name": "stdout",
     "output_type": "stream",
     "text": [
      "Multiple Comparison of Means - Tukey HSD,FWER=0.05\n",
      "=================================================\n",
      "group1 group2 meandiff   lower     upper   reject\n",
      "-------------------------------------------------\n",
      " b'+'   b'-'  -306.125 -403.4288 -208.8212  True \n",
      "-------------------------------------------------\n",
      "p values: 0.001\n"
     ]
    }
   ],
   "source": [
    "from statsmodels.stats.multicomp import MultiComparison\n",
    "\n",
    "#The multiple comparison testing is done between data without the average contribution from the phantom\n",
    "mc = MultiComparison(df2factors['Rate'] - df2factors.groupby(dta2['Gap'])['Rate'].transform('mean'), df2factors['Power'])\n",
    "# so we test once we remove this average contribution from the 2nd factor\n",
    "tukey_res = mc.tukeyhsd()\n",
    "summary = tukey_res.summary()\n",
    "print(summary)\n",
    "\n",
    "#The p-values associated with those hypothesis\n",
    "from statsmodels.stats.libqsturng import psturng\n",
    "p_values = psturng(np.abs(tukey_res.meandiffs / tukey_res.std_pairs), len(tukey_res.groupsunique), tukey_res.df_total)\n",
    "print(\"p values:\", p_values)"
   ]
  },
  {
   "cell_type": "markdown",
   "metadata": {
    "slideshow": {
     "slide_type": "subslide"
    }
   },
   "source": [
    "Because the p=0.001 this was expected. We can visualize graphically:"
   ]
  },
  {
   "cell_type": "code",
   "execution_count": 13,
   "metadata": {
    "slideshow": {
     "slide_type": "fragment"
    }
   },
   "outputs": [
    {
     "data": {
      "image/png": "[encoded data removed]",
      "text/plain": [
       "<Figure size 432x288 with 1 Axes>"
      ]
     },
     "metadata": {
      "needs_background": "light"
     },
     "output_type": "display_data"
    }
   ],
   "source": [
    "import matplotlib.pyplot as plt\n",
    "\n",
    "grouped = df2factors.groupby(dta2['Power'])\n",
    "PHigh=grouped.get_group('+'.encode('UTF-8'))['Rate']\n",
    "PLow=grouped.get_group('-'.encode('UTF-8'))['Rate']\n",
    "\n",
    "plt.errorbar([np.mean(PHigh), np.mean(PLow)], ['+', '-'], xerr=[tukey_res.std_pairs[0], tukey_res.std_pairs[0]], marker='o', linestyle='None', color='k', ecolor='k')\n",
    "plt.ylabel('Power')\n",
    "plt.xlabel('Rate')\n",
    "plt.show()"
   ]
  },
  {
   "cell_type": "markdown",
   "metadata": {
    "slideshow": {
     "slide_type": "subslide"
    }
   },
   "source": [
    "And then for the effect of the Gap:"
   ]
  },
  {
   "cell_type": "code",
   "execution_count": 14,
   "metadata": {
    "slideshow": {
     "slide_type": "subslide"
    }
   },
   "outputs": [
    {
     "name": "stdout",
     "output_type": "stream",
     "text": [
      "Multiple Comparison of Means - Tukey HSD,FWER=0.05\n",
      "=============================================\n",
      "group1 group2 meandiff lower   upper   reject\n",
      "---------------------------------------------\n",
      " b'+'   b'-'  101.625  4.3212 198.9288  True \n",
      "---------------------------------------------\n",
      "p values: [0.04183352]\n"
     ]
    }
   ],
   "source": [
    "from statsmodels.stats.multicomp import MultiComparison\n",
    "\n",
    "#The multiple comparison testing is done between data without the average contribution from the phantom\n",
    "mc = MultiComparison(df2factors['Rate'] - df2factors.groupby(dta2['Power'])['Rate'].transform('mean'), df2factors['Gap'])\n",
    "# df.groupby(dta2['Phantom'])['Density'].transform('mean') is averaging the grouped data for each phantom \n",
    "# so we test density once we remove this average phantom contribution \n",
    "tukey_res = mc.tukeyhsd()\n",
    "summary = tukey_res.summary()\n",
    "print(summary)\n",
    "\n",
    "#The p-values associated with those hypothesis\n",
    "from statsmodels.stats.libqsturng import psturng\n",
    "p_values = psturng(np.abs(tukey_res.meandiffs / tukey_res.std_pairs), len(tukey_res.groupsunique), tukey_res.df_total)\n",
    "print(\"p values:\", p_values)"
   ]
  },
  {
   "cell_type": "markdown",
   "metadata": {
    "slideshow": {
     "slide_type": "subslide"
    }
   },
   "source": [
    "Which can be seen graphically:"
   ]
  },
  {
   "cell_type": "code",
   "execution_count": 16,
   "metadata": {
    "slideshow": {
     "slide_type": "subslide"
    }
   },
   "outputs": [
    {
     "data": {
      "image/png": "[encoded data removed]",
      "text/plain": [
       "<Figure size 432x288 with 1 Axes>"
      ]
     },
     "metadata": {
      "needs_background": "light"
     },
     "output_type": "display_data"
    }
   ],
   "source": [
    "import matplotlib.pyplot as plt\n",
    "\n",
    "grouped = df2factors.groupby(dta2['Gap'])\n",
    "GHigh=grouped.get_group('+'.encode('UTF-8'))['Rate']\n",
    "GLow=grouped.get_group('-'.encode('UTF-8'))['Rate']\n",
    "\n",
    "plt.errorbar([np.mean(GHigh), np.mean(GLow)], ['+', '-'], xerr=[tukey_res.std_pairs[0], tukey_res.std_pairs[0]], marker='o', linestyle='None', color='k', ecolor='k')\n",
    "plt.ylabel('Gap')\n",
    "plt.xlabel('Rate')\n",
    "plt.show()"
   ]
  },
  {
   "cell_type": "markdown",
   "metadata": {
    "slideshow": {
     "slide_type": "subslide"
    }
   },
   "source": [
    "For the interaction we need to do some data merging so we can analyse it. We will combine the data so their name is given by the combination we used, and then run the Tukey HSD:"
   ]
  },
  {
   "cell_type": "code",
   "execution_count": 18,
   "metadata": {
    "slideshow": {
     "slide_type": "subslide"
    }
   },
   "outputs": [
    {
     "name": "stdout",
     "output_type": "stream",
     "text": [
      "               Multiple Comparison of Means - Tukey HSD,FWER=0.05              \n",
      "===============================================================================\n",
      "        group1                group2        meandiff   lower     upper   reject\n",
      "-------------------------------------------------------------------------------\n",
      "Gap_b'+' & Power_b'+' Gap_b'+' & Power_b'-'  -152.5  -240.0336  -64.9664  True \n",
      "Gap_b'+' & Power_b'+' Gap_b'-' & Power_b'+'  255.25   167.7164  342.7836  True \n",
      "Gap_b'+' & Power_b'+' Gap_b'-' & Power_b'-'  -204.5  -292.0336 -116.9664  True \n",
      "Gap_b'+' & Power_b'-' Gap_b'-' & Power_b'+'  407.75   320.2164  495.2836  True \n",
      "Gap_b'+' & Power_b'-' Gap_b'-' & Power_b'-'  -52.0   -139.5336  35.5336  False \n",
      "Gap_b'-' & Power_b'+' Gap_b'-' & Power_b'-' -459.75  -547.2836 -372.2164  True \n",
      "-------------------------------------------------------------------------------\n",
      "p values: [0.00114733 0.001      0.001      0.001      0.33595711 0.001     ]\n"
     ]
    }
   ],
   "source": [
    "from statsmodels.stats.multicomp import MultiComparison\n",
    "\n",
    "\n",
    "#We combine the names\n",
    "interaction_groups = \"Gap_\" + df2factors.Gap.astype(str) + \" & \" + \"Power_\" + df2factors.Power.astype(str)\n",
    "\n",
    "mc = MultiComparison(df2factors['Rate'] , interaction_groups)\n",
    "tukey_res = mc.tukeyhsd()\n",
    "summary = tukey_res.summary()\n",
    "print(summary)\n",
    "\n",
    "#The p-values associated with those hypothesis\n",
    "from statsmodels.stats.libqsturng import psturng\n",
    "p_values = psturng(np.abs(tukey_res.meandiffs / tukey_res.std_pairs), len(tukey_res.groupsunique), tukey_res.df_total)\n",
    "print(\"p values:\", p_values)"
   ]
  },
  {
   "cell_type": "code",
   "execution_count": 19,
   "metadata": {
    "slideshow": {
     "slide_type": "subslide"
    }
   },
   "outputs": [
    {
     "data": {
      "image/png": "[encoded data removed]",
      "text/plain": [
       "<Figure size 720x432 with 1 Axes>"
      ]
     },
     "execution_count": 19,
     "metadata": {},
     "output_type": "execute_result"
    },
    {
     "data": {
      "image/png": "[encoded data removed]",
      "text/plain": [
       "<Figure size 720x432 with 1 Axes>"
      ]
     },
     "metadata": {
      "needs_background": "light"
     },
     "output_type": "display_data"
    }
   ],
   "source": [
    "tukey_res.plot_simultaneous(ylabel= \"Combination\", xlabel= \"Rate\")"
   ]
  },
  {
   "cell_type": "markdown",
   "metadata": {
    "slideshow": {
     "slide_type": "subslide"
    }
   },
   "source": [
    "Analysing the interaction:\n",
    "1. When using low power the gap does not make a difference\n",
    "2. All other interactions are significant\n",
    "\n",
    "## Activity: write down other possible conclusions while analysing the data"
   ]
  },
  {
   "cell_type": "markdown",
   "metadata": {
    "slideshow": {
     "slide_type": "slide"
    }
   },
   "source": [
    "## Statistical Power\n",
    "\n",
    "As for other ANOVA tests we can do power calculations. There are no readily available tools to calculate the power of a factorial design  to answer:\n",
    "\n",
    "1. How sure am I that if I was correct in **not** rejecting the null hypothesis? **Type II error**\n",
    "2. How many samples would I have needed if I wanted to detect a specific difference\n",
    "\n",
    "We can use the ROC graphs ensuring we use the right degrees of freedom, or we can use the functions in Python.\n",
    "\n",
    "Note that the degrees of freedom are in the ANOVA table, the numerator is related to the factor of interest, the denominator to the *Residual*. Also note that if you erroneously used a 1-way ANOVA or combined the data, those degrees of freedom will be erroneous as well !"
   ]
  },
  {
   "cell_type": "markdown",
   "metadata": {
    "slideshow": {
     "slide_type": "subslide"
    }
   },
   "source": [
    "For power calculations we will need to calculate the **effect size**, which is defined by the $\\eta^2$. We will calculate this value here for the whole table. \n",
    "\n",
    "Note that for each factor this is obtained from:\n",
    "\n",
    "$$\\eta^2=\\frac{SS_{factor}}{SS_{factor}+SS_{error}}$$\n",
    "\n",
    "Remember the $SS_{error}$ is the *Residual*\n",
    "\n",
    "We will calculate $\\eta^2$ for each of the factors."
   ]
  },
  {
   "cell_type": "code",
   "execution_count": 20,
   "metadata": {
    "slideshow": {
     "slide_type": "subslide"
    }
   },
   "outputs": [
    {
     "name": "stdout",
     "output_type": "stream",
     "text": [
      "                sum_sq    df           F        PR(>F)    eta_sq\n",
      "Gap         41310.5625   1.0   23.767029  3.816422e-04  0.664495\n",
      "Power      374850.0625   1.0  215.660881  4.951261e-09  0.947290\n",
      "Gap:Power   94402.5625   1.0   54.312222  8.620836e-06  0.819038\n",
      "Residual    20857.7500  12.0         NaN           NaN       NaN\n"
     ]
    }
   ],
   "source": [
    "# We first extract SS_error from the ANOVA table\n",
    "SS_error = anovaResults[-1:]['sum_sq'][0]   # the last row is -1 and it is the Residuals\n",
    "\n",
    "# Then calculate eta_sqare with the formula for all factors (0:one less of the total rows as those are Resiguals)\n",
    "eta_sq = anovaResults[0:len(anovaResults)-1]['sum_sq']/(anovaResults[0:len(anovaResults)-1]['sum_sq']+SS_error)\n",
    "\n",
    "# This code will add a column to the ANOVA results with the EtaSquare \n",
    "anovaResults['eta_sq'] = eta_sq\n",
    "\n",
    "print(anovaResults)"
   ]
  },
  {
   "cell_type": "markdown",
   "metadata": {
    "slideshow": {
     "slide_type": "subslide"
    }
   },
   "source": [
    "With the effect size $\\eta^2$ can be then used to perform a ANOVA Power test. \n",
    "\n",
    "Note that for now, Python **does not** have a power calculation function that accounts for more than one effect so we will use again **R. R** is a great tool for statistics although it requires often quite a bit of training to use as they use often statistic terms. But if you have the name of the function to run you can invoke it from Python.\n",
    "\n",
    "For factorial design R does not have a specific power calculation but a sample calculation can also give us a good answer. If we have enough samples to achieve a power of 80% we are in a good position."
   ]
  },
  {
   "cell_type": "code",
   "execution_count": 29,
   "metadata": {
    "scrolled": true,
    "slideshow": {
     "slide_type": "subslide"
    }
   },
   "outputs": [
    {
     "name": "stdout",
     "output_type": "stream",
     "text": [
      "The rpy2.ipython extension is already loaded. To reload it, use:\n",
      "  %reload_ext rpy2.ipython\n",
      "\n",
      "\r\n",
      "Treatment: Gap\n",
      "\r\n",
      "Effect Size: 0.664495\n",
      "\r\n",
      "Total N: 28\n",
      "\r\n",
      "n per cell: 4\n",
      "\r\n",
      "\n",
      "\n"
     ]
    }
   ],
   "source": [
    "# We first export a package rpy2 that allows to run R within Python\n",
    "%load_ext rpy2.ipython\n",
    "# and the robject that will let me invoke R objects\n",
    "import rpy2.robjects as robjects\n",
    "\n",
    "#finally, I prepare myself the string that will be passed to run to R\n",
    "#note that I will manually enter here for simplicity the values \n",
    "rstring=\"\"\"\n",
    "library(easypower)\n",
    "main.eff.1 <- list(name = \"Gap\", levels = 3, eta.sq = 0.664495)\n",
    "main.eff.2 <- list(name = \"Power\", levels = 3, eta.sq = 0.947290)\n",
    "n.multiway(iv1=main.eff.1, iv2=main.eff.2, interaction.eta2 = 0.819038, result=\"highest\", sig.level = 0.05, power = 0.9999)\n",
    "\"\"\" #quick note for this multiway, the highest parameter is giving us the maximum number of samples required\n",
    "\n",
    "#and invoke R\n",
    "rfunc=robjects.r(rstring)\n",
    "#finally, I print what R obtained as a result\n",
    "print(rfunc)"
   ]
  },
  {
   "cell_type": "markdown",
   "metadata": {
    "slideshow": {
     "slide_type": "subslide"
    }
   },
   "source": [
    "R is telling us that to have a power of 80% and a significance of 95% we then need to have 16 samples in total or 2 samples per cell. We have 3 samples per cell so we can ensure we have this power.\n",
    "\n",
    "## Activity: try higher power levels to determine the real power for our test number of samples per cell"
   ]
  },
  {
   "cell_type": "markdown",
   "metadata": {
    "slideshow": {
     "slide_type": "slide"
    }
   },
   "source": [
    "## Fitting Data\n",
    "\n",
    "One final concept to review in factorial design is the **$R^2$**. This tells us the probability that the model we have determined is indeed explained by the factors and interactions we found to be significant.\n",
    "\n",
    "$$R^2 = \\frac{SS_{factor1} + SS_{factor2} + ... + SS_{factorp} + SS_{interactions}}{SS_{total}}$$\n",
    "\n",
    "We can obtain from the ANOVA results those values and calculate $R^2$"
   ]
  },
  {
   "cell_type": "code",
   "execution_count": 30,
   "metadata": {
    "slideshow": {
     "slide_type": "subslide"
    }
   },
   "outputs": [
    {
     "name": "stdout",
     "output_type": "stream",
     "text": [
      "0.9607509818899447\n"
     ]
    }
   ],
   "source": [
    "SS_nominator = np.sum(anovaResults[:-1]['sum_sq'] )\n",
    "SS_total = np.sum(anovaResults[:]['sum_sq'])  #Note the total includes residual\n",
    "\n",
    "R_square = SS_nominator/SS_total\n",
    "\n",
    "print(R_square)"
   ]
  },
  {
   "cell_type": "markdown",
   "metadata": {
    "slideshow": {
     "slide_type": "fragment"
    }
   },
   "source": [
    "Telling us that there is a 96.08%  probability that the variability in rate is explained by the gap and the power considering interaction between those factors."
   ]
  },
  {
   "cell_type": "markdown",
   "metadata": {
    "slideshow": {
     "slide_type": "subslide"
    }
   },
   "source": [
    "Finally, the **statsmodels** package that we have used for ANOVA can also provide us with a fit information for the factorial design. \n",
    "\n",
    "We already had fitted the model using *ols*, so we can print a summary of that model and inspect the result.\n",
    "\n",
    "We will now finalize the fit analysis using this function by printing the model summary."
   ]
  },
  {
   "cell_type": "code",
   "execution_count": 31,
   "metadata": {
    "slideshow": {
     "slide_type": "subslide"
    }
   },
   "outputs": [
    {
     "name": "stdout",
     "output_type": "stream",
     "text": [
      "                            OLS Regression Results                            \n",
      "==============================================================================\n",
      "Dep. Variable:                   Rate   R-squared:                       0.961\n",
      "Model:                            OLS   Adj. R-squared:                  0.951\n",
      "Method:                 Least Squares   F-statistic:                     97.91\n",
      "Date:                Tue, 24 Nov 2020   Prob (F-statistic):           1.05e-08\n",
      "Time:                        11:43:32   Log-Likelihood:                -80.086\n",
      "No. Observations:                  16   AIC:                             168.2\n",
      "Df Residuals:                      12   BIC:                             171.3\n",
      "Df Model:                           3                                         \n",
      "Covariance Type:            nonrobust                                         \n",
      "=======================================================================================\n",
      "                          coef    std err          t      P>|t|      [0.025      0.975]\n",
      "---------------------------------------------------------------------------------------\n",
      "Intercept             801.5000     20.846     38.449      0.000     756.081     846.919\n",
      "Gap[T.-]              255.2500     29.480      8.658      0.000     191.019     319.481\n",
      "Power[T.-]           -152.5000     29.480     -5.173      0.000    -216.731     -88.269\n",
      "Gap[T.-]:Power[T.-]  -307.2500     41.691     -7.370      0.000    -398.087    -216.413\n",
      "==============================================================================\n",
      "Omnibus:                        0.148   Durbin-Watson:                   1.417\n",
      "Prob(Omnibus):                  0.928   Jarque-Bera (JB):                0.092\n",
      "Skew:                          -0.113   Prob(JB):                        0.955\n",
      "Kurtosis:                       2.704   Cond. No.                         6.85\n",
      "==============================================================================\n",
      "\n",
      "Warnings:\n",
      "[1] Standard Errors assume that the covariance matrix of the errors is correctly specified.\n"
     ]
    },
    {
     "name": "stderr",
     "output_type": "stream",
     "text": [
      "C:\\Users\\lcuri\\Anaconda3\\lib\\site-packages\\scipy\\stats\\stats.py:1394: UserWarning: kurtosistest only valid for n>=20 ... continuing anyway, n=16\n",
      "  \"anyway, n=%i\" % int(n))\n"
     ]
    }
   ],
   "source": [
    "modelFit = ols('Rate ~ Gap + Power + Gap:Power',df2factors).fit()\n",
    "\n",
    "print(modelFit.summary())"
   ]
  },
  {
   "cell_type": "markdown",
   "metadata": {
    "slideshow": {
     "slide_type": "subslide"
    }
   },
   "source": [
    "We can observe:\n",
    "\n",
    "1. $R^2$ value in here as well and indicates a very good model \n",
    "2. The adjusted $R^2$ being reasonably close to the $R^2$ indicates that accounting for the number of samples the model accuracy is maintained\n",
    "3. Our $F$ and the associated $p$ indicates that we can be quite confident that our model is linear $p<<0.001$\n",
    "4. Going feature by feature we see that all are required for prediction, including the interaction. "
   ]
  },
  {
   "cell_type": "markdown",
   "metadata": {
    "slideshow": {
     "slide_type": "subslide"
    }
   },
   "source": [
    "We could use that table to do predictions as we did for **factorial design** but remember these are categorical variables. It is more interesting to do a regression but for that we would require the values to be continuous.\n",
    "\n",
    "But we do have the values for \"low\" and \"high\" for each case, so we can transform the data.\n",
    "\n",
    "* Power Low = 275\n",
    "* Power High = 325\n",
    "* Gap Low = 0.8\n",
    "* Gap High = 1.2"
   ]
  },
  {
   "cell_type": "code",
   "execution_count": 35,
   "metadata": {
    "slideshow": {
     "slide_type": "subslide"
    }
   },
   "outputs": [
    {
     "name": "stdout",
     "output_type": "stream",
     "text": [
      "    id  Gap  Power    Rate\n",
      "0    1  0.8    275   550.0\n",
      "1    2  1.2    275   669.0\n",
      "2    3  0.8    275   604.0\n",
      "3    4  1.2    275   650.0\n",
      "4    5  0.8    275   633.0\n",
      "5    6  1.2    275   642.0\n",
      "6    7  0.8    275   601.0\n",
      "7    8  1.2    275   635.0\n",
      "8    9  0.8    325  1037.0\n",
      "9   10  1.2    325   749.0\n",
      "10  11  0.8    325  1052.0\n",
      "11  12  1.2    325   868.0\n",
      "12  13  0.8    325  1075.0\n",
      "13  14  1.2    325   860.0\n",
      "14  15  0.8    325  1063.0\n",
      "15  16  1.2    325   729.0\n"
     ]
    }
   ],
   "source": [
    "df2factorsNumeric = df2factors\n",
    "\n",
    "dtaP=df2factorsNumeric['Power'].replace('+'.encode('UTF-8'),325)   #in dta3 we have the data with dropped columns\n",
    "dtaP=dtaP.replace('-'.encode('UTF-8'),275)\n",
    "dtaG=df2factorsNumeric['Gap'].replace('+'.encode('UTF-8'),1.2)\n",
    "dtaG=dtaG.replace('-'.encode('UTF-8'),0.8)\n",
    "\n",
    "df2factorsNumeric['Power']=dtaP\n",
    "df2factorsNumeric['Gap']=dtaG\n",
    "\n",
    "df2factors=df.drop(['Pressure', 'Flow'], axis=1)\n",
    "\n",
    "print(df2factorsNumeric)"
   ]
  },
  {
   "cell_type": "code",
   "execution_count": 38,
   "metadata": {
    "slideshow": {
     "slide_type": "subslide"
    }
   },
   "outputs": [
    {
     "name": "stdout",
     "output_type": "stream",
     "text": [
      "Intercept: \n",
      " -806.625\n",
      "Coefficients: \n",
      " [-254.0625    6.1225]\n"
     ]
    }
   ],
   "source": [
    "from sklearn import linear_model\n",
    "\n",
    "X = df2factorsNumeric[['Gap','Power']] # here we have 2 variables for multiple regression that are independent \n",
    "Y = df2factorsNumeric ['Rate'] #here we have the dependent variable\n",
    "\n",
    "regr = linear_model.LinearRegression()  #the linear regression\n",
    "regr.fit(X, Y)\n",
    "\n",
    "print('Intercept: \\n', regr.intercept_)\n",
    "print('Coefficients: \\n', regr.coef_)"
   ]
  },
  {
   "cell_type": "markdown",
   "metadata": {
    "slideshow": {
     "slide_type": "subslide"
    }
   },
   "source": [
    "Just to double check, note that using OLS we get the same result. "
   ]
  },
  {
   "cell_type": "code",
   "execution_count": 40,
   "metadata": {
    "scrolled": true,
    "slideshow": {
     "slide_type": "subslide"
    }
   },
   "outputs": [
    {
     "name": "stdout",
     "output_type": "stream",
     "text": [
      "                            OLS Regression Results                            \n",
      "==============================================================================\n",
      "Dep. Variable:                   Rate   R-squared:                       0.783\n",
      "Model:                            OLS   Adj. R-squared:                  0.750\n",
      "Method:                 Least Squares   F-statistic:                     23.47\n",
      "Date:                Tue, 24 Nov 2020   Prob (F-statistic):           4.85e-05\n",
      "Time:                        11:56:18   Log-Likelihood:                -93.762\n",
      "No. Observations:                  16   AIC:                             193.5\n",
      "Df Residuals:                      13   BIC:                             195.8\n",
      "Df Model:                           2                                         \n",
      "Covariance Type:            nonrobust                                         \n",
      "==============================================================================\n",
      "                 coef    std err          t      P>|t|      [0.025      0.975]\n",
      "------------------------------------------------------------------------------\n",
      "const       -806.6250    306.925     -2.628      0.021   -1469.697    -143.553\n",
      "Gap         -254.0625    117.700     -2.159      0.050    -508.339       0.214\n",
      "Power          6.1225      0.942      6.502      0.000       4.088       8.157\n",
      "==============================================================================\n",
      "Omnibus:                        3.852   Durbin-Watson:                   2.894\n",
      "Prob(Omnibus):                  0.146   Jarque-Bera (JB):                1.656\n",
      "Skew:                          -0.433   Prob(JB):                        0.437\n",
      "Kurtosis:                       1.683   Cond. No.                     3.97e+03\n",
      "==============================================================================\n",
      "\n",
      "Warnings:\n",
      "[1] Standard Errors assume that the covariance matrix of the errors is correctly specified.\n",
      "[2] The condition number is large, 3.97e+03. This might indicate that there are\n",
      "strong multicollinearity or other numerical problems.\n"
     ]
    },
    {
     "name": "stderr",
     "output_type": "stream",
     "text": [
      "C:\\Users\\lcuri\\Anaconda3\\lib\\site-packages\\scipy\\stats\\stats.py:1394: UserWarning: kurtosistest only valid for n>=20 ... continuing anyway, n=16\n",
      "  \"anyway, n=%i\" % int(n))\n"
     ]
    }
   ],
   "source": [
    "import statsmodels.regression.linear_model as sm\n",
    "\n",
    "X = sm.add_constant(X)\n",
    "modelFitNumeric = sm.OLS(Y, X).fit()\n",
    "\n",
    "print(modelFitNumeric.summary())"
   ]
  },
  {
   "cell_type": "markdown",
   "metadata": {
    "slideshow": {
     "slide_type": "subslide"
    }
   },
   "source": [
    "With the fit we can make a prediction, and finally make a graph of the predicted surface and the scatter of the points that were measured."
   ]
  },
  {
   "cell_type": "code",
   "execution_count": 43,
   "metadata": {
    "slideshow": {
     "slide_type": "subslide"
    }
   },
   "outputs": [
    {
     "data": {
      "application/javascript": [
       "/* Put everything inside the global mpl namespace */\n",
       "window.mpl = {};\n",
       "\n",
       "\n",
       "mpl.get_websocket_type = function() {\n",
       "    if (typeof(WebSocket) !== 'undefined') {\n",
       "        return WebSocket;\n",
       "    } else if (typeof(MozWebSocket) !== 'undefined') {\n",
       "        return MozWebSocket;\n",
       "    } else {\n",
       "        alert('Your browser does not have WebSocket support. ' +\n",
       "              'Please try Chrome, Safari or Firefox ≥ 6. ' +\n",
       "              'Firefox 4 and 5 are also supported but you ' +\n",
       "              'have to enable WebSockets in about:config.');\n",
       "    };\n",
       "}\n",
       "\n",
       "mpl.figure = function(figure_id, websocket, ondownload, parent_element) {\n",
       "    this.id = figure_id;\n",
       "\n",
       "    this.ws = websocket;\n",
       "\n",
       "    this.supports_binary = (this.ws.binaryType != undefined);\n",
       "\n",
       "    if (!this.supports_binary) {\n",
       "        var warnings = document.getElementById(\"mpl-warnings\");\n",
       "        if (warnings) {\n",
       "            warnings.style.display = 'block';\n",
       "            warnings.textContent = (\n",
       "                \"This browser does not support binary websocket messages. \" +\n",
       "                    \"Performance may be slow.\");\n",
       "        }\n",
       "    }\n",
       "\n",
       "    this.imageObj = new Image();\n",
       "\n",
       "    this.context = undefined;\n",
       "    this.message = undefined;\n",
       "    this.canvas = undefined;\n",
       "    this.rubberband_canvas = undefined;\n",
       "    this.rubberband_context = undefined;\n",
       "    this.format_dropdown = undefined;\n",
       "\n",
       "    this.image_mode = 'full';\n",
       "\n",
       "    this.root = $('<div/>');\n",
       "    this._root_extra_style(this.root)\n",
       "    this.root.attr('style', 'display: inline-block');\n",
       "\n",
       "    $(parent_element).append(this.root);\n",
       "\n",
       "    this._init_header(this);\n",
       "    this._init_canvas(this);\n",
       "    this._init_toolbar(this);\n",
       "\n",
       "    var fig = this;\n",
       "\n",
       "    this.waiting = false;\n",
       "\n",
       "    this.ws.onopen =  function () {\n",
       "            fig.send_message(\"supports_binary\", {value: fig.supports_binary});\n",
       "            fig.send_message(\"send_image_mode\", {});\n",
       "            if (mpl.ratio != 1) {\n",
       "                fig.send_message(\"set_dpi_ratio\", {'dpi_ratio': mpl.ratio});\n",
       "            }\n",
       "            fig.send_message(\"refresh\", {});\n",
       "        }\n",
       "\n",
       "    this.imageObj.onload = function() {\n",
       "            if (fig.image_mode == 'full') {\n",
       "                // Full images could contain transparency (where diff images\n",
       "                // almost always do), so we need to clear the canvas so that\n",
       "                // there is no ghosting.\n",
       "                fig.context.clearRect(0, 0, fig.canvas.width, fig.canvas.height);\n",
       "            }\n",
       "            fig.context.drawImage(fig.imageObj, 0, 0);\n",
       "        };\n",
       "\n",
       "    this.imageObj.onunload = function() {\n",
       "        fig.ws.close();\n",
       "    }\n",
       "\n",
       "    this.ws.onmessage = this._make_on_message_function(this);\n",
       "\n",
       "    this.ondownload = ondownload;\n",
       "}\n",
       "\n",
       "mpl.figure.prototype._init_header = function() {\n",
       "    var titlebar = $(\n",
       "        '<div class=\"ui-dialog-titlebar ui-widget-header ui-corner-all ' +\n",
       "        'ui-helper-clearfix\"/>');\n",
       "    var titletext = $(\n",
       "        '<div class=\"ui-dialog-title\" style=\"width: 100%; ' +\n",
       "        'text-align: center; padding: 3px;\"/>');\n",
       "    titlebar.append(titletext)\n",
       "    this.root.append(titlebar);\n",
       "    this.header = titletext[0];\n",
       "}\n",
       "\n",
       "\n",
       "\n",
       "mpl.figure.prototype._canvas_extra_style = function(canvas_div) {\n",
       "\n",
       "}\n",
       "\n",
       "\n",
       "mpl.figure.prototype._root_extra_style = function(canvas_div) {\n",
       "\n",
       "}\n",
       "\n",
       "mpl.figure.prototype._init_canvas = function() {\n",
       "    var fig = this;\n",
       "\n",
       "    var canvas_div = $('<div/>');\n",
       "\n",
       "    canvas_div.attr('style', 'position: relative; clear: both; outline: 0');\n",
       "\n",
       "    function canvas_keyboard_event(event) {\n",
       "        return fig.key_event(event, event['data']);\n",
       "    }\n",
       "\n",
       "    canvas_div.keydown('key_press', canvas_keyboard_event);\n",
       "    canvas_div.keyup('key_release', canvas_keyboard_event);\n",
       "    this.canvas_div = canvas_div\n",
       "    this._canvas_extra_style(canvas_div)\n",
       "    this.root.append(canvas_div);\n",
       "\n",
       "    var canvas = $('<canvas/>');\n",
       "    canvas.addClass('mpl-canvas');\n",
       "    canvas.attr('style', \"left: 0; top: 0; z-index: 0; outline: 0\")\n",
       "\n",
       "    this.canvas = canvas[0];\n",
       "    this.context = canvas[0].getContext(\"2d\");\n",
       "\n",
       "    var backingStore = this.context.backingStorePixelRatio ||\n",
       "\tthis.context.webkitBackingStorePixelRatio ||\n",
       "\tthis.context.mozBackingStorePixelRatio ||\n",
       "\tthis.context.msBackingStorePixelRatio ||\n",
       "\tthis.context.oBackingStorePixelRatio ||\n",
       "\tthis.context.backingStorePixelRatio || 1;\n",
       "\n",
       "    mpl.ratio = (window.devicePixelRatio || 1) / backingStore;\n",
       "\n",
       "    var rubberband = $('<canvas/>');\n",
       "    rubberband.attr('style', \"position: absolute; left: 0; top: 0; z-index: 1;\")\n",
       "\n",
       "    var pass_mouse_events = true;\n",
       "\n",
       "    canvas_div.resizable({\n",
       "        start: function(event, ui) {\n",
       "            pass_mouse_events = false;\n",
       "        },\n",
       "        resize: function(event, ui) {\n",
       "            fig.request_resize(ui.size.width, ui.size.height);\n",
       "        },\n",
       "        stop: function(event, ui) {\n",
       "            pass_mouse_events = true;\n",
       "            fig.request_resize(ui.size.width, ui.size.height);\n",
       "        },\n",
       "    });\n",
       "\n",
       "    function mouse_event_fn(event) {\n",
       "        if (pass_mouse_events)\n",
       "            return fig.mouse_event(event, event['data']);\n",
       "    }\n",
       "\n",
       "    rubberband.mousedown('button_press', mouse_event_fn);\n",
       "    rubberband.mouseup('button_release', mouse_event_fn);\n",
       "    // Throttle sequential mouse events to 1 every 20ms.\n",
       "    rubberband.mousemove('motion_notify', mouse_event_fn);\n",
       "\n",
       "    rubberband.mouseenter('figure_enter', mouse_event_fn);\n",
       "    rubberband.mouseleave('figure_leave', mouse_event_fn);\n",
       "\n",
       "    canvas_div.on(\"wheel\", function (event) {\n",
       "        event = event.originalEvent;\n",
       "        event['data'] = 'scroll'\n",
       "        if (event.deltaY < 0) {\n",
       "            event.step = 1;\n",
       "        } else {\n",
       "            event.step = -1;\n",
       "        }\n",
       "        mouse_event_fn(event);\n",
       "    });\n",
       "\n",
       "    canvas_div.append(canvas);\n",
       "    canvas_div.append(rubberband);\n",
       "\n",
       "    this.rubberband = rubberband;\n",
       "    this.rubberband_canvas = rubberband[0];\n",
       "    this.rubberband_context = rubberband[0].getContext(\"2d\");\n",
       "    this.rubberband_context.strokeStyle = \"#000000\";\n",
       "\n",
       "    this._resize_canvas = function(width, height) {\n",
       "        // Keep the size of the canvas, canvas container, and rubber band\n",
       "        // canvas in synch.\n",
       "        canvas_div.css('width', width)\n",
       "        canvas_div.css('height', height)\n",
       "\n",
       "        canvas.attr('width', width * mpl.ratio);\n",
       "        canvas.attr('height', height * mpl.ratio);\n",
       "        canvas.attr('style', 'width: ' + width + 'px; height: ' + height + 'px;');\n",
       "\n",
       "        rubberband.attr('width', width);\n",
       "        rubberband.attr('height', height);\n",
       "    }\n",
       "\n",
       "    // Set the figure to an initial 600x600px, this will subsequently be updated\n",
       "    // upon first draw.\n",
       "    this._resize_canvas(600, 600);\n",
       "\n",
       "    // Disable right mouse context menu.\n",
       "    $(this.rubberband_canvas).bind(\"contextmenu\",function(e){\n",
       "        return false;\n",
       "    });\n",
       "\n",
       "    function set_focus () {\n",
       "        canvas.focus();\n",
       "        canvas_div.focus();\n",
       "    }\n",
       "\n",
       "    window.setTimeout(set_focus, 100);\n",
       "}\n",
       "\n",
       "mpl.figure.prototype._init_toolbar = function() {\n",
       "    var fig = this;\n",
       "\n",
       "    var nav_element = $('<div/>');\n",
       "    nav_element.attr('style', 'width: 100%');\n",
       "    this.root.append(nav_element);\n",
       "\n",
       "    // Define a callback function for later on.\n",
       "    function toolbar_event(event) {\n",
       "        return fig.toolbar_button_onclick(event['data']);\n",
       "    }\n",
       "    function toolbar_mouse_event(event) {\n",
       "        return fig.toolbar_button_onmouseover(event['data']);\n",
       "    }\n",
       "\n",
       "    for(var toolbar_ind in mpl.toolbar_items) {\n",
       "        var name = mpl.toolbar_items[toolbar_ind][0];\n",
       "        var tooltip = mpl.toolbar_items[toolbar_ind][1];\n",
       "        var image = mpl.toolbar_items[toolbar_ind][2];\n",
       "        var method_name = mpl.toolbar_items[toolbar_ind][3];\n",
       "\n",
       "        if (!name) {\n",
       "            // put a spacer in here.\n",
       "            continue;\n",
       "        }\n",
       "        var button = $('<button/>');\n",
       "        button.addClass('ui-button ui-widget ui-state-default ui-corner-all ' +\n",
       "                        'ui-button-icon-only');\n",
       "        button.attr('role', 'button');\n",
       "        button.attr('aria-disabled', 'false');\n",
       "        button.click(method_name, toolbar_event);\n",
       "        button.mouseover(tooltip, toolbar_mouse_event);\n",
       "\n",
       "        var icon_img = $('<span/>');\n",
       "        icon_img.addClass('ui-button-icon-primary ui-icon');\n",
       "        icon_img.addClass(image);\n",
       "        icon_img.addClass('ui-corner-all');\n",
       "\n",
       "        var tooltip_span = $('<span/>');\n",
       "        tooltip_span.addClass('ui-button-text');\n",
       "        tooltip_span.html(tooltip);\n",
       "\n",
       "        button.append(icon_img);\n",
       "        button.append(tooltip_span);\n",
       "\n",
       "        nav_element.append(button);\n",
       "    }\n",
       "\n",
       "    var fmt_picker_span = $('<span/>');\n",
       "\n",
       "    var fmt_picker = $('<select/>');\n",
       "    fmt_picker.addClass('mpl-toolbar-option ui-widget ui-widget-content');\n",
       "    fmt_picker_span.append(fmt_picker);\n",
       "    nav_element.append(fmt_picker_span);\n",
       "    this.format_dropdown = fmt_picker[0];\n",
       "\n",
       "    for (var ind in mpl.extensions) {\n",
       "        var fmt = mpl.extensions[ind];\n",
       "        var option = $(\n",
       "            '<option/>', {selected: fmt === mpl.default_extension}).html(fmt);\n",
       "        fmt_picker.append(option);\n",
       "    }\n",
       "\n",
       "    // Add hover states to the ui-buttons\n",
       "    $( \".ui-button\" ).hover(\n",
       "        function() { $(this).addClass(\"ui-state-hover\");},\n",
       "        function() { $(this).removeClass(\"ui-state-hover\");}\n",
       "    );\n",
       "\n",
       "    var status_bar = $('<span class=\"mpl-message\"/>');\n",
       "    nav_element.append(status_bar);\n",
       "    this.message = status_bar[0];\n",
       "}\n",
       "\n",
       "mpl.figure.prototype.request_resize = function(x_pixels, y_pixels) {\n",
       "    // Request matplotlib to resize the figure. Matplotlib will then trigger a resize in the client,\n",
       "    // which will in turn request a refresh of the image.\n",
       "    this.send_message('resize', {'width': x_pixels, 'height': y_pixels});\n",
       "}\n",
       "\n",
       "mpl.figure.prototype.send_message = function(type, properties) {\n",
       "    properties['type'] = type;\n",
       "    properties['figure_id'] = this.id;\n",
       "    this.ws.send(JSON.stringify(properties));\n",
       "}\n",
       "\n",
       "mpl.figure.prototype.send_draw_message = function() {\n",
       "    if (!this.waiting) {\n",
       "        this.waiting = true;\n",
       "        this.ws.send(JSON.stringify({type: \"draw\", figure_id: this.id}));\n",
       "    }\n",
       "}\n",
       "\n",
       "\n",
       "mpl.figure.prototype.handle_save = function(fig, msg) {\n",
       "    var format_dropdown = fig.format_dropdown;\n",
       "    var format = format_dropdown.options[format_dropdown.selectedIndex].value;\n",
       "    fig.ondownload(fig, format);\n",
       "}\n",
       "\n",
       "\n",
       "mpl.figure.prototype.handle_resize = function(fig, msg) {\n",
       "    var size = msg['size'];\n",
       "    if (size[0] != fig.canvas.width || size[1] != fig.canvas.height) {\n",
       "        fig._resize_canvas(size[0], size[1]);\n",
       "        fig.send_message(\"refresh\", {});\n",
       "    };\n",
       "}\n",
       "\n",
       "mpl.figure.prototype.handle_rubberband = function(fig, msg) {\n",
       "    var x0 = msg['x0'] / mpl.ratio;\n",
       "    var y0 = (fig.canvas.height - msg['y0']) / mpl.ratio;\n",
       "    var x1 = msg['x1'] / mpl.ratio;\n",
       "    var y1 = (fig.canvas.height - msg['y1']) / mpl.ratio;\n",
       "    x0 = Math.floor(x0) + 0.5;\n",
       "    y0 = Math.floor(y0) + 0.5;\n",
       "    x1 = Math.floor(x1) + 0.5;\n",
       "    y1 = Math.floor(y1) + 0.5;\n",
       "    var min_x = Math.min(x0, x1);\n",
       "    var min_y = Math.min(y0, y1);\n",
       "    var width = Math.abs(x1 - x0);\n",
       "    var height = Math.abs(y1 - y0);\n",
       "\n",
       "    fig.rubberband_context.clearRect(\n",
       "        0, 0, fig.canvas.width / mpl.ratio, fig.canvas.height / mpl.ratio);\n",
       "\n",
       "    fig.rubberband_context.strokeRect(min_x, min_y, width, height);\n",
       "}\n",
       "\n",
       "mpl.figure.prototype.handle_figure_label = function(fig, msg) {\n",
       "    // Updates the figure title.\n",
       "    fig.header.textContent = msg['label'];\n",
       "}\n",
       "\n",
       "mpl.figure.prototype.handle_cursor = function(fig, msg) {\n",
       "    var cursor = msg['cursor'];\n",
       "    switch(cursor)\n",
       "    {\n",
       "    case 0:\n",
       "        cursor = 'pointer';\n",
       "        break;\n",
       "    case 1:\n",
       "        cursor = 'default';\n",
       "        break;\n",
       "    case 2:\n",
       "        cursor = 'crosshair';\n",
       "        break;\n",
       "    case 3:\n",
       "        cursor = 'move';\n",
       "        break;\n",
       "    }\n",
       "    fig.rubberband_canvas.style.cursor = cursor;\n",
       "}\n",
       "\n",
       "mpl.figure.prototype.handle_message = function(fig, msg) {\n",
       "    fig.message.textContent = msg['message'];\n",
       "}\n",
       "\n",
       "mpl.figure.prototype.handle_draw = function(fig, msg) {\n",
       "    // Request the server to send over a new figure.\n",
       "    fig.send_draw_message();\n",
       "}\n",
       "\n",
       "mpl.figure.prototype.handle_image_mode = function(fig, msg) {\n",
       "    fig.image_mode = msg['mode'];\n",
       "}\n",
       "\n",
       "mpl.figure.prototype.updated_canvas_event = function() {\n",
       "    // Called whenever the canvas gets updated.\n",
       "    this.send_message(\"ack\", {});\n",
       "}\n",
       "\n",
       "// A function to construct a web socket function for onmessage handling.\n",
       "// Called in the figure constructor.\n",
       "mpl.figure.prototype._make_on_message_function = function(fig) {\n",
       "    return function socket_on_message(evt) {\n",
       "        if (evt.data instanceof Blob) {\n",
       "            /* FIXME: We get \"Resource interpreted as Image but\n",
       "             * transferred with MIME type text/plain:\" errors on\n",
       "             * Chrome.  But how to set the MIME type?  It doesn't seem\n",
       "             * to be part of the websocket stream */\n",
       "            evt.data.type = \"image/png\";\n",
       "\n",
       "            /* Free the memory for the previous frames */\n",
       "            if (fig.imageObj.src) {\n",
       "                (window.URL || window.webkitURL).revokeObjectURL(\n",
       "                    fig.imageObj.src);\n",
       "            }\n",
       "\n",
       "            fig.imageObj.src = (window.URL || window.webkitURL).createObjectURL(\n",
       "                evt.data);\n",
       "            fig.updated_canvas_event();\n",
       "            fig.waiting = false;\n",
       "            return;\n",
       "        }\n",
       "        else if (typeof evt.data === 'string' && evt.data.slice(0, 21) == \"data:image/png;base64\") {\n",
       "            fig.imageObj.src = evt.data;\n",
       "            fig.updated_canvas_event();\n",
       "            fig.waiting = false;\n",
       "            return;\n",
       "        }\n",
       "\n",
       "        var msg = JSON.parse(evt.data);\n",
       "        var msg_type = msg['type'];\n",
       "\n",
       "        // Call the  \"handle_{type}\" callback, which takes\n",
       "        // the figure and JSON message as its only arguments.\n",
       "        try {\n",
       "            var callback = fig[\"handle_\" + msg_type];\n",
       "        } catch (e) {\n",
       "            console.log(\"No handler for the '\" + msg_type + \"' message type: \", msg);\n",
       "            return;\n",
       "        }\n",
       "\n",
       "        if (callback) {\n",
       "            try {\n",
       "                // console.log(\"Handling '\" + msg_type + \"' message: \", msg);\n",
       "                callback(fig, msg);\n",
       "            } catch (e) {\n",
       "                console.log(\"Exception inside the 'handler_\" + msg_type + \"' callback:\", e, e.stack, msg);\n",
       "            }\n",
       "        }\n",
       "    };\n",
       "}\n",
       "\n",
       "// from http://stackoverflow.com/questions/1114465/getting-mouse-location-in-canvas\n",
       "mpl.findpos = function(e) {\n",
       "    //this section is from http://www.quirksmode.org/js/events_properties.html\n",
       "    var targ;\n",
       "    if (!e)\n",
       "        e = window.event;\n",
       "    if (e.target)\n",
       "        targ = e.target;\n",
       "    else if (e.srcElement)\n",
       "        targ = e.srcElement;\n",
       "    if (targ.nodeType == 3) // defeat Safari bug\n",
       "        targ = targ.parentNode;\n",
       "\n",
       "    // jQuery normalizes the pageX and pageY\n",
       "    // pageX,Y are the mouse positions relative to the document\n",
       "    // offset() returns the position of the element relative to the document\n",
       "    var x = e.pageX - $(targ).offset().left;\n",
       "    var y = e.pageY - $(targ).offset().top;\n",
       "\n",
       "    return {\"x\": x, \"y\": y};\n",
       "};\n",
       "\n",
       "/*\n",
       " * return a copy of an object with only non-object keys\n",
       " * we need this to avoid circular references\n",
       " * http://stackoverflow.com/a/24161582/3208463\n",
       " */\n",
       "function simpleKeys (original) {\n",
       "  return Object.keys(original).reduce(function (obj, key) {\n",
       "    if (typeof original[key] !== 'object')\n",
       "        obj[key] = original[key]\n",
       "    return obj;\n",
       "  }, {});\n",
       "}\n",
       "\n",
       "mpl.figure.prototype.mouse_event = function(event, name) {\n",
       "    var canvas_pos = mpl.findpos(event)\n",
       "\n",
       "    if (name === 'button_press')\n",
       "    {\n",
       "        this.canvas.focus();\n",
       "        this.canvas_div.focus();\n",
       "    }\n",
       "\n",
       "    var x = canvas_pos.x * mpl.ratio;\n",
       "    var y = canvas_pos.y * mpl.ratio;\n",
       "\n",
       "    this.send_message(name, {x: x, y: y, button: event.button,\n",
       "                             step: event.step,\n",
       "                             guiEvent: simpleKeys(event)});\n",
       "\n",
       "    /* This prevents the web browser from automatically changing to\n",
       "     * the text insertion cursor when the button is pressed.  We want\n",
       "     * to control all of the cursor setting manually through the\n",
       "     * 'cursor' event from matplotlib */\n",
       "    event.preventDefault();\n",
       "    return false;\n",
       "}\n",
       "\n",
       "mpl.figure.prototype._key_event_extra = function(event, name) {\n",
       "    // Handle any extra behaviour associated with a key event\n",
       "}\n",
       "\n",
       "mpl.figure.prototype.key_event = function(event, name) {\n",
       "\n",
       "    // Prevent repeat events\n",
       "    if (name == 'key_press')\n",
       "    {\n",
       "        if (event.which === this._key)\n",
       "            return;\n",
       "        else\n",
       "            this._key = event.which;\n",
       "    }\n",
       "    if (name == 'key_release')\n",
       "        this._key = null;\n",
       "\n",
       "    var value = '';\n",
       "    if (event.ctrlKey && event.which != 17)\n",
       "        value += \"ctrl+\";\n",
       "    if (event.altKey && event.which != 18)\n",
       "        value += \"alt+\";\n",
       "    if (event.shiftKey && event.which != 16)\n",
       "        value += \"shift+\";\n",
       "\n",
       "    value += 'k';\n",
       "    value += event.which.toString();\n",
       "\n",
       "    this._key_event_extra(event, name);\n",
       "\n",
       "    this.send_message(name, {key: value,\n",
       "                             guiEvent: simpleKeys(event)});\n",
       "    return false;\n",
       "}\n",
       "\n",
       "mpl.figure.prototype.toolbar_button_onclick = function(name) {\n",
       "    if (name == 'download') {\n",
       "        this.handle_save(this, null);\n",
       "    } else {\n",
       "        this.send_message(\"toolbar_button\", {name: name});\n",
       "    }\n",
       "};\n",
       "\n",
       "mpl.figure.prototype.toolbar_button_onmouseover = function(tooltip) {\n",
       "    this.message.textContent = tooltip;\n",
       "};\n",
       "mpl.toolbar_items = [[\"Home\", \"Reset original view\", \"fa fa-home icon-home\", \"home\"], [\"Back\", \"Back to previous view\", \"fa fa-arrow-left icon-arrow-left\", \"back\"], [\"Forward\", \"Forward to next view\", \"fa fa-arrow-right icon-arrow-right\", \"forward\"], [\"\", \"\", \"\", \"\"], [\"Pan\", \"Pan axes with left mouse, zoom with right\", \"fa fa-arrows icon-move\", \"pan\"], [\"Zoom\", \"Zoom to rectangle\", \"fa fa-square-o icon-check-empty\", \"zoom\"], [\"\", \"\", \"\", \"\"], [\"Download\", \"Download plot\", \"fa fa-floppy-o icon-save\", \"download\"]];\n",
       "\n",
       "mpl.extensions = [\"eps\", \"jpeg\", \"pdf\", \"png\", \"ps\", \"raw\", \"svg\", \"tif\"];\n",
       "\n",
       "mpl.default_extension = \"png\";var comm_websocket_adapter = function(comm) {\n",
       "    // Create a \"websocket\"-like object which calls the given IPython comm\n",
       "    // object with the appropriate methods. Currently this is a non binary\n",
       "    // socket, so there is still some room for performance tuning.\n",
       "    var ws = {};\n",
       "\n",
       "    ws.close = function() {\n",
       "        comm.close()\n",
       "    };\n",
       "    ws.send = function(m) {\n",
       "        //console.log('sending', m);\n",
       "        comm.send(m);\n",
       "    };\n",
       "    // Register the callback with on_msg.\n",
       "    comm.on_msg(function(msg) {\n",
       "        //console.log('receiving', msg['content']['data'], msg);\n",
       "        // Pass the mpl event to the overridden (by mpl) onmessage function.\n",
       "        ws.onmessage(msg['content']['data'])\n",
       "    });\n",
       "    return ws;\n",
       "}\n",
       "\n",
       "mpl.mpl_figure_comm = function(comm, msg) {\n",
       "    // This is the function which gets called when the mpl process\n",
       "    // starts-up an IPython Comm through the \"matplotlib\" channel.\n",
       "\n",
       "    var id = msg.content.data.id;\n",
       "    // Get hold of the div created by the display call when the Comm\n",
       "    // socket was opened in Python.\n",
       "    var element = $(\"#\" + id);\n",
       "    var ws_proxy = comm_websocket_adapter(comm)\n",
       "\n",
       "    function ondownload(figure, format) {\n",
       "        window.open(figure.imageObj.src);\n",
       "    }\n",
       "\n",
       "    var fig = new mpl.figure(id, ws_proxy,\n",
       "                           ondownload,\n",
       "                           element.get(0));\n",
       "\n",
       "    // Call onopen now - mpl needs it, as it is assuming we've passed it a real\n",
       "    // web socket which is closed, not our websocket->open comm proxy.\n",
       "    ws_proxy.onopen();\n",
       "\n",
       "    fig.parent_element = element.get(0);\n",
       "    fig.cell_info = mpl.find_output_cell(\"<div id='\" + id + \"'></div>\");\n",
       "    if (!fig.cell_info) {\n",
       "        console.error(\"Failed to find cell for figure\", id, fig);\n",
       "        return;\n",
       "    }\n",
       "\n",
       "    var output_index = fig.cell_info[2]\n",
       "    var cell = fig.cell_info[0];\n",
       "\n",
       "};\n",
       "\n",
       "mpl.figure.prototype.handle_close = function(fig, msg) {\n",
       "    var width = fig.canvas.width/mpl.ratio\n",
       "    fig.root.unbind('remove')\n",
       "\n",
       "    // Update the output cell to use the data from the current canvas.\n",
       "    fig.push_to_output();\n",
       "    var dataURL = fig.canvas.toDataURL();\n",
       "    // Re-enable the keyboard manager in IPython - without this line, in FF,\n",
       "    // the notebook keyboard shortcuts fail.\n",
       "    IPython.keyboard_manager.enable()\n",
       "    $(fig.parent_element).html('<img src=\"' + dataURL + '\" width=\"' + width + '\">');\n",
       "    fig.close_ws(fig, msg);\n",
       "}\n",
       "\n",
       "mpl.figure.prototype.close_ws = function(fig, msg){\n",
       "    fig.send_message('closing', msg);\n",
       "    // fig.ws.close()\n",
       "}\n",
       "\n",
       "mpl.figure.prototype.push_to_output = function(remove_interactive) {\n",
       "    // Turn the data on the canvas into data in the output cell.\n",
       "    var width = this.canvas.width/mpl.ratio\n",
       "    var dataURL = this.canvas.toDataURL();\n",
       "    this.cell_info[1]['text/html'] = '<img src=\"' + dataURL + '\" width=\"' + width + '\">';\n",
       "}\n",
       "\n",
       "mpl.figure.prototype.updated_canvas_event = function() {\n",
       "    // Tell IPython that the notebook contents must change.\n",
       "    IPython.notebook.set_dirty(true);\n",
       "    this.send_message(\"ack\", {});\n",
       "    var fig = this;\n",
       "    // Wait a second, then push the new image to the DOM so\n",
       "    // that it is saved nicely (might be nice to debounce this).\n",
       "    setTimeout(function () { fig.push_to_output() }, 1000);\n",
       "}\n",
       "\n",
       "mpl.figure.prototype._init_toolbar = function() {\n",
       "    var fig = this;\n",
       "\n",
       "    var nav_element = $('<div/>');\n",
       "    nav_element.attr('style', 'width: 100%');\n",
       "    this.root.append(nav_element);\n",
       "\n",
       "    // Define a callback function for later on.\n",
       "    function toolbar_event(event) {\n",
       "        return fig.toolbar_button_onclick(event['data']);\n",
       "    }\n",
       "    function toolbar_mouse_event(event) {\n",
       "        return fig.toolbar_button_onmouseover(event['data']);\n",
       "    }\n",
       "\n",
       "    for(var toolbar_ind in mpl.toolbar_items){\n",
       "        var name = mpl.toolbar_items[toolbar_ind][0];\n",
       "        var tooltip = mpl.toolbar_items[toolbar_ind][1];\n",
       "        var image = mpl.toolbar_items[toolbar_ind][2];\n",
       "        var method_name = mpl.toolbar_items[toolbar_ind][3];\n",
       "\n",
       "        if (!name) { continue; };\n",
       "\n",
       "        var button = $('<button class=\"btn btn-default\" href=\"#\" title=\"' + name + '\"><i class=\"fa ' + image + ' fa-lg\"></i></button>');\n",
       "        button.click(method_name, toolbar_event);\n",
       "        button.mouseover(tooltip, toolbar_mouse_event);\n",
       "        nav_element.append(button);\n",
       "    }\n",
       "\n",
       "    // Add the status bar.\n",
       "    var status_bar = $('<span class=\"mpl-message\" style=\"text-align:right; float: right;\"/>');\n",
       "    nav_element.append(status_bar);\n",
       "    this.message = status_bar[0];\n",
       "\n",
       "    // Add the close button to the window.\n",
       "    var buttongrp = $('<div class=\"btn-group inline pull-right\"></div>');\n",
       "    var button = $('<button class=\"btn btn-mini btn-primary\" href=\"#\" title=\"Stop Interaction\"><i class=\"fa fa-power-off icon-remove icon-large\"></i></button>');\n",
       "    button.click(function (evt) { fig.handle_close(fig, {}); } );\n",
       "    button.mouseover('Stop Interaction', toolbar_mouse_event);\n",
       "    buttongrp.append(button);\n",
       "    var titlebar = this.root.find($('.ui-dialog-titlebar'));\n",
       "    titlebar.prepend(buttongrp);\n",
       "}\n",
       "\n",
       "mpl.figure.prototype._root_extra_style = function(el){\n",
       "    var fig = this\n",
       "    el.on(\"remove\", function(){\n",
       "\tfig.close_ws(fig, {});\n",
       "    });\n",
       "}\n",
       "\n",
       "mpl.figure.prototype._canvas_extra_style = function(el){\n",
       "    // this is important to make the div 'focusable\n",
       "    el.attr('tabindex', 0)\n",
       "    // reach out to IPython and tell the keyboard manager to turn it's self\n",
       "    // off when our div gets focus\n",
       "\n",
       "    // location in version 3\n",
       "    if (IPython.notebook.keyboard_manager) {\n",
       "        IPython.notebook.keyboard_manager.register_events(el);\n",
       "    }\n",
       "    else {\n",
       "        // location in version 2\n",
       "        IPython.keyboard_manager.register_events(el);\n",
       "    }\n",
       "\n",
       "}\n",
       "\n",
       "mpl.figure.prototype._key_event_extra = function(event, name) {\n",
       "    var manager = IPython.notebook.keyboard_manager;\n",
       "    if (!manager)\n",
       "        manager = IPython.keyboard_manager;\n",
       "\n",
       "    // Check for shift+enter\n",
       "    if (event.shiftKey && event.which == 13) {\n",
       "        this.canvas_div.blur();\n",
       "        event.shiftKey = false;\n",
       "        // Send a \"J\" for go to next cell\n",
       "        event.which = 74;\n",
       "        event.keyCode = 74;\n",
       "        manager.command_mode();\n",
       "        manager.handle_keydown(event);\n",
       "    }\n",
       "}\n",
       "\n",
       "mpl.figure.prototype.handle_save = function(fig, msg) {\n",
       "    fig.ondownload(fig, null);\n",
       "}\n",
       "\n",
       "\n",
       "mpl.find_output_cell = function(html_output) {\n",
       "    // Return the cell and output element which can be found *uniquely* in the notebook.\n",
       "    // Note - this is a bit hacky, but it is done because the \"notebook_saving.Notebook\"\n",
       "    // IPython event is triggered only after the cells have been serialised, which for\n",
       "    // our purposes (turning an active figure into a static one), is too late.\n",
       "    var cells = IPython.notebook.get_cells();\n",
       "    var ncells = cells.length;\n",
       "    for (var i=0; i<ncells; i++) {\n",
       "        var cell = cells[i];\n",
       "        if (cell.cell_type === 'code'){\n",
       "            for (var j=0; j<cell.output_area.outputs.length; j++) {\n",
       "                var data = cell.output_area.outputs[j];\n",
       "                if (data.data) {\n",
       "                    // IPython >= 3 moved mimebundle to data attribute of output\n",
       "                    data = data.data;\n",
       "                }\n",
       "                if (data['text/html'] == html_output) {\n",
       "                    return [cell, data, j];\n",
       "                }\n",
       "            }\n",
       "        }\n",
       "    }\n",
       "}\n",
       "\n",
       "// Register the function which deals with the matplotlib target/channel.\n",
       "// The kernel may be null if the page has been refreshed.\n",
       "if (IPython.notebook.kernel != null) {\n",
       "    IPython.notebook.kernel.comm_manager.register_target('matplotlib', mpl.mpl_figure_comm);\n",
       "}\n"
      ],
      "text/plain": [
       "<IPython.core.display.Javascript object>"
      ]
     },
     "metadata": {},
     "output_type": "display_data"
    },
    {
     "data": {
      "text/html": [
       "<img src=\"data:image/png;base64,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\" width=\"720\">"
      ],
      "text/plain": [
       "<IPython.core.display.HTML object>"
      ]
     },
     "metadata": {},
     "output_type": "display_data"
    }
   ],
   "source": [
    "%matplotlib nbagg   \n",
    "#we will need this magic command to rotate our 3d curve\n",
    "\n",
    "from mpl_toolkits.mplot3d import Axes3D   #needed for the 3D plotting\n",
    "\n",
    "xsurf,ysurf=np.meshgrid(np.linspace(df2factorsNumeric.Gap.min(),df2factorsNumeric.Gap.max(),100),\n",
    "                        np.linspace(df2factorsNumeric.Power.min(),df2factorsNumeric.Power.max(),100))\n",
    "\n",
    "xvariables=pd.DataFrame({'Gap': xsurf.ravel(),'Power': ysurf.ravel()})\n",
    "\n",
    "fittedValues = regr.predict(xvariables)\n",
    "\n",
    "fig = plt.figure(figsize=(10,10))\n",
    "ax = fig.add_subplot(111, projection='3d')\n",
    "ax.scatter(df2factorsNumeric['Gap'],df2factorsNumeric['Power'], df2factorsNumeric['Rate'], c='red')\n",
    "ax.plot_surface(xsurf,ysurf,fittedValues.reshape(xsurf.shape))\n",
    "ax.set_xlabel('Gap')\n",
    "ax.set_ylabel('Power')\n",
    "ax.set_zlabel('Rate')\n",
    "plt.show()"
   ]
  },
  {
   "cell_type": "markdown",
   "metadata": {
    "slideshow": {
     "slide_type": "subslide"
    }
   },
   "source": [
    "## CASE\n",
    "\n",
    "We have obtained data on the intensity in an image as a function of concentration of a product that increases the signal (contrast agent).\n",
    "\n",
    "We want to describe this phenomenon using an equation. We have measured intensity values as a function of time from $5.84ms$ every $29.2ms$ for different concentrations of contrast agent.\n",
    "\n",
    ". | Acquisition Time |\n",
    "--|----------------- |\n",
    "\n",
    "Conc  |5.84ms | 35.04ms | 64.24ms | 93.44ms | 122.64ms| 151.84ms| 181.04ms| 210.24ms| 268.64ms| 297.84ms|\n",
    "----- |--- |----- |---- |------ |---- |---- |------ |------ |------ |------ |\n",
    "1.25  |100 |  54  | 11  |  8    |  6  |   2 |     1 |     1 |     1 |     1 |\n",
    "31.25 |100 |  75  | 35  |  23   | 11  |   8 |     4 |     3 |     2 |     1 |\n",
    "62.5  |100 |  93  | 63  |  49   | 35  |  28 |    19 |    16 |    11 |    9  |\n",
    "125.0 |100 | 81   | 70  |  60   | 52  |  44 |    39 |    33 |    29 |    25 |\n"
   ]
  },
  {
   "cell_type": "markdown",
   "metadata": {
    "slideshow": {
     "slide_type": "subslide"
    }
   },
   "source": [
    "## Model\n",
    "\n",
    "1. We have **2 input factors (concentration and time) with 4 and 12 possible levels respectively** \n",
    "2. We measure as our **output factor** the intensity\n",
    "3. We have some **controllable factors**: same operator, procedure, instruments, ...\n",
    "4. We have some **uncontrollable factors**: room temperature when measuring, t...\n",
    "\n",
    "**What is the expression that relates the intensity to the acquisition time? Is it the same for all concentrations?**"
   ]
  },
  {
   "cell_type": "markdown",
   "metadata": {
    "slideshow": {
     "slide_type": "subslide"
    }
   },
   "source": [
    "We enter this data as we did before in a dataframe. I will introduce here some features from panda for reading from CSV files that are useful in collected data. I will read the CSV and then move to an array that will be plotted:"
   ]
  },
  {
   "cell_type": "code",
   "execution_count": 1,
   "metadata": {
    "slideshow": {
     "slide_type": "subslide"
    }
   },
   "outputs": [],
   "source": [
    "import pandas as pd\n",
    "import numpy as np\n",
    "import matplotlib.pyplot as plt\n",
    "import matplotlib.cm as cm\n",
    "\n",
    "dta = pd.read_csv('Book1.csv')\n",
    "df = pd.DataFrame(dta)\n",
    "\n",
    "data_array=df.values   #this gets the data only (no labels in the data frame)\n",
    "intensity_data_array=np.delete(data_array, 0, 1)   #this eliminates the first column that we know is the concentration\n",
    "concentrations=np.delete(data_array, np.s_[1::], 1)\n",
    "concentrations=np.squeeze(concentrations)\n",
    "titles_data_array=df.columns.values  #gets the columns (note they are strings)\n",
    "time_data=[float(numeric_string) for numeric_string in titles_data_array[1:]]   #converts strings to floats without the first column that is not data"
   ]
  },
  {
   "cell_type": "markdown",
   "metadata": {
    "slideshow": {
     "slide_type": "subslide"
    }
   },
   "source": [
    "And we can plot the 4 different series as scatter points. We note that they all have an exponential decreasing behaviour."
   ]
  },
  {
   "cell_type": "code",
   "execution_count": 2,
   "metadata": {
    "slideshow": {
     "slide_type": "fragment"
    }
   },
   "outputs": [
    {
     "data": {
      "image/png": "[encoded data removed]",
      "text/plain": [
       "<Figure size 360x360 with 1 Axes>"
      ]
     },
     "metadata": {
      "needs_background": "light"
     },
     "output_type": "display_data"
    }
   ],
   "source": [
    "%matplotlib inline\n",
    "\n",
    "fig = plt.figure(figsize=(5,5))\n",
    "colors = cm.rainbow(np.linspace(0, 1, len(intensity_data_array)))\n",
    "for y, c in zip(intensity_data_array, colors):\n",
    "    plt.scatter(time_data, y, color=c)\n",
    "\n",
    "plt.legend(concentrations)\n",
    "plt.xlabel('Time')\n",
    "plt.ylabel('Intensity')\n",
    "plt.show()"
   ]
  },
  {
   "cell_type": "markdown",
   "metadata": {
    "slideshow": {
     "slide_type": "subslide"
    }
   },
   "source": [
    "From these results we can conclude that we need to find an expression between time and intensity that is exponential.\n",
    "\n",
    "We first define the desired function to be fitted. We will use scipy optimize, in particular curve_fit to perform this curve fitting."
   ]
  },
  {
   "cell_type": "code",
   "execution_count": 3,
   "metadata": {
    "slideshow": {
     "slide_type": "subslide"
    }
   },
   "outputs": [],
   "source": [
    "from scipy.optimize import curve_fit\n",
    "\n",
    "def func(x, a, b, c):\n",
    "    return a*np.exp(-b*x)+c"
   ]
  },
  {
   "cell_type": "markdown",
   "metadata": {
    "slideshow": {
     "slide_type": "subslide"
    }
   },
   "source": [
    "Curve fitting will provide an array with the parameters (in this case a, b and c) as a result, so we initialize an array where we will keep those values for each of the curves we are fitting.\n",
    "\n",
    "In addition, we will calculate the $R^2$ for each fit."
   ]
  },
  {
   "cell_type": "code",
   "execution_count": 4,
   "metadata": {
    "slideshow": {
     "slide_type": "subslide"
    }
   },
   "outputs": [],
   "source": [
    "popta=pcova=np.zeros(shape=(4,3))\n",
    "r_squared=np.zeros(4)\n",
    "\n",
    "for cn in range(4):  #we will calculate a fit for each of the concentrations\n",
    "    popt, pcov = curve_fit(func, time_data, intensity_data_array[cn], p0=(1, 1e-6, 1))\n",
    "    popta[cn,:]=popt"
   ]
  },
  {
   "cell_type": "markdown",
   "metadata": {
    "slideshow": {
     "slide_type": "subslide"
    }
   },
   "source": [
    "And we finally plot the data with the prediction."
   ]
  },
  {
   "cell_type": "code",
   "execution_count": 5,
   "metadata": {
    "slideshow": {
     "slide_type": "fragment"
    }
   },
   "outputs": [
    {
     "data": {
      "image/png": "[encoded data removed]",
      "text/plain": [
       "<Figure size 360x360 with 1 Axes>"
      ]
     },
     "metadata": {
      "needs_background": "light"
     },
     "output_type": "display_data"
    }
   ],
   "source": [
    "#plotting here all the datapoints, each a different colour\n",
    "fig = plt.figure(figsize=(5,5))\n",
    "colors = cm.rainbow(np.linspace(0, 1, len(intensity_data_array)))\n",
    "cn=0\n",
    "for y, c in zip(intensity_data_array, colors):\n",
    "    plt.scatter(time_data, y, color=c)\n",
    "    time_data_exp=np.multiply(time_data,-popta[cn,1])\n",
    "    prediction=popta[cn,0]*np.exp(time_data_exp)+popta[cn,2]\n",
    "    plt.plot(time_data, prediction, color=c)\n",
    "    \n",
    "    residuals = prediction - y\n",
    "    ss_res = np.sum(residuals**2)\n",
    "    ss_tot = np.sum((prediction-np.mean(prediction))**2)\n",
    "    r_squared[cn] = 1 - (ss_res / ss_tot)\n",
    "\n",
    "    cn=cn+1\n",
    "\n",
    "plt.xlabel('Time')\n",
    "plt.ylabel('Intensity')\n",
    "plt.legend(concentrations)\n",
    "plt.show()"
   ]
  },
  {
   "cell_type": "markdown",
   "metadata": {
    "slideshow": {
     "slide_type": "subslide"
    }
   },
   "source": [
    "We can print the equation for each of the curves and the value of $R^2$ for each fit. With such values of $R^2$ we have a very good fit for all equations."
   ]
  },
  {
   "cell_type": "code",
   "execution_count": 6,
   "metadata": {
    "slideshow": {
     "slide_type": "subslide"
    }
   },
   "outputs": [
    {
     "name": "stdout",
     "output_type": "stream",
     "text": [
      "Equation for 1.25 uL : Intensity(time) = 118.66*exp(-0.0276*time)+0.1078 \t R_squared = 0.9823\n",
      "Equation for 31.25 uL : Intensity(time) = 115.71*exp(-0.0159*time)+-2.0559 \t R_squared = 0.9842\n",
      "Equation for 62.50 uL : Intensity(time) = 118.56*exp(-0.0077*time)+-7.9765 \t R_squared = 0.9836\n",
      "Equation for 125.00 uL : Intensity(time) = 92.10*exp(-0.0065*time)+9.7833 \t R_squared = 0.9983\n"
     ]
    }
   ],
   "source": [
    "for cn in range(4):\n",
    "    print('Equation for %.2f uL : Intensity(time) = %.2f*exp(-%.4f*time)+%.4f \\t R_squared = %.4f' %(concentrations[cn], popta[cn,0], popta[cn,1], popta[cn,2], r_squared[cn]))"
   ]
  },
  {
   "cell_type": "markdown",
   "metadata": {
    "slideshow": {
     "slide_type": "slide"
    }
   },
   "source": [
    "## Summary"
   ]
  },
  {
   "cell_type": "markdown",
   "metadata": {
    "slideshow": {
     "slide_type": "subslide"
    }
   },
   "source": [
    "In this example:\n",
    "\n",
    "1. We introduced the principle for regression from reduced data when some factors are not significant\n",
    "2. We applied a N-way ANOVA to analyse trends in dependency of parametric data\n",
    "3. We applied a data fit using parametric and numerical values using ordinary least squares regression model\n",
    "4. We introduced data prediction and representation including the fit in 2D\n",
    "5. We introduced general curve fitting for non-linear equations\n",
    "6. We introduced evaluation of curve fitting and data representation from predictions"
   ]
  },
  {
   "cell_type": "markdown",
   "metadata": {
    "slideshow": {
     "slide_type": "skip"
    }
   },
   "source": [
    "References\n",
    "---------------\n",
    "\n",
    "* Montgomery, Douglas C. \"Design and analysis of experiments. John Wiley & Sons.\" Inc., New York 1997 (2001)."
   ]
  }
 ],
 "metadata": {
  "celltoolbar": "Slideshow",
  "kernelspec": {
   "display_name": "Python 3",
   "language": "python",
   "name": "python3"
  },
  "language_info": {
   "codemirror_mode": {
    "name": "ipython",
    "version": 3
   },
   "file_extension": ".py",
   "mimetype": "text/x-python",
   "name": "python",
   "nbconvert_exporter": "python",
   "pygments_lexer": "ipython3",
   "version": "3.7.1"
  }
 },
 "nbformat": 4,
 "nbformat_minor": 1
}
