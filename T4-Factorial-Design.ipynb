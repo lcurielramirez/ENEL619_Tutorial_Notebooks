{
 "cells": [
  {
   "cell_type": "markdown",
   "metadata": {
    "slideshow": {
     "slide_type": "slide"
    }
   },
   "source": [
    "# Factorial Design\n",
    "\n",
    "## Introduction\n",
    "\n",
    "When we want to determine the relationship between two or more factors that may be influencing the result of an output and we suspect that there also may be an interaction between the factors we require to test all possible combination of the factors we want to study.\n",
    "\n",
    "The experiment will require testing each of the discrete possible values for each factor and all possible combinations of these levels across all factors: this is a **factorial design**.\n",
    "\n",
    "The main principle is to arrange the experiment so that all combinations for each factor and level are measured *and each of those measurements is performed 2 or more times*.\n",
    "\n",
    "An example could be the test of a new formulation for an alloy where we can vary two ingredients to adjust the final strength, and we suspect that an interaction between ingredients may exist."
   ]
  },
  {
   "cell_type": "markdown",
   "metadata": {
    "slideshow": {
     "slide_type": "slide"
    }
   },
   "source": [
    "## CASE\n",
    "\n",
    "We want to test a material to glue an electrode directly to nerves. The material is made out of a polymer matrix grown by deposition on a plate. There are different recipes for this materials reported on the literature using three different matrices. It has also been reported that the material has to be grown at temperatures from room temperature to $50^oC$. \n",
    "\n",
    "We have however no information on how any of those factors may modify our metric of interest which is measuring the electric\n",
    "impedance in the nerve.\n",
    "\n",
    "**How can we determine if any/both factors may influence our readings? Could we have an interaction between both factors as well? if any/both factors influence the readings, which material/temperature should we use?**\n",
    "\n",
    "We decide to test three temperatures: $20^oC$, $37^oC$ and $50^oC$; and three kinds of matrix."
   ]
  },
  {
   "cell_type": "markdown",
   "metadata": {
    "slideshow": {
     "slide_type": "subslide"
    }
   },
   "source": [
    "## Model\n",
    "\n",
    "1. We have **2 input factors (temperature and matrix) with 3 possible levels each** ($20^oC$, $37^oC$, $50^oC$, Matrix 1, 2 and 3)\n",
    "2. We measure as our **output factor** the impedance\n",
    "3. We have some **controllable factors**: same operator, procedure, instruments, glue ...\n",
    "4. We have some **uncontrollable factors**: room temperature when measuring, ...\n",
    "5. We will measure four times each of the possible combinations\n",
    "6. Because we have three values for each factors, we will have 9 possible combinations for a total of $3x3x4=36$ measurements\n",
    "\n",
    "**Is the electric impedance affected by the matrix used and the temperature at which it was grown and is there any interaction between the temperature and the matrix?**"
   ]
  },
  {
   "cell_type": "markdown",
   "metadata": {
    "slideshow": {
     "slide_type": "subslide"
    }
   },
   "source": [
    "\n",
    "## Randomization\n",
    "\n",
    "The first step for this experiment is that the experiments should be done randomly. \n",
    "\n",
    "Every experiment and combination should be done in a random order as there is no blocking here."
   ]
  },
  {
   "cell_type": "markdown",
   "metadata": {
    "slideshow": {
     "slide_type": "subslide"
    }
   },
   "source": [
    "For factorial design it is often easier to visualize the combinations by designing the table where the data will be capturedL\n",
    "\n",
    "  \n",
    ". |       Temperature           . | \n",
    "-- |------------------------- | \n",
    "\n",
    "Matrix | $20^oC$   | $37^oC$   | $50^oC$   |\n",
    "-- |---- |---- |---- |\n",
    "1  | 1130  1155 | 1034  1040 | 1020  1070 | \n",
    "   | 1074  1180 | 1080  1075 | 1082  1058 |\n",
    "2  | 1150  1188 | 1136  1122 | 1025  1070 | \n",
    "   | 1159  1126 | 1106  1115 | 1058  1045 |\n",
    "3  | 1138  1110 | 1174  1120 | 1096  1104 | \n",
    "   | 1168  1160 | 1150  1139 | 1082  1060 |\n",
    "\n",
    "\n"
   ]
  },
  {
   "cell_type": "markdown",
   "metadata": {
    "slideshow": {
     "slide_type": "subslide"
    }
   },
   "source": [
    "We enter this data as we did before in a dataframe making sure we capture the combinations as experimentally done and all the repetitions:"
   ]
  },
  {
   "cell_type": "code",
   "execution_count": 3,
   "metadata": {
    "slideshow": {
     "slide_type": "subslide"
    }
   },
   "outputs": [
    {
     "name": "stdout",
     "output_type": "stream",
     "text": [
      "    id       Matrix Temperature  Impedance\n",
      "0    1  b'Matrix 1'      b'20C'     1130.0\n",
      "1    2  b'Matrix 1'      b'20C'     1155.0\n",
      "2    3  b'Matrix 1'      b'20C'     1074.0\n",
      "3    4  b'Matrix 1'      b'20C'     1180.0\n",
      "4    5  b'Matrix 1'      b'37C'     1034.0\n",
      "5    6  b'Matrix 1'      b'37C'     1040.0\n",
      "6    7  b'Matrix 1'      b'37C'     1080.0\n",
      "7    8  b'Matrix 1'      b'37C'     1075.0\n",
      "8    9  b'Matrix 1'      b'50C'     1020.0\n",
      "9   10  b'Matrix 1'      b'50C'     1070.0\n",
      "10  11  b'Matrix 1'      b'50C'     1082.0\n",
      "11  12  b'Matrix 1'      b'50C'     1058.0\n",
      "12  13  b'Matrix 2'      b'20C'     1150.0\n",
      "13  14  b'Matrix 2'      b'20C'     1188.0\n",
      "14  15  b'Matrix 2'      b'20C'     1159.0\n",
      "15  16  b'Matrix 2'      b'20C'     1126.0\n",
      "16  17  b'Matrix 2'      b'37C'     1136.0\n",
      "17  18  b'Matrix 2'      b'37C'     1122.0\n",
      "18  19  b'Matrix 2'      b'37C'     1106.0\n",
      "19  20  b'Matrix 2'      b'37C'     1115.0\n",
      "20  21  b'Matrix 2'      b'50C'     1025.0\n",
      "21  22  b'Matrix 2'      b'50C'     1070.0\n",
      "22  23  b'Matrix 2'      b'50C'     1058.0\n",
      "23  24  b'Matrix 2'      b'50C'     1045.0\n",
      "24  25  b'Matrix 3'      b'20C'     1138.0\n",
      "25  26  b'Matrix 3'      b'20C'     1110.0\n",
      "26  27  b'Matrix 3'      b'20C'     1168.0\n",
      "27  28  b'Matrix 3'      b'20C'     1160.0\n",
      "28  29  b'Matrix 3'      b'37C'     1174.0\n",
      "29  30  b'Matrix 3'      b'37C'     1120.0\n",
      "30  31  b'Matrix 3'      b'37C'     1150.0\n",
      "31  32  b'Matrix 3'      b'37C'     1139.0\n",
      "32  33  b'Matrix 3'      b'50C'     1096.0\n",
      "33  34  b'Matrix 3'      b'50C'     1104.0\n",
      "34  35  b'Matrix 3'      b'50C'     1082.0\n",
      "35  36  b'Matrix 3'      b'50C'     1060.0\n"
     ]
    }
   ],
   "source": [
    "import pandas as pd\n",
    "import numpy as np\n",
    "import matplotlib\n",
    "\n",
    "%matplotlib inline\n",
    "\n",
    "# Put into dataframe\n",
    "dta2 = np.rec.array([\n",
    "    (  1,  'Matrix 1', '20C', 1130), (  2,  'Matrix 1', '20C', 1155) , (  3, 'Matrix 1', '20C', 1074) , (  4,  'Matrix 1', '20C', 1180) , \n",
    "    (  5,  'Matrix 1', '37C', 1034), (  6,  'Matrix 1', '37C', 1040) , (  7, 'Matrix 1', '37C', 1080) , (  8,  'Matrix 1', '37C', 1075) , \n",
    "    (  9,  'Matrix 1', '50C', 1020), ( 10,  'Matrix 1', '50C', 1070) , ( 11, 'Matrix 1', '50C', 1082) , ( 12,  'Matrix 1', '50C', 1058) , \n",
    "    ( 13,  'Matrix 2', '20C', 1150), ( 14,  'Matrix 2', '20C', 1188) , ( 15, 'Matrix 2', '20C', 1159) , ( 16,  'Matrix 2', '20C', 1126) , \n",
    "    ( 17,  'Matrix 2', '37C', 1136), ( 18,  'Matrix 2', '37C', 1122) , ( 19, 'Matrix 2', '37C', 1106) , ( 20,  'Matrix 2', '37C', 1115) , \n",
    "    ( 21,  'Matrix 2', '50C', 1025), ( 22,  'Matrix 2', '50C', 1070) , ( 23, 'Matrix 2', '50C', 1058) , ( 24,  'Matrix 2', '50C', 1045) , \n",
    "    ( 25,  'Matrix 3', '20C', 1138), ( 26,  'Matrix 3', '20C', 1110) , ( 27, 'Matrix 3', '20C', 1168) , ( 28,  'Matrix 3', '20C', 1160) , \n",
    "    ( 29,  'Matrix 3', '37C', 1174), ( 30,  'Matrix 3', '37C', 1120) , ( 31, 'Matrix 3', '37C', 1150) , ( 32,  'Matrix 3', '37C', 1139) , \n",
    "    ( 33,  'Matrix 3', '50C', 1096), ( 34,  'Matrix 3', '50C', 1104) , ( 35, 'Matrix 3', '50C', 1082) , ( 36,  'Matrix 3', '50C', 1060) ],\n",
    "    dtype=[('id', '<i4'), ('Matrix', '|S17'), ('Temperature', '|S15'), ('Impedance', '<f')])\n",
    "    \n",
    "df = pd.DataFrame(dta2)\n",
    "print(df)"
   ]
  },
  {
   "cell_type": "markdown",
   "metadata": {
    "slideshow": {
     "slide_type": "slide"
    }
   },
   "source": [
    "## Hypothesis Testing\n",
    "\n",
    "When using a factorial design the hypothesis testing is similar as always but the **model** is different.\n",
    "\n",
    "If we consider that the result we measure is \n",
    "\n",
    "$$y_{ijk}=\\mu+\\tau_i+\\beta_j+(\\tau\\beta)_{ij}+\\epsilon_{ijk}$$\n",
    "\n",
    "Where $\\tau_i$ represents variations per factor A we want to analyse (the matrix here)\n",
    "\n",
    "And $\\beta_j$ represents variations per factor B we want to analyse (the temperature here)\n",
    "\n",
    "And $(\\tau\\beta)_{ij}$ represents the interaction between factor A and B\n",
    "\n",
    "And $\\mu$ is the mean considered the same for all \n",
    "\n",
    "And $\\epsilon_{ijk}$ are small variations per experiment (the k is the repetitions per combination)"
   ]
  },
  {
   "cell_type": "markdown",
   "metadata": {
    "slideshow": {
     "slide_type": "subslide"
    }
   },
   "source": [
    "We want to test the hypothesis for each factor. \n",
    "\n",
    "For **the matrix** that this $\\tau_i$ is non-existent $\\tau_1=\\tau_2=...\\tau_i=0$ meaning there are no differences between the CTs. If we reject that hypothesis then we know there is at least one factor where the population has a different mean and therefore the alternative hypothesis $H_1$ is valid.\n",
    "\n",
    "For **the temperature** that this $\\beta_i$ is non-existent $\\beta_1=\\beta_2=...\\beta_j=0$ meaning there are no differences between the CTs. If we reject that hypothesis then we know there is at least one factor where the population has a different mean and therefore the alternative hypothesis $H_1$ is valid.\n",
    "\n",
    "\n",
    "**We will reject the null hypothesis $H_0$ if p<0.05**\n",
    "\n",
    "This means that there is less than 5% chance we made a mistake in rejecting the hypothesis and therefore we are quite certain that at least one factor changes the impedance."
   ]
  },
  {
   "cell_type": "markdown",
   "metadata": {
    "slideshow": {
     "slide_type": "subslide"
    }
   },
   "source": [
    "We can account for this by using a N-way ANOVA.\n",
    "\n",
    "You can check you the $F$ statistic is affected by the N-way ANOVA and how this matches the equations discussed in lecture.\n",
    "\n",
    "We will construct the **model** used accounts for **both** factors **as well as the interaction** (in our case the matrix and the tempearture). So when we construct as we already did before our model using **ols** we will need to use a *Matrix + Temperature + (Matrix)(Temperature)* model.\n",
    "\n",
    "And then running the ANOVA test and print the results:"
   ]
  },
  {
   "cell_type": "code",
   "execution_count": 4,
   "metadata": {
    "slideshow": {
     "slide_type": "subslide"
    }
   },
   "outputs": [
    {
     "name": "stdout",
     "output_type": "stream",
     "text": [
      "                      df        sum_sq       mean_sq          F        PR(>F)\n",
      "Matrix               2.0  10683.722222   5341.861111   7.911372  1.976083e-03\n",
      "Temperature          2.0  39118.722222  19559.361111  28.967692  1.908596e-07\n",
      "Matrix:Temperature   4.0   9613.777778   2403.444444   3.559535  1.861117e-02\n",
      "Residual            27.0  18230.750000    675.212963        NaN           NaN\n"
     ]
    }
   ],
   "source": [
    "import statsmodels.api as sm\n",
    "from statsmodels.formula.api import ols\n",
    "from statsmodels.stats.anova import anova_lm\n",
    "\n",
    "model = ols('Impedance ~ Matrix + Temperature + Matrix:Temperature ',df).fit()   #this ensures it is a N-way ANOVA  \n",
    "    \n",
    "anovaResults =  anova_lm(model, typ=1)\n",
    "\n",
    "print(anovaResults)"
   ]
  },
  {
   "cell_type": "markdown",
   "metadata": {
    "slideshow": {
     "slide_type": "subslide"
    }
   },
   "source": [
    "From these results we can conclude that both the matrix and the temperature are having an effect on the impedance since the value of **p** (PR(>F) is significant for both factors. And we can also see that there is an interaction between the matrix we use and the temperature as this is also significant."
   ]
  },
  {
   "cell_type": "markdown",
   "metadata": {
    "slideshow": {
     "slide_type": "subslide"
    }
   },
   "source": [
    "When using the right model we concluded that both the matrix and the temperature are having an effect on the impedance since the value of **p** (PR(>F) is significant for both factors. \n",
    "\n",
    "Using Tukey HSD test we can determine trends for each of the factors and the combinations.\n",
    "\n",
    "**Note that if you run a standard Tukey HSD it will merge the data which we just explained is erroneous!! We will correct this by substracting the effect of the other factors before running this multi-comparison**\n",
    "\n",
    "Some packages such as R or SPCC or with the right parameters Matlab do this already for their multi-comparison. In Python this has not been implemented in the **Multicomparison** so this is a workaround is needed, but hopefully it will be fixed soon. For now, see the code below:"
   ]
  },
  {
   "cell_type": "code",
   "execution_count": 5,
   "metadata": {
    "slideshow": {
     "slide_type": "subslide"
    }
   },
   "outputs": [
    {
     "name": "stdout",
     "output_type": "stream",
     "text": [
      "Multiple Comparison of Means - Tukey HSD,FWER=0.05\n",
      "===============================================\n",
      "group1 group2 meandiff   lower    upper  reject\n",
      "-----------------------------------------------\n",
      "b'20C' b'37C'  -37.25   -66.3436 -8.1564  True \n",
      "b'20C' b'50C' -80.6667 -109.7603 -51.573  True \n",
      "b'37C' b'50C' -43.4167  -72.5103 -14.323  True \n",
      "-----------------------------------------------\n",
      "p values: [0.00964538 0.001      0.00244286]\n"
     ]
    }
   ],
   "source": [
    "from statsmodels.stats.multicomp import MultiComparison\n",
    "\n",
    "#The multiple comparison testing is done between data without the average contribution from the phantom\n",
    "mc = MultiComparison(df['Impedance'] - df.groupby(dta2['Matrix'])['Impedance'].transform('mean'), df['Temperature'])\n",
    "# df.groupby(dta2['Matrix'])['Impedance'].transform('mean') is averaging the grouped data for each matrix \n",
    "# so we test impedance once we remove this average contribution \n",
    "tukey_res = mc.tukeyhsd()\n",
    "summary = tukey_res.summary()\n",
    "print(summary)\n",
    "\n",
    "#The p-values associated with those hypothesis\n",
    "from statsmodels.stats.libqsturng import psturng\n",
    "p_values = psturng(np.abs(tukey_res.meandiffs / tukey_res.std_pairs), len(tukey_res.groupsunique), tukey_res.df_total)\n",
    "print(\"p values:\", p_values)"
   ]
  },
  {
   "cell_type": "markdown",
   "metadata": {
    "slideshow": {
     "slide_type": "subslide"
    }
   },
   "source": [
    "Because the p<<0.001 this was expected. What is interesting is the result observed graphically showing that the higher the temperautre the lower the impedance. Note that we will not have the value of the impedance in this graph as we substracted the other effects, but the trend can be analysed. To obtain the value of impedance we can add the number to the average."
   ]
  },
  {
   "cell_type": "code",
   "execution_count": 6,
   "metadata": {
    "slideshow": {
     "slide_type": "fragment"
    }
   },
   "outputs": [
    {
     "data": {
      "image/png": "[encoded data removed]",
      "text/plain": [
       "<Figure size 720x432 with 1 Axes>"
      ]
     },
     "execution_count": 6,
     "metadata": {},
     "output_type": "execute_result"
    },
    {
     "data": {
      "image/png": "[encoded data removed]",
      "text/plain": [
       "<Figure size 720x432 with 1 Axes>"
      ]
     },
     "metadata": {
      "needs_background": "light"
     },
     "output_type": "display_data"
    }
   ],
   "source": [
    "tukey_res.plot_simultaneous(ylabel= \"Temperature\", xlabel= \"Impedance\")"
   ]
  },
  {
   "cell_type": "markdown",
   "metadata": {
    "slideshow": {
     "slide_type": "subslide"
    }
   },
   "source": [
    "For the effect of the Matrix:"
   ]
  },
  {
   "cell_type": "code",
   "execution_count": 7,
   "metadata": {
    "slideshow": {
     "slide_type": "subslide"
    }
   },
   "outputs": [
    {
     "name": "stdout",
     "output_type": "stream",
     "text": [
      "   Multiple Comparison of Means - Tukey HSD,FWER=0.05   \n",
      "========================================================\n",
      "   group1      group2   meandiff  lower    upper  reject\n",
      "--------------------------------------------------------\n",
      "b'Matrix 1' b'Matrix 2' 25.1667   -3.927  54.2603 False \n",
      "b'Matrix 1' b'Matrix 3' 41.9167   12.823  71.0103  True \n",
      "b'Matrix 2' b'Matrix 3'  16.75   -12.3436 45.8436 False \n",
      "--------------------------------------------------------\n",
      "p values: [0.10073597 0.00343735 0.34692102]\n"
     ]
    }
   ],
   "source": [
    "from statsmodels.stats.multicomp import MultiComparison\n",
    "\n",
    "#The multiple comparison testing is done between data without the average contribution from the phantom\n",
    "mc = MultiComparison(df['Impedance'] - df.groupby(dta2['Temperature'])['Impedance'].transform('mean'), df['Matrix'])\n",
    "# df.groupby(dta2['Phantom'])['Density'].transform('mean') is averaging the grouped data for each phantom \n",
    "# so we test density once we remove this average phantom contribution \n",
    "tukey_res = mc.tukeyhsd()\n",
    "summary = tukey_res.summary()\n",
    "print(summary)\n",
    "\n",
    "#The p-values associated with those hypothesis\n",
    "from statsmodels.stats.libqsturng import psturng\n",
    "p_values = psturng(np.abs(tukey_res.meandiffs / tukey_res.std_pairs), len(tukey_res.groupsunique), tukey_res.df_total)\n",
    "print(\"p values:\", p_values)"
   ]
  },
  {
   "cell_type": "markdown",
   "metadata": {
    "slideshow": {
     "slide_type": "subslide"
    }
   },
   "source": [
    "Matrix 1 and 3 are different but there seems to be no differences between the other ones. Graphically we can see however there is a trend and impedance is increased between those three matrices. Because these are not continuous variables is not information we could use."
   ]
  },
  {
   "cell_type": "code",
   "execution_count": 8,
   "metadata": {
    "slideshow": {
     "slide_type": "subslide"
    }
   },
   "outputs": [
    {
     "data": {
      "image/png": "[encoded data removed]",
      "text/plain": [
       "<Figure size 720x432 with 1 Axes>"
      ]
     },
     "execution_count": 8,
     "metadata": {},
     "output_type": "execute_result"
    },
    {
     "data": {
      "image/png": "[encoded data removed]",
      "text/plain": [
       "<Figure size 720x432 with 1 Axes>"
      ]
     },
     "metadata": {
      "needs_background": "light"
     },
     "output_type": "display_data"
    }
   ],
   "source": [
    "tukey_res.plot_simultaneous(ylabel= \"Temperature\", xlabel= \"Impedance\")"
   ]
  },
  {
   "cell_type": "markdown",
   "metadata": {
    "slideshow": {
     "slide_type": "subslide"
    }
   },
   "source": [
    "For the interaction we need to do some data merging so we can analyse it. We will combine the data so their name is given by the combination we used, and then run the Tukey HSD:"
   ]
  },
  {
   "cell_type": "code",
   "execution_count": 9,
   "metadata": {
    "slideshow": {
     "slide_type": "subslide"
    }
   },
   "outputs": [
    {
     "name": "stdout",
     "output_type": "stream",
     "text": [
      "                        Multiple Comparison of Means - Tukey HSD,FWER=0.05                        \n",
      "==================================================================================================\n",
      "             group1                           group2              meandiff  lower    upper  reject\n",
      "--------------------------------------------------------------------------------------------------\n",
      "Temp_b'20C' & Matrix_b'Matrix 1' Temp_b'20C' & Matrix_b'Matrix 2'   21.0   -40.822   82.822 False \n",
      "Temp_b'20C' & Matrix_b'Matrix 1' Temp_b'20C' & Matrix_b'Matrix 3'   9.25   -52.572   71.072 False \n",
      "Temp_b'20C' & Matrix_b'Matrix 1' Temp_b'37C' & Matrix_b'Matrix 1'  -77.5   -139.322 -15.678  True \n",
      "Temp_b'20C' & Matrix_b'Matrix 1' Temp_b'37C' & Matrix_b'Matrix 2'  -15.0   -76.822   46.822 False \n",
      "Temp_b'20C' & Matrix_b'Matrix 1' Temp_b'37C' & Matrix_b'Matrix 3'   11.0   -50.822   72.822 False \n",
      "Temp_b'20C' & Matrix_b'Matrix 1' Temp_b'50C' & Matrix_b'Matrix 1'  -77.25  -139.072 -15.428  True \n",
      "Temp_b'20C' & Matrix_b'Matrix 1' Temp_b'50C' & Matrix_b'Matrix 2'  -85.25  -147.072 -23.428  True \n",
      "Temp_b'20C' & Matrix_b'Matrix 1' Temp_b'50C' & Matrix_b'Matrix 3'  -49.25  -111.072  12.572 False \n",
      "Temp_b'20C' & Matrix_b'Matrix 2' Temp_b'20C' & Matrix_b'Matrix 3'  -11.75  -73.572   50.072 False \n",
      "Temp_b'20C' & Matrix_b'Matrix 2' Temp_b'37C' & Matrix_b'Matrix 1'  -98.5   -160.322 -36.678  True \n",
      "Temp_b'20C' & Matrix_b'Matrix 2' Temp_b'37C' & Matrix_b'Matrix 2'  -36.0   -97.822   25.822 False \n",
      "Temp_b'20C' & Matrix_b'Matrix 2' Temp_b'37C' & Matrix_b'Matrix 3'  -10.0   -71.822   51.822 False \n",
      "Temp_b'20C' & Matrix_b'Matrix 2' Temp_b'50C' & Matrix_b'Matrix 1'  -98.25  -160.072 -36.428  True \n",
      "Temp_b'20C' & Matrix_b'Matrix 2' Temp_b'50C' & Matrix_b'Matrix 2' -106.25  -168.072 -44.428  True \n",
      "Temp_b'20C' & Matrix_b'Matrix 2' Temp_b'50C' & Matrix_b'Matrix 3'  -70.25  -132.072  -8.428  True \n",
      "Temp_b'20C' & Matrix_b'Matrix 3' Temp_b'37C' & Matrix_b'Matrix 1'  -86.75  -148.572 -24.928  True \n",
      "Temp_b'20C' & Matrix_b'Matrix 3' Temp_b'37C' & Matrix_b'Matrix 2'  -24.25  -86.072   37.572 False \n",
      "Temp_b'20C' & Matrix_b'Matrix 3' Temp_b'37C' & Matrix_b'Matrix 3'   1.75   -60.072   63.572 False \n",
      "Temp_b'20C' & Matrix_b'Matrix 3' Temp_b'50C' & Matrix_b'Matrix 1'  -86.5   -148.322 -24.678  True \n",
      "Temp_b'20C' & Matrix_b'Matrix 3' Temp_b'50C' & Matrix_b'Matrix 2'  -94.5   -156.322 -32.678  True \n",
      "Temp_b'20C' & Matrix_b'Matrix 3' Temp_b'50C' & Matrix_b'Matrix 3'  -58.5   -120.322  3.322  False \n",
      "Temp_b'37C' & Matrix_b'Matrix 1' Temp_b'37C' & Matrix_b'Matrix 2'   62.5    0.678   124.322  True \n",
      "Temp_b'37C' & Matrix_b'Matrix 1' Temp_b'37C' & Matrix_b'Matrix 3'   88.5    26.678  150.322  True \n",
      "Temp_b'37C' & Matrix_b'Matrix 1' Temp_b'50C' & Matrix_b'Matrix 1'   0.25   -61.572   62.072 False \n",
      "Temp_b'37C' & Matrix_b'Matrix 1' Temp_b'50C' & Matrix_b'Matrix 2'  -7.75   -69.572   54.072 False \n",
      "Temp_b'37C' & Matrix_b'Matrix 1' Temp_b'50C' & Matrix_b'Matrix 3'  28.25   -33.572   90.072 False \n",
      "Temp_b'37C' & Matrix_b'Matrix 2' Temp_b'37C' & Matrix_b'Matrix 3'   26.0   -35.822   87.822 False \n",
      "Temp_b'37C' & Matrix_b'Matrix 2' Temp_b'50C' & Matrix_b'Matrix 1'  -62.25  -124.072  -0.428  True \n",
      "Temp_b'37C' & Matrix_b'Matrix 2' Temp_b'50C' & Matrix_b'Matrix 2'  -70.25  -132.072  -8.428  True \n",
      "Temp_b'37C' & Matrix_b'Matrix 2' Temp_b'50C' & Matrix_b'Matrix 3'  -34.25  -96.072   27.572 False \n",
      "Temp_b'37C' & Matrix_b'Matrix 3' Temp_b'50C' & Matrix_b'Matrix 1'  -88.25  -150.072 -26.428  True \n",
      "Temp_b'37C' & Matrix_b'Matrix 3' Temp_b'50C' & Matrix_b'Matrix 2'  -96.25  -158.072 -34.428  True \n",
      "Temp_b'37C' & Matrix_b'Matrix 3' Temp_b'50C' & Matrix_b'Matrix 3'  -60.25  -122.072  1.572  False \n",
      "Temp_b'50C' & Matrix_b'Matrix 1' Temp_b'50C' & Matrix_b'Matrix 2'   -8.0   -69.822   53.822 False \n",
      "Temp_b'50C' & Matrix_b'Matrix 1' Temp_b'50C' & Matrix_b'Matrix 3'   28.0   -33.822   89.822 False \n",
      "Temp_b'50C' & Matrix_b'Matrix 2' Temp_b'50C' & Matrix_b'Matrix 3'   36.0   -25.822   97.822 False \n",
      "--------------------------------------------------------------------------------------------------\n",
      "p values: [0.9        0.9        0.00652155 0.9        0.9        0.00674478\n",
      " 0.00223754 0.2016204  0.9        0.001      0.57210686 0.9\n",
      " 0.001      0.001      0.01720806 0.00181168 0.9        0.9\n",
      " 0.00187581 0.001      0.07447027 0.04605399 0.00141881 0.9\n",
      " 0.9        0.80620737 0.8741704  0.04747708 0.01720806 0.62496883\n",
      " 0.00146956 0.001      0.06050699 0.9        0.81375976 0.57210686]\n"
     ]
    }
   ],
   "source": [
    "from statsmodels.stats.multicomp import MultiComparison\n",
    "\n",
    "\n",
    "#We combine the names\n",
    "interaction_groups = \"Temp_\" + df.Temperature.astype(str) + \" & \" + \"Matrix_\" + df.Matrix.astype(str)\n",
    "\n",
    "mc = MultiComparison(df['Impedance'] , interaction_groups)\n",
    "tukey_res = mc.tukeyhsd()\n",
    "summary = tukey_res.summary()\n",
    "print(summary)\n",
    "\n",
    "#The p-values associated with those hypothesis\n",
    "from statsmodels.stats.libqsturng import psturng\n",
    "p_values = psturng(np.abs(tukey_res.meandiffs / tukey_res.std_pairs), len(tukey_res.groupsunique), tukey_res.df_total)\n",
    "print(\"p values:\", p_values)"
   ]
  },
  {
   "cell_type": "code",
   "execution_count": 10,
   "metadata": {
    "slideshow": {
     "slide_type": "subslide"
    }
   },
   "outputs": [
    {
     "data": {
      "image/png": "[encoded data removed]",
      "text/plain": [
       "<Figure size 720x432 with 1 Axes>"
      ]
     },
     "execution_count": 10,
     "metadata": {},
     "output_type": "execute_result"
    },
    {
     "data": {
      "image/png": "[encoded data removed]",
      "text/plain": [
       "<Figure size 720x432 with 1 Axes>"
      ]
     },
     "metadata": {
      "needs_background": "light"
     },
     "output_type": "display_data"
    }
   ],
   "source": [
    "tukey_res.plot_simultaneous(ylabel= \"Combination\", xlabel= \"Impedance\")"
   ]
  },
  {
   "cell_type": "markdown",
   "metadata": {
    "slideshow": {
     "slide_type": "subslide"
    }
   },
   "source": [
    "Analysing the interaction is a little more complex but we can still observe:\n",
    "1. As long as we stay at room temperature the choice of matrix does not seem to modify the impedance\n",
    "2. At 37C that we have a decrease in impedance for matrix 1\n",
    "3. At high temperature the matrix choice will not affect the impedance but overall we will have a lower impedance\n",
    "4. It seems that if we want to have a reproducible impedance we should choose to work at room temperature OR at high temperature, and the matrix will not affect our resulting impedance\n",
    "5. We could control the impedance using the temperature: for higher impedance use room temperature, for lower impedance use $50^oC$ and the matrix will not affect us\n",
    "6. If we want to control the impedance we could also decide to chose matrix 1 or matrix 2 and either work at room temperature or anywhere between 37C and 50C to reduce final impedance. But matrix 3 **will not** allow us to do this\n",
    "\n",
    "## Activity: write down other possible conclusions while analysing the data"
   ]
  },
  {
   "cell_type": "markdown",
   "metadata": {
    "slideshow": {
     "slide_type": "slide"
    }
   },
   "source": [
    "## Statistical Power\n",
    "\n",
    "As for other ANOVA tests we can do power calculations. There are no readily available tools to calculate the power of a factorial design  to answer:\n",
    "\n",
    "1. How sure am I that if I was correct in **not** rejecting the null hypothesis? **Type II error**\n",
    "2. How many samples would I have needed if I wanted to detect a specific difference\n",
    "\n",
    "We can use the ROC graphs ensuring we use the right degrees of freedom, or we can use the functions in Python.\n",
    "\n",
    "Note that the degrees of freedom are in the ANOVA table, the numerator is related to the factor of interest, the denominator to the *Residual*. Also note that if you erroneously used a 1-way ANOVA or combined the data, those degrees of freedom will be erroneous as well !"
   ]
  },
  {
   "cell_type": "markdown",
   "metadata": {
    "slideshow": {
     "slide_type": "subslide"
    }
   },
   "source": [
    "For power calculations we will need to calculate the **effect size**, which is defined by the $\\eta^2$. We will calculate this value here for the whole table. \n",
    "\n",
    "Note that for each factor this is obtained from:\n",
    "\n",
    "$$\\eta^2=\\frac{SS_{factor}}{SS_{factor}+SS_{error}}$$\n",
    "\n",
    "Remember the $SS_{error}$ is the *Residual*\n",
    "\n",
    "We will calculate $\\eta^2$ for each of the factors."
   ]
  },
  {
   "cell_type": "code",
   "execution_count": 11,
   "metadata": {
    "slideshow": {
     "slide_type": "subslide"
    }
   },
   "outputs": [
    {
     "name": "stdout",
     "output_type": "stream",
     "text": [
      "                      df        sum_sq       mean_sq          F        PR(>F)  \\\n",
      "Matrix               2.0  10683.722222   5341.861111   7.911372  1.976083e-03   \n",
      "Temperature          2.0  39118.722222  19559.361111  28.967692  1.908596e-07   \n",
      "Matrix:Temperature   4.0   9613.777778   2403.444444   3.559535  1.861117e-02   \n",
      "Residual            27.0  18230.750000    675.212963        NaN           NaN   \n",
      "\n",
      "                      eta_sq  \n",
      "Matrix              0.369494  \n",
      "Temperature         0.682111  \n",
      "Matrix:Temperature  0.345266  \n",
      "Residual                 NaN  \n"
     ]
    }
   ],
   "source": [
    "# We first extract SS_error from the ANOVA table\n",
    "SS_error = anovaResults[-1:]['sum_sq'][0]   # the last row is -1 and it is the Residuals\n",
    "\n",
    "# Then calculate eta_sqare with the formula for all factors (0:one less of the total rows as those are Resiguals)\n",
    "eta_sq = anovaResults[0:len(anovaResults)-1]['sum_sq']/(anovaResults[0:len(anovaResults)-1]['sum_sq']+SS_error)\n",
    "\n",
    "# This code will add a column to the ANOVA results with the EtaSquare \n",
    "anovaResults['eta_sq'] = eta_sq\n",
    "\n",
    "print(anovaResults)"
   ]
  },
  {
   "cell_type": "markdown",
   "metadata": {
    "slideshow": {
     "slide_type": "subslide"
    }
   },
   "source": [
    "With the effect size $\\eta^2$ can be then used to perform a ANOVA Power test. \n",
    "\n",
    "Note that for now, Python **does not** have a power calculation function that accounts for more than one effect so we will use again **R. R** is a great tool for statistics although it requires often quite a bit of training to use as they use often statistic terms. But if you have the name of the function to run you can invoke it from Python.\n",
    "\n",
    "For factorial design R does not have a specific power calculation but a sample calculation can also give us a good answer. If we have enough samples to achieve a power of 80% we are in a good position."
   ]
  },
  {
   "cell_type": "code",
   "execution_count": 12,
   "metadata": {
    "scrolled": true,
    "slideshow": {
     "slide_type": "subslide"
    }
   },
   "outputs": [
    {
     "name": "stdout",
     "output_type": "stream",
     "text": [
      "\n",
      "\r\n",
      "Treatment: Matrix*Temperature\n",
      "\r\n",
      "Effect Size: 0.345266\n",
      "\r\n",
      "Total N: 36\n",
      "\r\n",
      "n per cell: 4\n",
      "\r\n",
      "\n",
      "\n"
     ]
    }
   ],
   "source": [
    "# We first export a package rpy2 that allows to run R within Python\n",
    "%load_ext rpy2.ipython\n",
    "# and the robject that will let me invoke R objects\n",
    "import rpy2.robjects as robjects\n",
    "\n",
    "#finally, I prepare myself the string that will be passed to run to R\n",
    "#note that I will manually enter here for simplicity the values \n",
    "rstring=\"\"\"\n",
    "library(easypower)\n",
    "main.eff.1 <- list(name = \"Matrix\", levels = 3, eta.sq = 0.369494)\n",
    "main.eff.2 <- list(name = \"Temperature\", levels = 3, eta.sq = 0.682111)\n",
    "n.multiway(iv1=main.eff.1, iv2=main.eff.2, interaction.eta2 = 0.345266, result=\"highest\", sig.level = 0.05, power = 0.866)\n",
    "\"\"\" #quick note for this multiway, the highest parameter is giving us the maximum number of samples required\n",
    "\n",
    "#and invoke R\n",
    "rfunc=robjects.r(rstring)\n",
    "#finally, I print what R obtained as a result\n",
    "print(rfunc)"
   ]
  },
  {
   "cell_type": "markdown",
   "metadata": {
    "slideshow": {
     "slide_type": "subslide"
    }
   },
   "source": [
    "R is telling us that to have a power of 80% and a significance of 95% we then need to have 32 samples in total or 4 samples per cell. It also tells that it is the interaction that requires this number of samples, so we can assume that a single effect from matrix or temperature can be detected with less samples. \n",
    "\n",
    "This is the number of samples per cell we had, so we can conclude that we have a power of 80% or higher.\n",
    "\n",
    "## Activity: try higher power levels and see at which point you would require to increase the number of samples per cell"
   ]
  },
  {
   "cell_type": "markdown",
   "metadata": {
    "slideshow": {
     "slide_type": "slide"
    }
   },
   "source": [
    "## Fitting Data\n",
    "\n",
    "One final concept to review in factorial design is the **$R^2$**. This tells us the probability that the model we have determined is indeed explained by the factors and interactions we found to be significant.\n",
    "\n",
    "$$R^2 = \\frac{SS_{factor1} + SS_{factor2} + ... + SS_{factorp} + SS_{interactions}}{SS_{total}}$$\n",
    "\n",
    "We can obtain from the ANOVA results those values and calculate $R^2$"
   ]
  },
  {
   "cell_type": "code",
   "execution_count": 13,
   "metadata": {
    "slideshow": {
     "slide_type": "subslide"
    }
   },
   "outputs": [
    {
     "name": "stdout",
     "output_type": "stream",
     "text": [
      "                      df        sum_sq       mean_sq          F        PR(>F)  \\\n",
      "Matrix               2.0  10683.722222   5341.861111   7.911372  1.976083e-03   \n",
      "Temperature          2.0  39118.722222  19559.361111  28.967692  1.908596e-07   \n",
      "Matrix:Temperature   4.0   9613.777778   2403.444444   3.559535  1.861117e-02   \n",
      "Residual            27.0  18230.750000    675.212963        NaN           NaN   \n",
      "\n",
      "                      eta_sq  \n",
      "Matrix              0.369494  \n",
      "Temperature         0.682111  \n",
      "Matrix:Temperature  0.345266  \n",
      "Residual                 NaN  \n",
      "0.7652097760125877\n"
     ]
    }
   ],
   "source": [
    "print(anovaResults)\n",
    "SS_nominator = np.sum(anovaResults[:-1]['sum_sq'] )\n",
    "SS_total = np.sum(anovaResults[:]['sum_sq'])  #Note the total includes residual\n",
    "\n",
    "R_square = SS_nominator/SS_total\n",
    "\n",
    "print(R_square)"
   ]
  },
  {
   "cell_type": "markdown",
   "metadata": {
    "slideshow": {
     "slide_type": "fragment"
    }
   },
   "source": [
    "Telling us that there is a 76.52%  probability that the variability in impedance is explained by the matrix choice and the temperature considering interaction between those factors."
   ]
  },
  {
   "cell_type": "markdown",
   "metadata": {
    "slideshow": {
     "slide_type": "subslide"
    }
   },
   "source": [
    "Finally, the **statsmodels** package that we have used for ANOVA can also provide us with a fit information for the factorial design. \n",
    "\n",
    "We already had fitted the model using *ols*, so we can print a summary of that model and inspect the result.\n",
    "\n",
    "We will now finalize the fit analysis using this function by printing the model summary."
   ]
  },
  {
   "cell_type": "code",
   "execution_count": 14,
   "metadata": {
    "scrolled": true,
    "slideshow": {
     "slide_type": "subslide"
    }
   },
   "outputs": [
    {
     "name": "stdout",
     "output_type": "stream",
     "text": [
      "                            OLS Regression Results                            \n",
      "==============================================================================\n",
      "Dep. Variable:              Impedance   R-squared:                       0.765\n",
      "Model:                            OLS   Adj. R-squared:                  0.696\n",
      "Method:                 Least Squares   F-statistic:                     11.00\n",
      "Date:                Tue, 17 Nov 2020   Prob (F-statistic):           9.43e-07\n",
      "Time:                        11:55:17   Log-Likelihood:                -163.17\n",
      "No. Observations:                  36   AIC:                             344.3\n",
      "Df Residuals:                      27   BIC:                             358.6\n",
      "Df Model:                           8                                         \n",
      "Covariance Type:            nonrobust                                         \n",
      "=========================================================================================================\n",
      "                                            coef    std err          t      P>|t|      [0.025      0.975]\n",
      "---------------------------------------------------------------------------------------------------------\n",
      "Intercept                              1134.7500     12.992     87.339      0.000    1108.092    1161.408\n",
      "Matrix[T.Matrix 2]                       21.0000     18.374      1.143      0.263     -16.700      58.700\n",
      "Matrix[T.Matrix 3]                        9.2500     18.374      0.503      0.619     -28.450      46.950\n",
      "Temperature[T.37C]                      -77.5000     18.374     -4.218      0.000    -115.200     -39.800\n",
      "Temperature[T.50C]                      -77.2500     18.374     -4.204      0.000    -114.950     -39.550\n",
      "Matrix[T.Matrix 2]:Temperature[T.37C]    41.5000     25.985      1.597      0.122     -11.817      94.817\n",
      "Matrix[T.Matrix 3]:Temperature[T.37C]    79.2500     25.985      3.050      0.005      25.933     132.567\n",
      "Matrix[T.Matrix 2]:Temperature[T.50C]   -29.0000     25.985     -1.116      0.274     -82.317      24.317\n",
      "Matrix[T.Matrix 3]:Temperature[T.50C]    18.7500     25.985      0.722      0.477     -34.567      72.067\n",
      "==============================================================================\n",
      "Omnibus:                        1.609   Durbin-Watson:                   2.713\n",
      "Prob(Omnibus):                  0.447   Jarque-Bera (JB):                1.192\n",
      "Skew:                          -0.444   Prob(JB):                        0.551\n",
      "Kurtosis:                       2.922   Cond. No.                         13.9\n",
      "==============================================================================\n",
      "\n",
      "Warnings:\n",
      "[1] Standard Errors assume that the covariance matrix of the errors is correctly specified.\n"
     ]
    }
   ],
   "source": [
    "modelFit = ols('Impedance ~ Matrix + Temperature + Matrix:Temperature',df).fit()\n",
    "\n",
    "print(modelFit.summary())"
   ]
  },
  {
   "cell_type": "markdown",
   "metadata": {
    "slideshow": {
     "slide_type": "subslide"
    }
   },
   "source": [
    "We can observe:\n",
    "\n",
    "1. $R^2$ value in here as well and indicates a good fit but not extremely so\n",
    "2. The adjusted $R^2$ being not so close to the $R^2$ indicates that accounting for the number of samples the fit is degraded so we can get a better model if we increase our samples\n",
    "3. Our $F$ and the associated $p$ indicates that we can be quite confident that our model is linear $p<<0.001$\n",
    "4. Going feature by feature we see that the ones that are really significant are *temperature* but the *matrix* is not really required for prediction, we also need a factor if we choose *matrix 3* at $37^oC$ but none of the other interactions are significant. **Note that this wil not be equivalent to ANOVA as these are pairwise T-Tests that are used for modeling**. We will then favour the use of those features to predict new responses but not interactions."
   ]
  },
  {
   "cell_type": "markdown",
   "metadata": {
    "slideshow": {
     "slide_type": "subslide"
    }
   },
   "source": [
    "We finally can use that table to do predictions for our data by using the intercept and coefficients (those that are statistically significant only).\n",
    "\n",
    "Note here that the model is working with categorical variables! \n",
    "\n",
    "This means the model looks like this for a prediction with Matrix 3 at $37^oC$ the model looks like this:\n",
    "\n",
    "$$Impedance = Intercept + coef(Temperature[T.37C])+$$\n",
    "$$coef(Matrix[T.Matrix 3]:Temperature[T.37C])=1134.75 - 77.50 + 79.25 = 1136.50$$\n",
    "\n",
    "We don't add any other coefficient that are not significant or not indicated in the table (those are included in the intercept)."
   ]
  },
  {
   "cell_type": "markdown",
   "metadata": {
    "slideshow": {
     "slide_type": "subslide"
    }
   },
   "source": [
    "## Activity: make a prediction showing the equation for Matrix 1 at $50^oC$"
   ]
  },
  {
   "cell_type": "markdown",
   "metadata": {
    "slideshow": {
     "slide_type": "slide"
    }
   },
   "source": [
    "## Three or More Factors\n",
    "\n",
    "Input factors can be more than two as long as we test all combinations and we have at least 2 repetitions per combination. We will show here a case for three factors. "
   ]
  },
  {
   "cell_type": "markdown",
   "metadata": {
    "slideshow": {
     "slide_type": "subslide"
    }
   },
   "source": [
    "## CASE\n",
    "\n",
    "We are building a device to keep the temperature in a chamber between $34^oC$ and $45^oC$. We have designed it so that we\n",
    "can switch between two lengths and two gauges of heating wire, and we can control the current. We know that by controlling these factors we can vary the temperature but we are unsure if all factors affect the temperature and if they are inter-dependent.\n",
    "\n",
    "This includes then 3 factors. We have two values for the length, two values for the gauge and any values we can chose for the current (for this example I will try three values: $1A$, $2A$ and $3A$.\n",
    "\n",
    "Because we have $2^4 = 16$ combinations. We could try them all, but for an initial experiment we decide to try 5 possibilities and see if any of them is really different to the others"
   ]
  },
  {
   "cell_type": "markdown",
   "metadata": {
    "slideshow": {
     "slide_type": "subslide"
    }
   },
   "source": [
    "## Model\n",
    "\n",
    "1. We have **3 input factors with different possible levels** ($15 cm$ and $25 cm$; $32G$ and  $38G$; $1A$, $2A$ and $3A$)\n",
    "2. We measure as our **output factor** the temperature\n",
    "3. We have some **controllable factors**: same operator, device, thermometre...\n",
    "4. We have some **uncontrollable factors**: room temperature when working, humidity of the room...\n",
    "\n",
    "**How is the temperature influenced by any combination of factors?**"
   ]
  },
  {
   "cell_type": "markdown",
   "metadata": {
    "slideshow": {
     "slide_type": "subslide"
    }
   },
   "source": [
    "We place ont of the factors to be studied as rows, the other as columns and subcolumns:\n",
    "\n",
    "..............|   32G cable    |  ...|     38G cable    |  | \n",
    "-- |----|----- |---|---| \n",
    "\n",
    "\n",
    "Current | 15cm |   20cm   | 15cm  |    20cm    |\n",
    "-- |---- |---- |---- |---- |\n",
    "1  | 30 | 36 | 31 | 38 |  \n",
    "   | 32 | 37 | 32 | 38 | \n",
    "2  | 33 | 39 | 34 | 43 |  \n",
    "   | 34 | 38 | 35 | 42 | \n",
    "3  | 40 | 46 | 41 | 49 |  \n",
    "   | 39 | 45 | 43 | 50 | \n",
    "\n",
    "\n"
   ]
  },
  {
   "cell_type": "code",
   "execution_count": 15,
   "metadata": {
    "slideshow": {
     "slide_type": "subslide"
    }
   },
   "outputs": [
    {
     "name": "stdout",
     "output_type": "stream",
     "text": [
      "    id Current   Gauge   Length  Temperature\n",
      "0    1  b'1 A'  b'32G'  b'15cm'         30.0\n",
      "1    2  b'1 A'  b'32G'  b'15cm'         32.0\n",
      "2    3  b'1 A'  b'32G'  b'20cm'         36.0\n",
      "3    4  b'1 A'  b'32G'  b'20cm'         37.0\n",
      "4    5  b'2 A'  b'32G'  b'15cm'         33.0\n",
      "5    6  b'2 A'  b'32G'  b'15cm'         34.0\n",
      "6    7  b'2 A'  b'32G'  b'20cm'         39.0\n",
      "7    8  b'2 A'  b'32G'  b'20cm'         38.0\n",
      "8    9  b'3 A'  b'32G'  b'15cm'         40.0\n",
      "9   10  b'3 A'  b'32G'  b'15cm'         39.0\n",
      "10  11  b'3 A'  b'32G'  b'20cm'         46.0\n",
      "11  12  b'3 A'  b'32G'  b'20cm'         45.0\n",
      "12  13  b'1 A'  b'38G'  b'15cm'         31.0\n",
      "13  14  b'1 A'  b'38G'  b'15cm'         32.0\n",
      "14  15  b'1 A'  b'38G'  b'20cm'         38.0\n",
      "15  16  b'1 A'  b'38G'  b'20cm'         38.0\n",
      "16  17  b'2 A'  b'38G'  b'15cm'         34.0\n",
      "17  18  b'2 A'  b'38G'  b'15cm'         35.0\n",
      "18  19  b'2 A'  b'38G'  b'20cm'         43.0\n",
      "19  20  b'2 A'  b'38G'  b'20cm'         42.0\n",
      "20  21  b'3 A'  b'38G'  b'15cm'         41.0\n",
      "21  22  b'3 A'  b'38G'  b'15cm'         43.0\n",
      "22  23  b'3 A'  b'38G'  b'20cm'         49.0\n",
      "23  24  b'3 A'  b'38G'  b'20cm'         50.0\n"
     ]
    }
   ],
   "source": [
    "import pandas as pd\n",
    "import numpy as np\n",
    "\n",
    "# Put into dataframe\n",
    "dta2 = np.rec.array([\n",
    "    (  1,  '1 A', '32G', '15cm', 30), (  2,  '1 A', '32G', '15cm', 32) , (  3, '1 A', '32G', '20cm',36) , (  4,  '1 A', '32G','20cm', 37) , \n",
    "    (  5,  '2 A', '32G', '15cm', 33), (  6,  '2 A', '32G', '15cm', 34) , (  7, '2 A', '32G', '20cm',39) , (  8,  '2 A', '32G','20cm', 38) , \n",
    "    (  9,  '3 A', '32G', '15cm', 40), ( 10,  '3 A', '32G', '15cm', 39) , ( 11, '3 A', '32G', '20cm',46) , ( 12,  '3 A', '32G','20cm', 45) , \n",
    "    ( 13,  '1 A', '38G', '15cm', 31), ( 14,  '1 A', '38G', '15cm', 32) , ( 15, '1 A', '38G', '20cm',38) , ( 16,  '1 A', '38G','20cm', 38) , \n",
    "    ( 17,  '2 A', '38G', '15cm', 34), ( 18,  '2 A', '38G', '15cm', 35) , ( 19, '2 A', '38G', '20cm',43) , ( 20,  '2 A', '38G','20cm', 42) , \n",
    "    ( 21,  '3 A', '38G', '15cm', 41), ( 22,  '3 A', '38G', '15cm', 43) , ( 23, '3 A', '38G', '20cm',49) , ( 24,  '3 A', '38G','20cm', 50) ] , \n",
    "    dtype=[('id', '<i4'), ('Current', '|S17'), ('Gauge', '|S15'), ('Length', '|S15'), ('Temperature', '<f')])\n",
    "    \n",
    "df = pd.DataFrame(dta2)\n",
    "print(df)"
   ]
  },
  {
   "cell_type": "markdown",
   "metadata": {
    "slideshow": {
     "slide_type": "subslide"
    }
   },
   "source": [
    "We can use again the N-way ANOVA considering the right model.\n",
    "\n",
    "We will construct the **model** used accounts for **all** factors **as well as the interactions** (in our case the current, gauge and length). So when we construct as we already did before our model using **ols** we will need to use a *Current + Gauge + Length + (Current)(Gauge) + (Current)(Length) + (Gauge)(Length) + (Current)(Gauge)(Length)* model.\n",
    "\n",
    "And then running the ANOVA test and print the results:"
   ]
  },
  {
   "cell_type": "code",
   "execution_count": 16,
   "metadata": {
    "slideshow": {
     "slide_type": "subslide"
    }
   },
   "outputs": [
    {
     "name": "stdout",
     "output_type": "stream",
     "text": [
      "                          sum_sq    df           F        PR(>F)\n",
      "Current               410.083333   2.0  289.470588  7.011678e-11\n",
      "Gauge                  30.375000   1.0   42.882353  2.735540e-05\n",
      "Length                247.041667   1.0  348.764706  3.099839e-10\n",
      "Current:Gauge           5.250000   2.0    3.705882  5.580812e-02\n",
      "Current:Length          0.583333   2.0    0.411765  6.714939e-01\n",
      "Length:Gauge            5.041667   1.0    7.117647  2.049043e-02\n",
      "Current:Gauge:Length    1.083333   2.0    0.764706  4.868711e-01\n",
      "Residual                8.500000  12.0         NaN           NaN\n"
     ]
    }
   ],
   "source": [
    "import statsmodels.api as sm\n",
    "from statsmodels.formula.api import ols\n",
    "from statsmodels.stats.anova import anova_lm\n",
    "\n",
    "model = ols('Temperature ~ Current + Gauge + Length + Current:Gauge + Current:Length + Length:Gauge + Current:Gauge:Length ',df).fit()\n",
    "#this ensures it is a N-way ANOVA \n",
    "    \n",
    "anovaResults =  anova_lm(model, typ=2)\n",
    "\n",
    "print(anovaResults)"
   ]
  },
  {
   "cell_type": "markdown",
   "metadata": {
    "slideshow": {
     "slide_type": "subslide"
    }
   },
   "source": [
    "From these results we can conclude that all individual factors have an effect on the temperature, and there is one significant interaction:\n",
    "* Length and Gauge\n",
    "\n",
    "But all other interactions are not.\n",
    "\n",
    "Using Tukey HSD test we can determine trends for each of the factors and the combinations.\n",
    "\n",
    "First for the **Current**:"
   ]
  },
  {
   "cell_type": "code",
   "execution_count": 17,
   "metadata": {
    "slideshow": {
     "slide_type": "subslide"
    }
   },
   "outputs": [
    {
     "name": "stdout",
     "output_type": "stream",
     "text": [
      "Multiple Comparison of Means - Tukey HSD,FWER=0.05\n",
      "============================================\n",
      "group1 group2 meandiff lower   upper  reject\n",
      "--------------------------------------------\n",
      "b'1 A' b'2 A'   3.0    1.7564  4.2436  True \n",
      "b'1 A' b'3 A'  9.875   8.6314 11.1186  True \n",
      "b'2 A' b'3 A'  6.875   5.6314  8.1186  True \n",
      "--------------------------------------------\n",
      "p values: [0.001 0.001 0.001]\n"
     ]
    }
   ],
   "source": [
    "from statsmodels.stats.multicomp import MultiComparison\n",
    "\n",
    "#The multiple comparison testing is done between data without the average contribution from the other factors\n",
    "mc = MultiComparison(df['Temperature'] \n",
    "                     - df.groupby(dta2['Gauge'])['Temperature'].transform('mean')\n",
    "                     - df.groupby(dta2['Length'])['Temperature'].transform('mean'), df['Current'])\n",
    "\n",
    "tukey_res = mc.tukeyhsd()\n",
    "summary = tukey_res.summary()\n",
    "print(summary)\n",
    "\n",
    "#The p-values associated with those hypothesis\n",
    "from statsmodels.stats.libqsturng import psturng\n",
    "p_values = psturng(np.abs(tukey_res.meandiffs / tukey_res.std_pairs), len(tukey_res.groupsunique), tukey_res.df_total)\n",
    "print(\"p values:\", p_values)"
   ]
  },
  {
   "cell_type": "markdown",
   "metadata": {
    "slideshow": {
     "slide_type": "subslide"
    }
   },
   "source": [
    "Telling us as expected that all values have a significant difference (p<<0.001). Graphically we can easily see that the higher the current the higher the temperature:"
   ]
  },
  {
   "cell_type": "code",
   "execution_count": 32,
   "metadata": {
    "slideshow": {
     "slide_type": "fragment"
    }
   },
   "outputs": [
    {
     "data": {
      "image/png": "[encoded data removed]",
      "text/plain": [
       "<Figure size 720x432 with 1 Axes>"
      ]
     },
     "execution_count": 32,
     "metadata": {},
     "output_type": "execute_result"
    },
    {
     "data": {
      "image/png": "[encoded data removed]",
      "text/plain": [
       "<Figure size 720x432 with 1 Axes>"
      ]
     },
     "metadata": {
      "needs_background": "light"
     },
     "output_type": "display_data"
    }
   ],
   "source": [
    "tukey_res.plot_simultaneous(ylabel= \"Current\", xlabel= \"Temperature\")"
   ]
  },
  {
   "cell_type": "markdown",
   "metadata": {
    "slideshow": {
     "slide_type": "subslide"
    }
   },
   "source": [
    "For the **Gauge**:"
   ]
  },
  {
   "cell_type": "code",
   "execution_count": 18,
   "metadata": {
    "slideshow": {
     "slide_type": "subslide"
    }
   },
   "outputs": [
    {
     "name": "stdout",
     "output_type": "stream",
     "text": [
      "Multiple Comparison of Means - Tukey HSD,FWER=0.05\n",
      "===========================================\n",
      "group1 group2 meandiff lower  upper  reject\n",
      "-------------------------------------------\n",
      "b'32G' b'38G'   2.25   1.4335 3.0665  True \n",
      "-------------------------------------------\n",
      "p values: 0.001\n"
     ]
    }
   ],
   "source": [
    "from statsmodels.stats.multicomp import MultiComparison\n",
    "\n",
    "#The multiple comparison testing is done between data without the average contribution from the other factors\n",
    "mc = MultiComparison(df['Temperature'] \n",
    "                     - df.groupby(dta2['Current'])['Temperature'].transform('mean')\n",
    "                     - df.groupby(dta2['Length'])['Temperature'].transform('mean'), df['Gauge'])\n",
    "\n",
    "tukey_res = mc.tukeyhsd()\n",
    "summary = tukey_res.summary()\n",
    "print(summary)\n",
    "\n",
    "#The p-values associated with those hypothesis\n",
    "from statsmodels.stats.libqsturng import psturng\n",
    "p_values = psturng(np.abs(tukey_res.meandiffs / tukey_res.std_pairs), len(tukey_res.groupsunique), tukey_res.df_total)\n",
    "print(\"p values:\", p_values)"
   ]
  },
  {
   "cell_type": "markdown",
   "metadata": {
    "slideshow": {
     "slide_type": "subslide"
    }
   },
   "source": [
    "Different gauge does give different temperatures. Graphically the **plot_simultaneous** function fails when there is less than two rows as in our case. \n",
    "\n",
    "I have implemented the function here (using errorbar)."
   ]
  },
  {
   "cell_type": "code",
   "execution_count": 34,
   "metadata": {
    "slideshow": {
     "slide_type": "fragment"
    }
   },
   "outputs": [
    {
     "data": {
      "image/png": "[encoded data removed]",
      "text/plain": [
       "<Figure size 432x288 with 1 Axes>"
      ]
     },
     "metadata": {
      "needs_background": "light"
     },
     "output_type": "display_data"
    }
   ],
   "source": [
    "import matplotlib.pyplot as plt\n",
    "\n",
    "grouped = df.groupby(dta2['Gauge'])\n",
    "A32G=grouped.get_group('32G'.encode('UTF-8'))['Temperature']\n",
    "A38G=grouped.get_group('38G'.encode('UTF-8'))['Temperature']\n",
    "\n",
    "plt.errorbar([np.mean(A32G), np.mean(A38G)], ['32G', '38G'], xerr=[tukey_res.std_pairs[0], tukey_res.std_pairs[0]], marker='o', linestyle='None', color='k', ecolor='k')\n",
    "plt.ylabel('Gauge')\n",
    "plt.xlabel('Temperature')\n",
    "plt.show()"
   ]
  },
  {
   "cell_type": "markdown",
   "metadata": {
    "slideshow": {
     "slide_type": "subslide"
    }
   },
   "source": [
    "Finally the effect of the Length:"
   ]
  },
  {
   "cell_type": "code",
   "execution_count": 19,
   "metadata": {
    "slideshow": {
     "slide_type": "subslide"
    }
   },
   "outputs": [
    {
     "name": "stdout",
     "output_type": "stream",
     "text": [
      "Multiple Comparison of Means - Tukey HSD,FWER=0.05\n",
      "=============================================\n",
      " group1  group2 meandiff lower  upper  reject\n",
      "---------------------------------------------\n",
      "b'15cm' b'20cm'  6.4167  5.6002 7.2331  True \n",
      "---------------------------------------------\n",
      "p values: 0.001\n"
     ]
    }
   ],
   "source": [
    "from statsmodels.stats.multicomp import MultiComparison\n",
    "\n",
    "#The multiple comparison testing is done between data without the average contribution from the other factors\n",
    "mc = MultiComparison(df['Temperature'] \n",
    "                     - df.groupby(dta2['Current'])['Temperature'].transform('mean')\n",
    "                     - df.groupby(dta2['Gauge'])['Temperature'].transform('mean'), df['Length'])\n",
    "\n",
    "tukey_res = mc.tukeyhsd()\n",
    "summary = tukey_res.summary()\n",
    "print(summary)\n",
    "\n",
    "#The p-values associated with those hypothesis\n",
    "from statsmodels.stats.libqsturng import psturng\n",
    "p_values = psturng(np.abs(tukey_res.meandiffs / tukey_res.std_pairs), len(tukey_res.groupsunique), tukey_res.df_total)\n",
    "print(\"p values:\", p_values)"
   ]
  },
  {
   "cell_type": "code",
   "execution_count": 36,
   "metadata": {
    "slideshow": {
     "slide_type": "subslide"
    }
   },
   "outputs": [
    {
     "data": {
      "image/png": "[encoded data removed]",
      "text/plain": [
       "<Figure size 432x288 with 1 Axes>"
      ]
     },
     "metadata": {
      "needs_background": "light"
     },
     "output_type": "display_data"
    }
   ],
   "source": [
    "import matplotlib.pyplot as plt\n",
    "\n",
    "grouped = df.groupby(dta2['Length'])\n",
    "A15=grouped.get_group('15cm'.encode('UTF-8'))['Temperature']\n",
    "A20=grouped.get_group('20cm'.encode('UTF-8'))['Temperature']\n",
    "\n",
    "plt.errorbar([np.mean(A32G), np.mean(A38G)], ['15cm', '20cm'], xerr=[tukey_res.std_pairs[0], tukey_res.std_pairs[0]], marker='o', linestyle='None', color='k', ecolor='k')\n",
    "plt.ylabel('Length')\n",
    "plt.xlabel('Temperature')\n",
    "plt.show()"
   ]
  },
  {
   "cell_type": "markdown",
   "metadata": {
    "slideshow": {
     "slide_type": "slide"
    }
   },
   "source": [
    "## Statistical Power\n",
    "\n",
    "As for other ANOVA tests we can do power calculations. There are no readily available tools to calculate the power of a factorial design  to answer:\n",
    "\n",
    "1. How sure am I that if I was correct in **not** rejecting the null hypothesis? **Type II error**\n",
    "2. How many samples would I have needed if I wanted to detect a specific difference\n",
    "\n",
    "We can use the ROC graphs ensuring we use the right degrees of freedom, or we can use the functions in Python.\n",
    "\n",
    "Note that the degrees of freedom are in the ANOVA table, the numerator is related to the factor of interest, the denominator to the *Residual*. Also note that if you erroneously used a 1-way ANOVA or combined the data, those degrees of freedom will be erroneous as well !"
   ]
  },
  {
   "cell_type": "markdown",
   "metadata": {
    "slideshow": {
     "slide_type": "subslide"
    }
   },
   "source": [
    "For power calculations we will need to calculate the **effect size**, which is defined by the $\\eta^2$. We will calculate this value here for the whole table. \n",
    "\n",
    "Note that for each factor this is obtained from:\n",
    "\n",
    "$$\\eta^2=\\frac{SS_{factor}}{SS_{factor}+SS_{error}}$$\n",
    "\n",
    "Remember the $SS_{error}$ is the *Residual*\n",
    "\n",
    "We will calculate $\\eta^2$ for each of the factors."
   ]
  },
  {
   "cell_type": "code",
   "execution_count": 20,
   "metadata": {
    "slideshow": {
     "slide_type": "subslide"
    }
   },
   "outputs": [
    {
     "name": "stdout",
     "output_type": "stream",
     "text": [
      "                          sum_sq    df           F        PR(>F)    eta_sq\n",
      "Current               410.083333   2.0  289.470588  7.011678e-11  0.979693\n",
      "Gauge                  30.375000   1.0   42.882353  2.735540e-05  0.781350\n",
      "Length                247.041667   1.0  348.764706  3.099839e-10  0.966737\n",
      "Current:Gauge           5.250000   2.0    3.705882  5.580812e-02  0.381818\n",
      "Current:Length          0.583333   2.0    0.411765  6.714939e-01  0.064220\n",
      "Length:Gauge            5.041667   1.0    7.117647  2.049043e-02  0.372308\n",
      "Current:Gauge:Length    1.083333   2.0    0.764706  4.868711e-01  0.113043\n",
      "Residual                8.500000  12.0         NaN           NaN       NaN\n"
     ]
    }
   ],
   "source": [
    "# We first extract SS_error from the ANOVA table\n",
    "SS_error = anovaResults[-1:]['sum_sq'][0]   # the last row is -1 and it is the Residuals\n",
    "\n",
    "# Then calculate eta_sqare with the formula for all factors (0:one less of the total rows as those are Resiguals)\n",
    "eta_sq = anovaResults[0:len(anovaResults)-1]['sum_sq']/(anovaResults[0:len(anovaResults)-1]['sum_sq']+SS_error)\n",
    "\n",
    "# This code will add a column to the ANOVA results with the EtaSquare \n",
    "anovaResults['eta_sq'] = eta_sq\n",
    "\n",
    "print(anovaResults)\n"
   ]
  },
  {
   "cell_type": "markdown",
   "metadata": {
    "slideshow": {
     "slide_type": "subslide"
    }
   },
   "source": [
    "With the effect size $\\eta^2$ can be then used to perform a ANOVA Power test. \n",
    "\n",
    "Note that for now, Python **does not** have a power calculation function that accounts for more than one effect so we will use again **R. R** is a great tool for statistics although it requires often quite a bit of training to use as they use often statistic terms. But if you have the name of the function to run you can invoke it from Python.\n",
    "\n",
    "For factorial design R does not have a specific power calculation but a sample calculation can also give us a good answer. If we have enough samples to achieve a power of 80% we are in a good position. In this case we **do not** have this power for interactions, but we do have it for individual effects:"
   ]
  },
  {
   "cell_type": "code",
   "execution_count": 30,
   "metadata": {
    "scrolled": true,
    "slideshow": {
     "slide_type": "subslide"
    }
   },
   "outputs": [
    {
     "name": "stdout",
     "output_type": "stream",
     "text": [
      "The rpy2.ipython extension is already loaded. To reload it, use:\n",
      "  %reload_ext rpy2.ipython\n",
      "\n",
      "\r\n",
      "Treatment: Current*Gauge\n",
      "\r\n",
      "Effect Size: 0.381818\n",
      "\r\n",
      "Total N: 28\n",
      "\r\n",
      "n per cell: 3\n",
      "\r\n",
      "\n",
      "\n"
     ]
    }
   ],
   "source": [
    "# We first export a package rpy2 that allows to run R within Python\n",
    "%load_ext rpy2.ipython\n",
    "# and the robject that will let me invoke R objects\n",
    "import rpy2.robjects as robjects\n",
    "\n",
    "#finally, I prepare myself the string that will be passed to run to R\n",
    "#note that I will manually enter here for simplicity the values \n",
    "rstring=\"\"\"\n",
    "library(easypower)\n",
    "main.eff.1 <- list(name = \"Current\", levels = 3, eta.sq = 0.979693)\n",
    "main.eff.2 <- list(name = \"Gauge\", levels = 2, eta.sq = 0.781350)\n",
    "main.eff.3 <- list(name = \"Length\", levels = 2, eta.sq = 0.966737)\n",
    "n.multiway(iv1=main.eff.1, iv2=main.eff.2, iv3=main.eff.3, interaction.eta2 = 0.381818, result=\"highest\", sig.level = 0.05, power = 0.8)\n",
    "\"\"\" #quick note for this multiway, the highest parameter is giving us the maximum number of samples required\n",
    "\n",
    "#and invoke R\n",
    "rfunc=robjects.r(rstring)\n",
    "#finally, I print what R obtained as a result\n",
    "print(rfunc)"
   ]
  },
  {
   "cell_type": "markdown",
   "metadata": {
    "slideshow": {
     "slide_type": "subslide"
    }
   },
   "source": [
    "R is telling us that to have a power of 80% and a significance of 95% we then need to have 3 samples per cell if we want to detect interactions at that power, but if you only need the main effect the power is 80%. \n",
    "\n",
    "\n",
    "## Activity: determine what is the number of samples per cell you need to be sure you can detect all interactions"
   ]
  },
  {
   "cell_type": "markdown",
   "metadata": {
    "slideshow": {
     "slide_type": "slide"
    }
   },
   "source": [
    "## Fitting Data\n",
    "\n",
    "One final concept to review in factorial design is the **$R^2$**. This tells us the probability that the model we have determined is indeed explained by the factors and interactions we found to be significant.\n",
    "\n",
    "$$R^2 = \\frac{SS_{factor1} + SS_{factor2} + ... + SS_{factorp} + SS_{interactions}}{SS_{total}}$$\n",
    "\n",
    "We can obtain from the ANOVA results those values and calculate $R^2$"
   ]
  },
  {
   "cell_type": "code",
   "execution_count": 31,
   "metadata": {
    "slideshow": {
     "slide_type": "subslide"
    }
   },
   "outputs": [
    {
     "name": "stdout",
     "output_type": "stream",
     "text": [
      "0.9879936436937203\n"
     ]
    }
   ],
   "source": [
    "SS_nominator = np.sum(anovaResults[:-1]['sum_sq'] )\n",
    "SS_total = np.sum(anovaResults[:]['sum_sq'])  #Note the total includes residual\n",
    "\n",
    "R_square = SS_nominator/SS_total\n",
    "\n",
    "print(R_square)"
   ]
  },
  {
   "cell_type": "markdown",
   "metadata": {
    "slideshow": {
     "slide_type": "fragment"
    }
   },
   "source": [
    "Telling us that there is a 98.8%  probability that the variability in temperature is explained by the current, gauge and length considering interaction between those factors."
   ]
  },
  {
   "cell_type": "markdown",
   "metadata": {
    "slideshow": {
     "slide_type": "subslide"
    }
   },
   "source": [
    "Finally, the **statsmodels** package that we have used for ANOVA can also provide us with a fit information for the factorial design. \n",
    "\n",
    "We already had fitted the model using *ols*, so we can print a summary of that model and inspect the result.\n",
    "\n",
    "But at that time we had discovered that some of the combinations were **not** significant (actually, only length:gauge was significant as a combination). We will need to then eliminate from the model those features we know are not significant.\n",
    "\n",
    "We will then finalize the fit analysis."
   ]
  },
  {
   "cell_type": "code",
   "execution_count": 32,
   "metadata": {
    "slideshow": {
     "slide_type": "subslide"
    }
   },
   "outputs": [
    {
     "name": "stdout",
     "output_type": "stream",
     "text": [
      "                            OLS Regression Results                            \n",
      "==============================================================================\n",
      "Dep. Variable:            Temperature   R-squared:                       0.988\n",
      "Model:                            OLS   Adj. R-squared:                  0.977\n",
      "Method:                 Least Squares   F-statistic:                     89.77\n",
      "Date:                Tue, 17 Nov 2020   Prob (F-statistic):           9.03e-10\n",
      "Time:                        12:05:53   Log-Likelihood:                -21.599\n",
      "No. Observations:                  24   AIC:                             67.20\n",
      "Df Residuals:                      12   BIC:                             81.33\n",
      "Df Model:                          11                                         \n",
      "Covariance Type:            nonrobust                                         \n",
      "==============================================================================================================\n",
      "                                                 coef    std err          t      P>|t|      [0.025      0.975]\n",
      "--------------------------------------------------------------------------------------------------------------\n",
      "Intercept                                     31.0000      0.595     52.090      0.000      29.703      32.297\n",
      "Current[T.2 A]                                 2.5000      0.842      2.970      0.012       0.666       4.334\n",
      "Current[T.3 A]                                 8.5000      0.842     10.100      0.000       6.666      10.334\n",
      "Gauge[T.38G]                                   0.5000      0.842      0.594      0.563      -1.334       2.334\n",
      "Length[T.20cm]                                 5.5000      0.842      6.535      0.000       3.666       7.334\n",
      "Current[T.2 A]:Gauge[T.38G]                    0.5000      1.190      0.420      0.682      -2.093       3.093\n",
      "Current[T.3 A]:Gauge[T.38G]                    2.0000      1.190      1.680      0.119      -0.593       4.593\n",
      "Current[T.2 A]:Length[T.20cm]                 -0.5000      1.190     -0.420      0.682      -3.093       2.093\n",
      "Current[T.3 A]:Length[T.20cm]                  0.5000      1.190      0.420      0.682      -2.093       3.093\n",
      "Gauge[T.38G]:Length[T.20cm]                    1.0000      1.190      0.840      0.417      -1.593       3.593\n",
      "Current[T.2 A]:Gauge[T.38G]:Length[T.20cm]     2.0000      1.683      1.188      0.258      -1.667       5.667\n",
      "Current[T.3 A]:Gauge[T.38G]:Length[T.20cm]     0.5000      1.683      0.297      0.772      -3.167       4.167\n",
      "==============================================================================\n",
      "Omnibus:                        5.404   Durbin-Watson:                   2.971\n",
      "Prob(Omnibus):                  0.067   Jarque-Bera (JB):                1.684\n",
      "Skew:                          -0.000   Prob(JB):                        0.431\n",
      "Kurtosis:                       1.702   Cond. No.                         25.6\n",
      "==============================================================================\n",
      "\n",
      "Warnings:\n",
      "[1] Standard Errors assume that the covariance matrix of the errors is correctly specified.\n"
     ]
    }
   ],
   "source": [
    "modelFit = ols('Temperature ~ Current + Gauge + Length + Current:Gauge + Current:Length + Gauge:Length + Current:Gauge:Length',df).fit()\n",
    "#this ensures it is a N-way ANOVA \n",
    "\n",
    "print(modelFit.summary())"
   ]
  },
  {
   "cell_type": "markdown",
   "metadata": {
    "slideshow": {
     "slide_type": "subslide"
    }
   },
   "source": [
    "We can observe:\n",
    "\n",
    "1. $R^2$ value in here as well and indicates a very good fit\n",
    "2. The adjusted $R^2$ being close to the $R^2$ indicates that accounting for the number of samples this is still a good fit\n",
    "3. Our $F$ and the associated $p$ indicates that we can be quite confident that our model is linear $p<<0.001$\n",
    "4. Going feature by feature we see that the ones that are really significant are *current*, *gauge* and *length* but none of the interactions are. **Note that this wil not be equivalent to ANOVA as these are pairwise T-Tests that are used for modeling**. We will then favour the use of those features to predict new responses but not interactions."
   ]
  },
  {
   "cell_type": "markdown",
   "metadata": {
    "slideshow": {
     "slide_type": "subslide"
    }
   },
   "source": [
    "To make predictions we can use the table coefficients.\n",
    "\n",
    "Remember that the model is working with categorical variables. This means the model looks like this for a prediction with $2 A$, $32G$ and $20 cm$:\n",
    "\n",
    "$$Temperature = Intercept + coef(Current[T.2 A]) + coef(Length[T.20cm] =$$\n",
    "$$31 + 2.5 + 5.5 = 39^oC$$\n",
    "\n",
    "We don't add any other coefficient that indicate they are not significant, and we don't add the coefficient for $32G$ as that is not listed because it was considered in the intercept."
   ]
  },
  {
   "cell_type": "markdown",
   "metadata": {
    "slideshow": {
     "slide_type": "subslide"
    }
   },
   "source": [
    "## Activity: make a prediction showing the equation for 1A, 38G and 20cm"
   ]
  },
  {
   "cell_type": "markdown",
   "metadata": {
    "slideshow": {
     "slide_type": "slide"
    }
   },
   "source": [
    "## Summary"
   ]
  },
  {
   "cell_type": "markdown",
   "metadata": {
    "slideshow": {
     "slide_type": "subslide"
    }
   },
   "source": [
    "In this example:\n",
    "\n",
    "1. We introduced the factorial design method to determine two or more factors and their interactions\n",
    "2. We discused the use of multiple samples per combination to study interactions between factors\n",
    "3. We applied a N-way ANOVA to analyse the results from factorial design\n",
    "4. We analysed the results from an ANOVA table to evaluate which factors or combinations are significantly affecting our output variable\n",
    "5. We evaluated the minimum sample size to achieve power in a factorial design\n",
    "6. We introduced the use of linear models to predict our data"
   ]
  },
  {
   "cell_type": "markdown",
   "metadata": {
    "slideshow": {
     "slide_type": "skip"
    }
   },
   "source": [
    "References\n",
    "---------------\n",
    "\n",
    "* Montgomery, Douglas C. \"Design and analysis of experiments. John Wiley & Sons.\" Inc., New York 1997 (2001)."
   ]
  }
 ],
 "metadata": {
  "celltoolbar": "Slideshow",
  "kernelspec": {
   "display_name": "Python 3",
   "language": "python",
   "name": "python3"
  },
  "language_info": {
   "codemirror_mode": {
    "name": "ipython",
    "version": 3
   },
   "file_extension": ".py",
   "mimetype": "text/x-python",
   "name": "python",
   "nbconvert_exporter": "python",
   "pygments_lexer": "ipython3",
   "version": "3.7.1"
  }
 },
 "nbformat": 4,
 "nbformat_minor": 1
}
